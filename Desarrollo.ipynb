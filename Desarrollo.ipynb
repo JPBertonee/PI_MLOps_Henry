{
 "cells": [
  {
   "cell_type": "markdown",
   "metadata": {},
   "source": [
    "# **PROYECTO INDIVIDUAL 1**\n",
    "## Machine Learning Operations (MLOps)"
   ]
  },
  {
   "cell_type": "markdown",
   "metadata": {},
   "source": [
    "## Índice de contenido::\n",
    "\n",
    "1. Ingesta de datos\n",
    "\n",
    "2. Tratamiento de datos - ETL \n",
    "\n",
    "3. Feature Engineering\n",
    "\n",
    "4. Funciones y disponibiliación de datos \n",
    "\n",
    "5. Análisis exploratorio de datos\n",
    "\n",
    "6. Modelamiento (Machine Learning Model Development)"
   ]
  },
  {
   "cell_type": "markdown",
   "metadata": {
    "tags": [
     "Ingesta de datos"
    ]
   },
   "source": [
    "# 1. **Ingesta de datos**\n",
    "***"
   ]
  },
  {
   "cell_type": "markdown",
   "metadata": {},
   "source": [
    "## 1.1 Importamos librerías"
   ]
  },
  {
   "cell_type": "markdown",
   "metadata": {},
   "source": [
    "Importamos las librerias que vamos a usar durante el desarrollo del proyecto."
   ]
  },
  {
   "cell_type": "code",
   "execution_count": 1,
   "metadata": {},
   "outputs": [],
   "source": [
    "import pandas as pd \n",
    "import numpy as np\n",
    "import json\n",
    "import gzip\n",
    "import ast\n",
    "import pyarrow as pa\n",
    "import pyarrow.parquet as pq\n",
    "import fastparquet as fp"
   ]
  },
  {
   "cell_type": "markdown",
   "metadata": {},
   "source": [
    "## 1.2 Leemos los datos"
   ]
  },
  {
   "cell_type": "markdown",
   "metadata": {},
   "source": [
    "Utilizaremos 3 archivos: steam_games, user_reviews y users_items. "
   ]
  },
  {
   "cell_type": "code",
   "execution_count": 2,
   "metadata": {},
   "outputs": [],
   "source": [
    "ruta1 = '/Users/jpbertone/Documents/Henry Course/Labs/dataPI_MLOps/steam_games.json'\n",
    "ruta2 = '/Users/jpbertone/Documents/Henry Course/Labs/dataPI_MLOps/user_reviews.json.gz'\n",
    "ruta3 = '/Users/jpbertone/Documents/Henry Course/Labs/dataPI_MLOps/users_items.json.gz'"
   ]
  },
  {
   "cell_type": "markdown",
   "metadata": {},
   "source": [
    "Descripción de los datasets:\n",
    "\n",
    "1. **steam_games:** información relacionada a los juegos dentro de la plataforma Steam. Por ejemplo: Nombre del juego, género, fecha de lanzamiento, entre otras. \n",
    "\n",
    "2. **user_reviews:** información que detalla las reviews realizadas por los usuarios de la plataforma Steam.\n",
    "\n",
    "3. **users_items:** información acerca de la actividad de los usuarios dentro de la plataforma Steam."
   ]
  },
  {
   "cell_type": "markdown",
   "metadata": {},
   "source": [
    "- ### 1.2.1 **steam_games**"
   ]
  },
  {
   "cell_type": "markdown",
   "metadata": {},
   "source": [
    "Mediante el uso de Pandas, leemos el archivo 'steam_games' y lo asignamos a un nombre identificatorio."
   ]
  },
  {
   "cell_type": "code",
   "execution_count": 3,
   "metadata": {},
   "outputs": [],
   "source": [
    "df_games = pd.read_json(ruta1, lines=True)"
   ]
  },
  {
   "cell_type": "code",
   "execution_count": 4,
   "metadata": {},
   "outputs": [
    {
     "data": {
      "text/html": [
       "<div>\n",
       "<style scoped>\n",
       "    .dataframe tbody tr th:only-of-type {\n",
       "        vertical-align: middle;\n",
       "    }\n",
       "\n",
       "    .dataframe tbody tr th {\n",
       "        vertical-align: top;\n",
       "    }\n",
       "\n",
       "    .dataframe thead th {\n",
       "        text-align: right;\n",
       "    }\n",
       "</style>\n",
       "<table border=\"1\" class=\"dataframe\">\n",
       "  <thead>\n",
       "    <tr style=\"text-align: right;\">\n",
       "      <th></th>\n",
       "      <th>publisher</th>\n",
       "      <th>genres</th>\n",
       "      <th>app_name</th>\n",
       "      <th>title</th>\n",
       "      <th>url</th>\n",
       "      <th>release_date</th>\n",
       "      <th>tags</th>\n",
       "      <th>reviews_url</th>\n",
       "      <th>discount_price</th>\n",
       "      <th>specs</th>\n",
       "      <th>price</th>\n",
       "      <th>early_access</th>\n",
       "      <th>id</th>\n",
       "      <th>metascore</th>\n",
       "      <th>developer</th>\n",
       "      <th>user_id</th>\n",
       "      <th>steam_id</th>\n",
       "      <th>items</th>\n",
       "      <th>items_count</th>\n",
       "    </tr>\n",
       "  </thead>\n",
       "  <tbody>\n",
       "    <tr>\n",
       "      <th>120442</th>\n",
       "      <td>Laush Studio</td>\n",
       "      <td>[Indie, Racing, Simulation]</td>\n",
       "      <td>Russian Roads</td>\n",
       "      <td>Russian Roads</td>\n",
       "      <td>http://store.steampowered.com/app/610660/Russi...</td>\n",
       "      <td>2018-01-04</td>\n",
       "      <td>[Indie, Simulation, Racing]</td>\n",
       "      <td>http://steamcommunity.com/app/610660/reviews/?...</td>\n",
       "      <td>1.39</td>\n",
       "      <td>[Single-player, Steam Achievements, Steam Trad...</td>\n",
       "      <td>1.99</td>\n",
       "      <td>0.0</td>\n",
       "      <td>610660.0</td>\n",
       "      <td>None</td>\n",
       "      <td>Laush Dmitriy Sergeevich</td>\n",
       "      <td>None</td>\n",
       "      <td>NaN</td>\n",
       "      <td>None</td>\n",
       "      <td>NaN</td>\n",
       "    </tr>\n",
       "    <tr>\n",
       "      <th>120443</th>\n",
       "      <td>SIXNAILS</td>\n",
       "      <td>[Casual, Indie]</td>\n",
       "      <td>EXIT 2 - Directions</td>\n",
       "      <td>EXIT 2 - Directions</td>\n",
       "      <td>http://store.steampowered.com/app/658870/EXIT_...</td>\n",
       "      <td>2017-09-02</td>\n",
       "      <td>[Indie, Casual, Puzzle, Singleplayer, Atmosphe...</td>\n",
       "      <td>http://steamcommunity.com/app/658870/reviews/?...</td>\n",
       "      <td>NaN</td>\n",
       "      <td>[Single-player, Steam Achievements, Steam Cloud]</td>\n",
       "      <td>4.99</td>\n",
       "      <td>0.0</td>\n",
       "      <td>658870.0</td>\n",
       "      <td>None</td>\n",
       "      <td>xropi,stev3ns</td>\n",
       "      <td>None</td>\n",
       "      <td>NaN</td>\n",
       "      <td>None</td>\n",
       "      <td>NaN</td>\n",
       "    </tr>\n",
       "    <tr>\n",
       "      <th>120444</th>\n",
       "      <td>None</td>\n",
       "      <td>None</td>\n",
       "      <td>Maze Run VR</td>\n",
       "      <td>None</td>\n",
       "      <td>http://store.steampowered.com/app/681550/Maze_...</td>\n",
       "      <td>None</td>\n",
       "      <td>[Early Access, Adventure, Indie, Action, Simul...</td>\n",
       "      <td>http://steamcommunity.com/app/681550/reviews/?...</td>\n",
       "      <td>NaN</td>\n",
       "      <td>[Single-player, Stats, Steam Leaderboards, HTC...</td>\n",
       "      <td>4.99</td>\n",
       "      <td>1.0</td>\n",
       "      <td>681550.0</td>\n",
       "      <td>None</td>\n",
       "      <td>None</td>\n",
       "      <td>None</td>\n",
       "      <td>NaN</td>\n",
       "      <td>None</td>\n",
       "      <td>NaN</td>\n",
       "    </tr>\n",
       "  </tbody>\n",
       "</table>\n",
       "</div>"
      ],
      "text/plain": [
       "           publisher                       genres             app_name  \\\n",
       "120442  Laush Studio  [Indie, Racing, Simulation]        Russian Roads   \n",
       "120443      SIXNAILS              [Casual, Indie]  EXIT 2 - Directions   \n",
       "120444          None                         None          Maze Run VR   \n",
       "\n",
       "                      title  \\\n",
       "120442        Russian Roads   \n",
       "120443  EXIT 2 - Directions   \n",
       "120444                 None   \n",
       "\n",
       "                                                      url release_date  \\\n",
       "120442  http://store.steampowered.com/app/610660/Russi...   2018-01-04   \n",
       "120443  http://store.steampowered.com/app/658870/EXIT_...   2017-09-02   \n",
       "120444  http://store.steampowered.com/app/681550/Maze_...         None   \n",
       "\n",
       "                                                     tags  \\\n",
       "120442                        [Indie, Simulation, Racing]   \n",
       "120443  [Indie, Casual, Puzzle, Singleplayer, Atmosphe...   \n",
       "120444  [Early Access, Adventure, Indie, Action, Simul...   \n",
       "\n",
       "                                              reviews_url  discount_price  \\\n",
       "120442  http://steamcommunity.com/app/610660/reviews/?...            1.39   \n",
       "120443  http://steamcommunity.com/app/658870/reviews/?...             NaN   \n",
       "120444  http://steamcommunity.com/app/681550/reviews/?...             NaN   \n",
       "\n",
       "                                                    specs price  early_access  \\\n",
       "120442  [Single-player, Steam Achievements, Steam Trad...  1.99           0.0   \n",
       "120443   [Single-player, Steam Achievements, Steam Cloud]  4.99           0.0   \n",
       "120444  [Single-player, Stats, Steam Leaderboards, HTC...  4.99           1.0   \n",
       "\n",
       "              id metascore                 developer user_id  steam_id items  \\\n",
       "120442  610660.0      None  Laush Dmitriy Sergeevich    None       NaN  None   \n",
       "120443  658870.0      None             xropi,stev3ns    None       NaN  None   \n",
       "120444  681550.0      None                      None    None       NaN  None   \n",
       "\n",
       "        items_count  \n",
       "120442          NaN  \n",
       "120443          NaN  \n",
       "120444          NaN  "
      ]
     },
     "execution_count": 4,
     "metadata": {},
     "output_type": "execute_result"
    }
   ],
   "source": [
    "df_games.tail(3)"
   ]
  },
  {
   "cell_type": "markdown",
   "metadata": {},
   "source": [
    "- ### 1.2.2 **user_reviews**"
   ]
  },
  {
   "cell_type": "markdown",
   "metadata": {},
   "source": [
    "Para leer los archivos user_reviews y users_items, utilizamos otro método.\n",
    "\n",
    "A diferencia del dataset anterior el cual se encuentra formato **.json**, en este caso abrimos un archivo **.json** comprimido en formato **.gzip**\n",
    "\n",
    "Se tomó la decisión de leerlo de otra manera dado que estos dos datasets presentan una estructura **.json** distinta aa acpetada por el comando pd.read_json. Esas diferencias son, en su gran mayoría, el uso de comillas simples en vez de dobles. \n",
    "\n",
    "Para lograr leer el archivo seguimos los siguientes pasos:"
   ]
  },
  {
   "cell_type": "code",
   "execution_count": 5,
   "metadata": {},
   "outputs": [],
   "source": [
    "info = [] # Creamos una lista vacia donde guardaremos los registros del archivo .json\n",
    "\n",
    "# Iteramos sobre los registros del archivo y con <ast.literal_eval> de forma segura una expresión\n",
    "# literal que está representada como una cadena de caracteres.\n",
    "for i in gzip.open(ruta2):\n",
    "     info.append(ast.literal_eval(i.decode('utf-8')))\n",
    "     \n",
    "df_reviews = pd.DataFrame(info) "
   ]
  },
  {
   "cell_type": "code",
   "execution_count": 6,
   "metadata": {},
   "outputs": [
    {
     "data": {
      "text/html": [
       "<div>\n",
       "<style scoped>\n",
       "    .dataframe tbody tr th:only-of-type {\n",
       "        vertical-align: middle;\n",
       "    }\n",
       "\n",
       "    .dataframe tbody tr th {\n",
       "        vertical-align: top;\n",
       "    }\n",
       "\n",
       "    .dataframe thead th {\n",
       "        text-align: right;\n",
       "    }\n",
       "</style>\n",
       "<table border=\"1\" class=\"dataframe\">\n",
       "  <thead>\n",
       "    <tr style=\"text-align: right;\">\n",
       "      <th></th>\n",
       "      <th>user_id</th>\n",
       "      <th>user_url</th>\n",
       "      <th>reviews</th>\n",
       "    </tr>\n",
       "  </thead>\n",
       "  <tbody>\n",
       "    <tr>\n",
       "      <th>0</th>\n",
       "      <td>76561197970982479</td>\n",
       "      <td>http://steamcommunity.com/profiles/76561197970...</td>\n",
       "      <td>[{'funny': '', 'posted': 'Posted November 5, 2...</td>\n",
       "    </tr>\n",
       "    <tr>\n",
       "      <th>1</th>\n",
       "      <td>js41637</td>\n",
       "      <td>http://steamcommunity.com/id/js41637</td>\n",
       "      <td>[{'funny': '', 'posted': 'Posted June 24, 2014...</td>\n",
       "    </tr>\n",
       "    <tr>\n",
       "      <th>2</th>\n",
       "      <td>evcentric</td>\n",
       "      <td>http://steamcommunity.com/id/evcentric</td>\n",
       "      <td>[{'funny': '', 'posted': 'Posted February 3.',...</td>\n",
       "    </tr>\n",
       "    <tr>\n",
       "      <th>3</th>\n",
       "      <td>doctr</td>\n",
       "      <td>http://steamcommunity.com/id/doctr</td>\n",
       "      <td>[{'funny': '', 'posted': 'Posted October 14, 2...</td>\n",
       "    </tr>\n",
       "    <tr>\n",
       "      <th>4</th>\n",
       "      <td>maplemage</td>\n",
       "      <td>http://steamcommunity.com/id/maplemage</td>\n",
       "      <td>[{'funny': '3 people found this review funny',...</td>\n",
       "    </tr>\n",
       "  </tbody>\n",
       "</table>\n",
       "</div>"
      ],
      "text/plain": [
       "             user_id                                           user_url  \\\n",
       "0  76561197970982479  http://steamcommunity.com/profiles/76561197970...   \n",
       "1            js41637               http://steamcommunity.com/id/js41637   \n",
       "2          evcentric             http://steamcommunity.com/id/evcentric   \n",
       "3              doctr                 http://steamcommunity.com/id/doctr   \n",
       "4          maplemage             http://steamcommunity.com/id/maplemage   \n",
       "\n",
       "                                             reviews  \n",
       "0  [{'funny': '', 'posted': 'Posted November 5, 2...  \n",
       "1  [{'funny': '', 'posted': 'Posted June 24, 2014...  \n",
       "2  [{'funny': '', 'posted': 'Posted February 3.',...  \n",
       "3  [{'funny': '', 'posted': 'Posted October 14, 2...  \n",
       "4  [{'funny': '3 people found this review funny',...  "
      ]
     },
     "execution_count": 6,
     "metadata": {},
     "output_type": "execute_result"
    }
   ],
   "source": [
    "df_reviews.head(5)"
   ]
  },
  {
   "cell_type": "markdown",
   "metadata": {},
   "source": [
    "- ### 1.2.3 **users_items**"
   ]
  },
  {
   "cell_type": "code",
   "execution_count": 7,
   "metadata": {},
   "outputs": [],
   "source": [
    "info = [] # Creamos una lista vacia donde guardaremos los registros del archivo .json\n",
    "\n",
    "# Iteramos sobre los registros del archivo y con <ast.literal_eval> de forma segura una expresión\n",
    "# literal que está representada como una cadena de caracteres.\n",
    "for i in gzip.open(ruta3):\n",
    "     info.append(ast.literal_eval(i.decode('utf-8')))\n",
    "     \n",
    "df_items = pd.DataFrame(info) "
   ]
  },
  {
   "cell_type": "code",
   "execution_count": 8,
   "metadata": {},
   "outputs": [
    {
     "data": {
      "text/html": [
       "<div>\n",
       "<style scoped>\n",
       "    .dataframe tbody tr th:only-of-type {\n",
       "        vertical-align: middle;\n",
       "    }\n",
       "\n",
       "    .dataframe tbody tr th {\n",
       "        vertical-align: top;\n",
       "    }\n",
       "\n",
       "    .dataframe thead th {\n",
       "        text-align: right;\n",
       "    }\n",
       "</style>\n",
       "<table border=\"1\" class=\"dataframe\">\n",
       "  <thead>\n",
       "    <tr style=\"text-align: right;\">\n",
       "      <th></th>\n",
       "      <th>user_id</th>\n",
       "      <th>items_count</th>\n",
       "      <th>steam_id</th>\n",
       "      <th>user_url</th>\n",
       "      <th>items</th>\n",
       "    </tr>\n",
       "  </thead>\n",
       "  <tbody>\n",
       "    <tr>\n",
       "      <th>0</th>\n",
       "      <td>76561197970982479</td>\n",
       "      <td>277</td>\n",
       "      <td>76561197970982479</td>\n",
       "      <td>http://steamcommunity.com/profiles/76561197970...</td>\n",
       "      <td>[{'item_id': '10', 'item_name': 'Counter-Strik...</td>\n",
       "    </tr>\n",
       "    <tr>\n",
       "      <th>1</th>\n",
       "      <td>js41637</td>\n",
       "      <td>888</td>\n",
       "      <td>76561198035864385</td>\n",
       "      <td>http://steamcommunity.com/id/js41637</td>\n",
       "      <td>[{'item_id': '10', 'item_name': 'Counter-Strik...</td>\n",
       "    </tr>\n",
       "    <tr>\n",
       "      <th>2</th>\n",
       "      <td>evcentric</td>\n",
       "      <td>137</td>\n",
       "      <td>76561198007712555</td>\n",
       "      <td>http://steamcommunity.com/id/evcentric</td>\n",
       "      <td>[{'item_id': '1200', 'item_name': 'Red Orchest...</td>\n",
       "    </tr>\n",
       "  </tbody>\n",
       "</table>\n",
       "</div>"
      ],
      "text/plain": [
       "             user_id  items_count           steam_id  \\\n",
       "0  76561197970982479          277  76561197970982479   \n",
       "1            js41637          888  76561198035864385   \n",
       "2          evcentric          137  76561198007712555   \n",
       "\n",
       "                                            user_url  \\\n",
       "0  http://steamcommunity.com/profiles/76561197970...   \n",
       "1               http://steamcommunity.com/id/js41637   \n",
       "2             http://steamcommunity.com/id/evcentric   \n",
       "\n",
       "                                               items  \n",
       "0  [{'item_id': '10', 'item_name': 'Counter-Strik...  \n",
       "1  [{'item_id': '10', 'item_name': 'Counter-Strik...  \n",
       "2  [{'item_id': '1200', 'item_name': 'Red Orchest...  "
      ]
     },
     "execution_count": 8,
     "metadata": {},
     "output_type": "execute_result"
    }
   ],
   "source": [
    "df_items.head(3)"
   ]
  },
  {
   "cell_type": "markdown",
   "metadata": {},
   "source": [
    "# 2. **Tratamiento de datos (ETL)**\n",
    "\n",
    "***"
   ]
  },
  {
   "cell_type": "markdown",
   "metadata": {},
   "source": [
    "## 2.1 Desanidar columnas\n",
    "\n",
    "Luego de leer los datos, se observa que los tres dataframes presentan columnas con datos anidados.\n",
    "\n",
    "Para ello, vamos a utilizar las funciones .explode y .json_normalize, con el objetivo de desanidar la informacion y convertir cada clave a columna.\n",
    "\n",
    "Luego de desanidar, concatenamos las columnas del data frame df_explode con las columnas desanidadas. "
   ]
  },
  {
   "cell_type": "markdown",
   "metadata": {},
   "source": [
    "- ### 2.1.1  **df_games** \n",
    "\n",
    "    En este caso no desanidamos y eliminamos la columna items, items_count, user_id y steam_id. \n",
    "\n",
    "    Se decide eliminar estas columnas porque ya tenemos esta infomacion en el dataset df_items_full. \n"
   ]
  },
  {
   "cell_type": "code",
   "execution_count": 9,
   "metadata": {},
   "outputs": [],
   "source": [
    "df_games_full = df_games.copy()\n",
    "df_games_full = df_games_full.drop(columns=['items','items_count', 'user_id', 'steam_id'],axis=1)"
   ]
  },
  {
   "cell_type": "code",
   "execution_count": 10,
   "metadata": {},
   "outputs": [
    {
     "data": {
      "text/html": [
       "<div>\n",
       "<style scoped>\n",
       "    .dataframe tbody tr th:only-of-type {\n",
       "        vertical-align: middle;\n",
       "    }\n",
       "\n",
       "    .dataframe tbody tr th {\n",
       "        vertical-align: top;\n",
       "    }\n",
       "\n",
       "    .dataframe thead th {\n",
       "        text-align: right;\n",
       "    }\n",
       "</style>\n",
       "<table border=\"1\" class=\"dataframe\">\n",
       "  <thead>\n",
       "    <tr style=\"text-align: right;\">\n",
       "      <th></th>\n",
       "      <th>publisher</th>\n",
       "      <th>genres</th>\n",
       "      <th>app_name</th>\n",
       "      <th>title</th>\n",
       "      <th>url</th>\n",
       "      <th>release_date</th>\n",
       "      <th>tags</th>\n",
       "      <th>reviews_url</th>\n",
       "      <th>discount_price</th>\n",
       "      <th>specs</th>\n",
       "      <th>price</th>\n",
       "      <th>early_access</th>\n",
       "      <th>id</th>\n",
       "      <th>metascore</th>\n",
       "      <th>developer</th>\n",
       "    </tr>\n",
       "  </thead>\n",
       "  <tbody>\n",
       "    <tr>\n",
       "      <th>120443</th>\n",
       "      <td>SIXNAILS</td>\n",
       "      <td>[Casual, Indie]</td>\n",
       "      <td>EXIT 2 - Directions</td>\n",
       "      <td>EXIT 2 - Directions</td>\n",
       "      <td>http://store.steampowered.com/app/658870/EXIT_...</td>\n",
       "      <td>2017-09-02</td>\n",
       "      <td>[Indie, Casual, Puzzle, Singleplayer, Atmosphe...</td>\n",
       "      <td>http://steamcommunity.com/app/658870/reviews/?...</td>\n",
       "      <td>NaN</td>\n",
       "      <td>[Single-player, Steam Achievements, Steam Cloud]</td>\n",
       "      <td>4.99</td>\n",
       "      <td>0.0</td>\n",
       "      <td>658870.0</td>\n",
       "      <td>None</td>\n",
       "      <td>xropi,stev3ns</td>\n",
       "    </tr>\n",
       "    <tr>\n",
       "      <th>120444</th>\n",
       "      <td>None</td>\n",
       "      <td>None</td>\n",
       "      <td>Maze Run VR</td>\n",
       "      <td>None</td>\n",
       "      <td>http://store.steampowered.com/app/681550/Maze_...</td>\n",
       "      <td>None</td>\n",
       "      <td>[Early Access, Adventure, Indie, Action, Simul...</td>\n",
       "      <td>http://steamcommunity.com/app/681550/reviews/?...</td>\n",
       "      <td>NaN</td>\n",
       "      <td>[Single-player, Stats, Steam Leaderboards, HTC...</td>\n",
       "      <td>4.99</td>\n",
       "      <td>1.0</td>\n",
       "      <td>681550.0</td>\n",
       "      <td>None</td>\n",
       "      <td>None</td>\n",
       "    </tr>\n",
       "  </tbody>\n",
       "</table>\n",
       "</div>"
      ],
      "text/plain": [
       "       publisher           genres             app_name                title  \\\n",
       "120443  SIXNAILS  [Casual, Indie]  EXIT 2 - Directions  EXIT 2 - Directions   \n",
       "120444      None             None          Maze Run VR                 None   \n",
       "\n",
       "                                                      url release_date  \\\n",
       "120443  http://store.steampowered.com/app/658870/EXIT_...   2017-09-02   \n",
       "120444  http://store.steampowered.com/app/681550/Maze_...         None   \n",
       "\n",
       "                                                     tags  \\\n",
       "120443  [Indie, Casual, Puzzle, Singleplayer, Atmosphe...   \n",
       "120444  [Early Access, Adventure, Indie, Action, Simul...   \n",
       "\n",
       "                                              reviews_url  discount_price  \\\n",
       "120443  http://steamcommunity.com/app/658870/reviews/?...             NaN   \n",
       "120444  http://steamcommunity.com/app/681550/reviews/?...             NaN   \n",
       "\n",
       "                                                    specs price  early_access  \\\n",
       "120443   [Single-player, Steam Achievements, Steam Cloud]  4.99           0.0   \n",
       "120444  [Single-player, Stats, Steam Leaderboards, HTC...  4.99           1.0   \n",
       "\n",
       "              id metascore      developer  \n",
       "120443  658870.0      None  xropi,stev3ns  \n",
       "120444  681550.0      None           None  "
      ]
     },
     "execution_count": 10,
     "metadata": {},
     "output_type": "execute_result"
    }
   ],
   "source": [
    "df_games_full.tail(2)"
   ]
  },
  {
   "cell_type": "markdown",
   "metadata": {},
   "source": [
    "- ### 2.1.2  **df_reviews** \n",
    "\n",
    "    Desanidamos la informacion que se encuentra en la columna 'reviews'."
   ]
  },
  {
   "cell_type": "code",
   "execution_count": 11,
   "metadata": {},
   "outputs": [],
   "source": [
    "df_explode = df_reviews.explode('reviews')\n",
    "df_explode.dropna(how='all',inplace=True)\n",
    "df_explode.reset_index(inplace=True, drop=True)\n",
    "\n",
    "reviews = pd.json_normalize(df_explode['reviews'].dropna())\n",
    "reviews.reset_index(inplace=True, drop=True)\n",
    "\n",
    "df_reviews_full = pd.concat([df_explode.drop(columns='reviews'), reviews], axis=1)"
   ]
  },
  {
   "cell_type": "code",
   "execution_count": 12,
   "metadata": {},
   "outputs": [
    {
     "data": {
      "text/html": [
       "<div>\n",
       "<style scoped>\n",
       "    .dataframe tbody tr th:only-of-type {\n",
       "        vertical-align: middle;\n",
       "    }\n",
       "\n",
       "    .dataframe tbody tr th {\n",
       "        vertical-align: top;\n",
       "    }\n",
       "\n",
       "    .dataframe thead th {\n",
       "        text-align: right;\n",
       "    }\n",
       "</style>\n",
       "<table border=\"1\" class=\"dataframe\">\n",
       "  <thead>\n",
       "    <tr style=\"text-align: right;\">\n",
       "      <th></th>\n",
       "      <th>user_id</th>\n",
       "      <th>user_url</th>\n",
       "      <th>funny</th>\n",
       "      <th>posted</th>\n",
       "      <th>last_edited</th>\n",
       "      <th>item_id</th>\n",
       "      <th>helpful</th>\n",
       "      <th>recommend</th>\n",
       "      <th>review</th>\n",
       "    </tr>\n",
       "  </thead>\n",
       "  <tbody>\n",
       "    <tr>\n",
       "      <th>0</th>\n",
       "      <td>76561197970982479</td>\n",
       "      <td>http://steamcommunity.com/profiles/76561197970...</td>\n",
       "      <td></td>\n",
       "      <td>Posted November 5, 2011.</td>\n",
       "      <td></td>\n",
       "      <td>1250</td>\n",
       "      <td>No ratings yet</td>\n",
       "      <td>True</td>\n",
       "      <td>Simple yet with great replayability. In my opi...</td>\n",
       "    </tr>\n",
       "    <tr>\n",
       "      <th>1</th>\n",
       "      <td>76561197970982479</td>\n",
       "      <td>http://steamcommunity.com/profiles/76561197970...</td>\n",
       "      <td></td>\n",
       "      <td>Posted July 15, 2011.</td>\n",
       "      <td></td>\n",
       "      <td>22200</td>\n",
       "      <td>No ratings yet</td>\n",
       "      <td>True</td>\n",
       "      <td>It's unique and worth a playthrough.</td>\n",
       "    </tr>\n",
       "  </tbody>\n",
       "</table>\n",
       "</div>"
      ],
      "text/plain": [
       "             user_id                                           user_url funny  \\\n",
       "0  76561197970982479  http://steamcommunity.com/profiles/76561197970...         \n",
       "1  76561197970982479  http://steamcommunity.com/profiles/76561197970...         \n",
       "\n",
       "                     posted last_edited item_id         helpful recommend  \\\n",
       "0  Posted November 5, 2011.                1250  No ratings yet      True   \n",
       "1     Posted July 15, 2011.               22200  No ratings yet      True   \n",
       "\n",
       "                                              review  \n",
       "0  Simple yet with great replayability. In my opi...  \n",
       "1               It's unique and worth a playthrough.  "
      ]
     },
     "execution_count": 12,
     "metadata": {},
     "output_type": "execute_result"
    }
   ],
   "source": [
    "df_reviews_full.head(2)"
   ]
  },
  {
   "cell_type": "markdown",
   "metadata": {},
   "source": [
    "- ### 2.1.3  **df_items** \n",
    "\n",
    "    Desanidamos la informacion que se encuentra en la columna 'items'."
   ]
  },
  {
   "cell_type": "code",
   "execution_count": 13,
   "metadata": {},
   "outputs": [],
   "source": [
    "df_explode = df_items.explode('items').reset_index(drop=True)\n",
    "\n",
    "items = pd.json_normalize(df_explode['items']).reset_index(drop=True)\n",
    "\n",
    "df_items_full = pd.concat([df_explode.drop('items', axis=1), items], axis=1)"
   ]
  },
  {
   "cell_type": "code",
   "execution_count": 14,
   "metadata": {},
   "outputs": [
    {
     "data": {
      "text/html": [
       "<div>\n",
       "<style scoped>\n",
       "    .dataframe tbody tr th:only-of-type {\n",
       "        vertical-align: middle;\n",
       "    }\n",
       "\n",
       "    .dataframe tbody tr th {\n",
       "        vertical-align: top;\n",
       "    }\n",
       "\n",
       "    .dataframe thead th {\n",
       "        text-align: right;\n",
       "    }\n",
       "</style>\n",
       "<table border=\"1\" class=\"dataframe\">\n",
       "  <thead>\n",
       "    <tr style=\"text-align: right;\">\n",
       "      <th></th>\n",
       "      <th>user_id</th>\n",
       "      <th>items_count</th>\n",
       "      <th>steam_id</th>\n",
       "      <th>user_url</th>\n",
       "      <th>item_id</th>\n",
       "      <th>item_name</th>\n",
       "      <th>playtime_forever</th>\n",
       "      <th>playtime_2weeks</th>\n",
       "    </tr>\n",
       "  </thead>\n",
       "  <tbody>\n",
       "    <tr>\n",
       "      <th>0</th>\n",
       "      <td>76561197970982479</td>\n",
       "      <td>277</td>\n",
       "      <td>76561197970982479</td>\n",
       "      <td>http://steamcommunity.com/profiles/76561197970...</td>\n",
       "      <td>10</td>\n",
       "      <td>Counter-Strike</td>\n",
       "      <td>6.0</td>\n",
       "      <td>0.0</td>\n",
       "    </tr>\n",
       "    <tr>\n",
       "      <th>1</th>\n",
       "      <td>76561197970982479</td>\n",
       "      <td>277</td>\n",
       "      <td>76561197970982479</td>\n",
       "      <td>http://steamcommunity.com/profiles/76561197970...</td>\n",
       "      <td>20</td>\n",
       "      <td>Team Fortress Classic</td>\n",
       "      <td>0.0</td>\n",
       "      <td>0.0</td>\n",
       "    </tr>\n",
       "  </tbody>\n",
       "</table>\n",
       "</div>"
      ],
      "text/plain": [
       "             user_id  items_count           steam_id  \\\n",
       "0  76561197970982479          277  76561197970982479   \n",
       "1  76561197970982479          277  76561197970982479   \n",
       "\n",
       "                                            user_url item_id  \\\n",
       "0  http://steamcommunity.com/profiles/76561197970...      10   \n",
       "1  http://steamcommunity.com/profiles/76561197970...      20   \n",
       "\n",
       "               item_name  playtime_forever  playtime_2weeks  \n",
       "0         Counter-Strike               6.0              0.0  \n",
       "1  Team Fortress Classic               0.0              0.0  "
      ]
     },
     "execution_count": 14,
     "metadata": {},
     "output_type": "execute_result"
    }
   ],
   "source": [
    "df_items_full.head(2)"
   ]
  },
  {
   "cell_type": "markdown",
   "metadata": {},
   "source": [
    "## 2.2 Duplicados, valores nulos e inconsistencias"
   ]
  },
  {
   "cell_type": "markdown",
   "metadata": {},
   "source": [
    "- ### 2.2.1 **df_games_full**"
   ]
  },
  {
   "cell_type": "code",
   "execution_count": 15,
   "metadata": {},
   "outputs": [
    {
     "data": {
      "text/plain": [
       "(120445, 15)"
      ]
     },
     "execution_count": 15,
     "metadata": {},
     "output_type": "execute_result"
    }
   ],
   "source": [
    "df_games_full.shape"
   ]
  },
  {
   "cell_type": "code",
   "execution_count": 16,
   "metadata": {},
   "outputs": [
    {
     "name": "stdout",
     "output_type": "stream",
     "text": [
      "<class 'pandas.core.frame.DataFrame'>\n",
      "RangeIndex: 120445 entries, 0 to 120444\n",
      "Data columns (total 15 columns):\n",
      " #   Column          Non-Null Count  Dtype  \n",
      "---  ------          --------------  -----  \n",
      " 0   publisher       24083 non-null  object \n",
      " 1   genres          28852 non-null  object \n",
      " 2   app_name        32133 non-null  object \n",
      " 3   title           30085 non-null  object \n",
      " 4   url             32135 non-null  object \n",
      " 5   release_date    30068 non-null  object \n",
      " 6   tags            31972 non-null  object \n",
      " 7   reviews_url     32133 non-null  object \n",
      " 8   discount_price  225 non-null    float64\n",
      " 9   specs           31465 non-null  object \n",
      " 10  price           30758 non-null  object \n",
      " 11  early_access    32135 non-null  float64\n",
      " 12  id              32133 non-null  float64\n",
      " 13  metascore       2677 non-null   object \n",
      " 14  developer       28836 non-null  object \n",
      "dtypes: float64(3), object(12)\n",
      "memory usage: 13.8+ MB\n"
     ]
    }
   ],
   "source": [
    "df_games_full.info()"
   ]
  },
  {
   "cell_type": "markdown",
   "metadata": {},
   "source": [
    "Vamos a observar si la columna 'precio' tiene valores numericos o otro tipo de datos que deberían ser sustituidos. "
   ]
  },
  {
   "cell_type": "code",
   "execution_count": 17,
   "metadata": {},
   "outputs": [
    {
     "data": {
      "text/plain": [
       "array([None, 4.99, 'Free To Play', 'Free to Play', 0.99, 2.99, 3.99, 9.99,\n",
       "       18.99, 29.99, 'Free', 10.99, 1.5899999999999999, 14.99, 1.99,\n",
       "       59.99, 8.99, 6.99, 7.99, 39.99, 19.99, 7.49, 12.99, 5.99, 2.49,\n",
       "       15.99, 1.25, 24.99, 17.99, 61.99, 3.49, 11.99, 13.99, 'Free Demo',\n",
       "       'Play for Free!', 34.99, 74.76, 1.49, 32.99, 99.99, 14.95, 69.99,\n",
       "       16.99, 79.99, 49.99, 5.0, 44.99, 13.98, 29.96, 119.99, 109.99,\n",
       "       149.99, 771.71, 'Install Now', 21.99, 89.99,\n",
       "       'Play WARMACHINE: Tactics Demo', 0.98, 139.92, 4.29, 64.99,\n",
       "       'Free Mod', 54.99, 74.99, 'Install Theme', 0.89, 'Third-party',\n",
       "       0.5, 'Play Now', 299.99, 1.29, 3.0, 15.0, 5.49, 23.99, 49.0, 20.99,\n",
       "       10.93, 1.3900000000000001, 'Free HITMAN™ Holiday Pack', 36.99,\n",
       "       4.49, 2.0, 4.0, 9.0, 234.99, 1.9500000000000002, 1.5, 199.0, 189.0,\n",
       "       6.66, 27.99, 10.49, 129.99, 179.0, 26.99, 399.99, 31.99, 399.0,\n",
       "       20.0, 40.0, 3.33, 199.99, 22.99, 320.0, 38.85, 71.7, 59.95, 995.0,\n",
       "       27.49, 3.39, 6.0, 19.95, 499.99, 16.06, 4.68, 131.4, 44.98, 202.76,\n",
       "       1.0, 2.3, 0.9500000000000001, 172.24, 249.99, 2.9699999999999998,\n",
       "       10.96, 10.0, 30.0, 2.66, 6.48, 19.29, 11.15, 18.9, 2.89,\n",
       "       'Play the Demo', 99.0, 87.94, 599.0, 8.98, 9.69, 0.49, 9.98, 9.95,\n",
       "       7.0, 'Starting at $499.00', 'Starting at $449.00', 12.89, 6.49,\n",
       "       1.87, 42.99, 41.99, 289.99, 'Free to Try', 23.96, 5.65, 12.0,\n",
       "       13.37, 189.96, 124.99, 'Free Movie', 19.98, 160.91, 'Free to Use'],\n",
       "      dtype=object)"
      ]
     },
     "execution_count": 17,
     "metadata": {},
     "output_type": "execute_result"
    }
   ],
   "source": [
    "df_games_full['price'].unique()"
   ]
  },
  {
   "cell_type": "markdown",
   "metadata": {},
   "source": [
    "Efectivamente, y como se observa en la lista de arriba, podemos observar que varios valores no son numericos y en su gran mayoría representan juegos gratuitos o demos. \n",
    "\n",
    "Vamos a iterar la columna con el objetivo de reemplzar esos valores por **0**. \n",
    "\n",
    "Ademas, observamos que existe un juego que su precio base es de $499 ('Starting at $499.0). En este caso vamos a reemplazarlo por el valor **499**"
   ]
  },
  {
   "cell_type": "code",
   "execution_count": 18,
   "metadata": {},
   "outputs": [],
   "source": [
    "for i in df_games_full['price']:\n",
    "    # Si dentro de la columna existe algun valor de la lista, lo reemplaza por el valor numérico 0.\n",
    "    if i in ['Free to Try', \n",
    "             'Free to Play', \n",
    "             'Free To Play', \n",
    "             'Free', 'Free Demo', \n",
    "             'Play for Free!',\n",
    "             'Install Now', \n",
    "             'Play WARMACHINE: Tactics Demo', \n",
    "             'Free Mod', \n",
    "             'Install Theme', \n",
    "             'Third-party', \n",
    "             'Play Now',\n",
    "             'Free HITMAN™ Holiday Pack', \n",
    "             'Play the Demo', \n",
    "             'Free Movie', \n",
    "             'Free to Use']:\n",
    "        df_games_full.replace(i, 0, inplace = True)\n",
    "    # Si encuentra el texto, lo reemplaza por el valor numérico 499.\n",
    "    elif i in ['Starting at $499.00','Starting at $449.00']:\n",
    "        df_games_full.replace(i, 499, inplace = True) \n",
    "\n"
   ]
  },
  {
   "cell_type": "code",
   "execution_count": 19,
   "metadata": {},
   "outputs": [
    {
     "data": {
      "text/plain": [
       "array([       nan, 4.9900e+00, 0.0000e+00, 9.9000e-01, 2.9900e+00,\n",
       "       3.9900e+00, 9.9900e+00, 1.8990e+01, 2.9990e+01, 1.0990e+01,\n",
       "       1.5900e+00, 1.4990e+01, 1.9900e+00, 5.9990e+01, 8.9900e+00,\n",
       "       6.9900e+00, 7.9900e+00, 3.9990e+01, 1.9990e+01, 7.4900e+00,\n",
       "       1.2990e+01, 5.9900e+00, 2.4900e+00, 1.5990e+01, 1.2500e+00,\n",
       "       2.4990e+01, 1.7990e+01, 6.1990e+01, 3.4900e+00, 1.1990e+01,\n",
       "       1.3990e+01, 3.4990e+01, 7.4760e+01, 1.4900e+00, 3.2990e+01,\n",
       "       9.9990e+01, 1.4950e+01, 6.9990e+01, 1.6990e+01, 7.9990e+01,\n",
       "       4.9990e+01, 5.0000e+00, 4.4990e+01, 1.3980e+01, 2.9960e+01,\n",
       "       1.1999e+02, 1.0999e+02, 1.4999e+02, 7.7171e+02, 2.1990e+01,\n",
       "       8.9990e+01, 9.8000e-01, 1.3992e+02, 4.2900e+00, 6.4990e+01,\n",
       "       5.4990e+01, 7.4990e+01, 8.9000e-01, 5.0000e-01, 2.9999e+02,\n",
       "       1.2900e+00, 3.0000e+00, 1.5000e+01, 5.4900e+00, 2.3990e+01,\n",
       "       4.9000e+01, 2.0990e+01, 1.0930e+01, 1.3900e+00, 3.6990e+01,\n",
       "       4.4900e+00, 2.0000e+00, 4.0000e+00, 9.0000e+00, 2.3499e+02,\n",
       "       1.9500e+00, 1.5000e+00, 1.9900e+02, 1.8900e+02, 6.6600e+00,\n",
       "       2.7990e+01, 1.0490e+01, 1.2999e+02, 1.7900e+02, 2.6990e+01,\n",
       "       3.9999e+02, 3.1990e+01, 3.9900e+02, 2.0000e+01, 4.0000e+01,\n",
       "       3.3300e+00, 1.9999e+02, 2.2990e+01, 3.2000e+02, 3.8850e+01,\n",
       "       7.1700e+01, 5.9950e+01, 9.9500e+02, 2.7490e+01, 3.3900e+00,\n",
       "       6.0000e+00, 1.9950e+01, 4.9999e+02, 1.6060e+01, 4.6800e+00,\n",
       "       1.3140e+02, 4.4980e+01, 2.0276e+02, 1.0000e+00, 2.3000e+00,\n",
       "       9.5000e-01, 1.7224e+02, 2.4999e+02, 2.9700e+00, 1.0960e+01,\n",
       "       1.0000e+01, 3.0000e+01, 2.6600e+00, 6.4800e+00, 1.9290e+01,\n",
       "       1.1150e+01, 1.8900e+01, 2.8900e+00, 9.9000e+01, 8.7940e+01,\n",
       "       5.9900e+02, 8.9800e+00, 9.6900e+00, 4.9000e-01, 9.9800e+00,\n",
       "       9.9500e+00, 7.0000e+00, 4.9900e+02, 1.2890e+01, 6.4900e+00,\n",
       "       1.8700e+00, 4.2990e+01, 4.1990e+01, 2.8999e+02, 2.3960e+01,\n",
       "       5.6500e+00, 1.2000e+01, 1.3370e+01, 1.8996e+02, 1.2499e+02,\n",
       "       1.9980e+01, 1.6091e+02])"
      ]
     },
     "execution_count": 19,
     "metadata": {},
     "output_type": "execute_result"
    }
   ],
   "source": [
    "df_games_full['price'].unique()"
   ]
  },
  {
   "cell_type": "markdown",
   "metadata": {},
   "source": [
    "Ahora podemos observar que el esos valores ya no existen y todos los valores que tenemos en la columna prices son numericos. \n",
    "\n",
    "El siguiente paso es convertir la columna a tipo numerico **float**."
   ]
  },
  {
   "cell_type": "code",
   "execution_count": 20,
   "metadata": {},
   "outputs": [],
   "source": [
    "df_games_full['price'] = df_games_full['price'].astype(float)"
   ]
  },
  {
   "cell_type": "code",
   "execution_count": 21,
   "metadata": {},
   "outputs": [
    {
     "name": "stdout",
     "output_type": "stream",
     "text": [
      "<class 'pandas.core.frame.DataFrame'>\n",
      "RangeIndex: 120445 entries, 0 to 120444\n",
      "Data columns (total 15 columns):\n",
      " #   Column          Non-Null Count  Dtype  \n",
      "---  ------          --------------  -----  \n",
      " 0   publisher       24083 non-null  object \n",
      " 1   genres          28852 non-null  object \n",
      " 2   app_name        32133 non-null  object \n",
      " 3   title           30085 non-null  object \n",
      " 4   url             32135 non-null  object \n",
      " 5   release_date    30068 non-null  object \n",
      " 6   tags            31972 non-null  object \n",
      " 7   reviews_url     32133 non-null  object \n",
      " 8   discount_price  225 non-null    float64\n",
      " 9   specs           31465 non-null  object \n",
      " 10  price           30758 non-null  float64\n",
      " 11  early_access    32135 non-null  float64\n",
      " 12  id              32133 non-null  float64\n",
      " 13  metascore       2677 non-null   object \n",
      " 14  developer       28836 non-null  object \n",
      "dtypes: float64(4), object(11)\n",
      "memory usage: 13.8+ MB\n"
     ]
    }
   ],
   "source": [
    "df_games_full.info()"
   ]
  },
  {
   "cell_type": "markdown",
   "metadata": {},
   "source": [
    "Como se observa en el resumen de arriba, el datasets presenta una gran cantidad de nulos.\n",
    "\n",
    "Procedemos a eliminar los nulos siempre y cuando el registro completo tenga valores nulos en todas las columnas. Lo hacemos con la condicion 'how'."
   ]
  },
  {
   "cell_type": "code",
   "execution_count": 22,
   "metadata": {},
   "outputs": [],
   "source": [
    "df_games_full.dropna(inplace=True, how='all')"
   ]
  },
  {
   "cell_type": "code",
   "execution_count": 23,
   "metadata": {},
   "outputs": [
    {
     "name": "stdout",
     "output_type": "stream",
     "text": [
      "<class 'pandas.core.frame.DataFrame'>\n",
      "Index: 32135 entries, 88310 to 120444\n",
      "Data columns (total 15 columns):\n",
      " #   Column          Non-Null Count  Dtype  \n",
      "---  ------          --------------  -----  \n",
      " 0   publisher       24083 non-null  object \n",
      " 1   genres          28852 non-null  object \n",
      " 2   app_name        32133 non-null  object \n",
      " 3   title           30085 non-null  object \n",
      " 4   url             32135 non-null  object \n",
      " 5   release_date    30068 non-null  object \n",
      " 6   tags            31972 non-null  object \n",
      " 7   reviews_url     32133 non-null  object \n",
      " 8   discount_price  225 non-null    float64\n",
      " 9   specs           31465 non-null  object \n",
      " 10  price           30758 non-null  float64\n",
      " 11  early_access    32135 non-null  float64\n",
      " 12  id              32133 non-null  float64\n",
      " 13  metascore       2677 non-null   object \n",
      " 14  developer       28836 non-null  object \n",
      "dtypes: float64(4), object(11)\n",
      "memory usage: 3.9+ MB\n"
     ]
    }
   ],
   "source": [
    "df_games_full.info()"
   ]
  },
  {
   "cell_type": "markdown",
   "metadata": {},
   "source": [
    "Podemos ver que luego de eliminar los registros vacios, el dataset pasa de 120.445 registros a 32.135. \n",
    "\n",
    "Los valores nulos que aun permanecen, son registros que tienen algunas columnas con valores vacios pero aun tienen informacion valiosa para el analisis. "
   ]
  },
  {
   "cell_type": "markdown",
   "metadata": {},
   "source": [
    "Por último, lo que vamos a hacer es convertir la columna **'release_date'** a tipo *date_time*"
   ]
  },
  {
   "cell_type": "code",
   "execution_count": 24,
   "metadata": {},
   "outputs": [],
   "source": [
    "# Convertimos la columna a date_time y si encuentra algun error, lo clasifica como NaT ((N)ot-(A)-(T)ime, equivalente del tiempo para NaN.)\n",
    "df_games_full['release_date'] = pd.to_datetime(df_games_full['release_date'], errors='coerce')"
   ]
  },
  {
   "cell_type": "markdown",
   "metadata": {},
   "source": [
    "- ### 2.2.2 **df_reviews_full**\n",
    "\n",
    "En el dataset de 'reviews' vamos a buscar los nulos y los vamos a eliminar.\n",
    "\n",
    "En este caso se toma esa decision porque la cantidad de nulos no representan un gran porcentaje del total de registros. \n",
    " \n",
    "En total, son 28 registros los que se eliminan. "
   ]
  },
  {
   "cell_type": "code",
   "execution_count": 25,
   "metadata": {},
   "outputs": [
    {
     "name": "stdout",
     "output_type": "stream",
     "text": [
      "(59333, 9)\n",
      "(59305, 9)\n"
     ]
    }
   ],
   "source": [
    "print(df_reviews_full.shape)\n",
    "df_reviews_full.dropna(inplace=True)\n",
    "print(df_reviews_full.shape)"
   ]
  },
  {
   "cell_type": "markdown",
   "metadata": {},
   "source": [
    "Además, veremos si existen duplicados y si existen, los eliminamos."
   ]
  },
  {
   "cell_type": "code",
   "execution_count": 26,
   "metadata": {},
   "outputs": [
    {
     "data": {
      "text/plain": [
       "144"
      ]
     },
     "execution_count": 26,
     "metadata": {},
     "output_type": "execute_result"
    }
   ],
   "source": [
    "df_reviews_full.duplicated(keep='first').sum()"
   ]
  },
  {
   "cell_type": "code",
   "execution_count": 27,
   "metadata": {},
   "outputs": [],
   "source": [
    "df_reviews_full.drop_duplicates(inplace=True)"
   ]
  },
  {
   "cell_type": "code",
   "execution_count": 28,
   "metadata": {},
   "outputs": [
    {
     "data": {
      "text/plain": [
       "(59161, 9)"
      ]
     },
     "execution_count": 28,
     "metadata": {},
     "output_type": "execute_result"
    }
   ],
   "source": [
    "df_reviews_full.shape"
   ]
  },
  {
   "cell_type": "markdown",
   "metadata": {},
   "source": [
    "Vamos a crear archivos CSV a partir de los dataframes a los cuales se les aplico el proceso ETL."
   ]
  },
  {
   "cell_type": "markdown",
   "metadata": {},
   "source": [
    "# 3. **Feature Engineering**\n",
    "***"
   ]
  },
  {
   "cell_type": "markdown",
   "metadata": {},
   "source": [
    "En el planteamiento de la problematica del proyecto, se solicita la creación de la columna 'sentiment_analysis' aplicando análisis de sentimiento con NLP. La escala a tener en cuenta es la siguiente: debe tomar el valor '0' si es malo, '1' si es neutral y '2' si es positivo."
   ]
  },
  {
   "cell_type": "markdown",
   "metadata": {},
   "source": [
    "Para ello analizaremos la columna 'reviews' del dataframe 'df_reviews_full' obtenido en el paso 2.1"
   ]
  },
  {
   "cell_type": "markdown",
   "metadata": {},
   "source": [
    "Utilizaremos la librería **TextBlob**."
   ]
  },
  {
   "cell_type": "code",
   "execution_count": 29,
   "metadata": {},
   "outputs": [],
   "source": [
    "from textblob import TextBlob"
   ]
  },
  {
   "cell_type": "code",
   "execution_count": 30,
   "metadata": {},
   "outputs": [],
   "source": [
    "def calcular_sentimiento_textblob(texto):\n",
    "    # Se calcula el sentimiento del texto\n",
    "    analysis = TextBlob(texto)\n",
    "    # El atributo sentiment.polarity devuelve la polaridad del sentimiento (entre -1 y 1)\n",
    "    polaridad = analysis.sentiment.polarity\n",
    "    return polaridad\n",
    "\n",
    "def asignar_puntaje(polaridad):\n",
    "    # Asigna 0 si la polaridad es negativa, 1 si es neutral y 2 si es positiva\n",
    "    if polaridad < -0.1:\n",
    "        return 0  # Negativo\n",
    "    elif polaridad > 0.1:\n",
    "        return 2  # Positivo\n",
    "    else:\n",
    "        return 1  # Neutral\n"
   ]
  },
  {
   "cell_type": "code",
   "execution_count": 31,
   "metadata": {},
   "outputs": [],
   "source": [
    "# Creamos una copia del dataset a trabajar. \n",
    "df_sentimiento = df_reviews_full.copy()\n",
    "\n",
    "# En el nuebo dataset, creamos dos columnas. Una de polaridad y otra de sentimiento. Se utlizan las funciones creadas en el paso anterior. \n",
    "df_sentimiento['polaridad'] = df_sentimiento['review'].astype(str).apply(calcular_sentimiento_textblob)\n",
    "df_sentimiento['sentimiento'] = df_sentimiento['polaridad'].apply(asignar_puntaje)"
   ]
  },
  {
   "cell_type": "code",
   "execution_count": 32,
   "metadata": {},
   "outputs": [
    {
     "data": {
      "text/html": [
       "<div>\n",
       "<style scoped>\n",
       "    .dataframe tbody tr th:only-of-type {\n",
       "        vertical-align: middle;\n",
       "    }\n",
       "\n",
       "    .dataframe tbody tr th {\n",
       "        vertical-align: top;\n",
       "    }\n",
       "\n",
       "    .dataframe thead th {\n",
       "        text-align: right;\n",
       "    }\n",
       "</style>\n",
       "<table border=\"1\" class=\"dataframe\">\n",
       "  <thead>\n",
       "    <tr style=\"text-align: right;\">\n",
       "      <th></th>\n",
       "      <th>user_id</th>\n",
       "      <th>user_url</th>\n",
       "      <th>funny</th>\n",
       "      <th>posted</th>\n",
       "      <th>last_edited</th>\n",
       "      <th>item_id</th>\n",
       "      <th>helpful</th>\n",
       "      <th>recommend</th>\n",
       "      <th>review</th>\n",
       "      <th>polaridad</th>\n",
       "      <th>sentimiento</th>\n",
       "    </tr>\n",
       "  </thead>\n",
       "  <tbody>\n",
       "    <tr>\n",
       "      <th>0</th>\n",
       "      <td>76561197970982479</td>\n",
       "      <td>http://steamcommunity.com/profiles/76561197970...</td>\n",
       "      <td></td>\n",
       "      <td>Posted November 5, 2011.</td>\n",
       "      <td></td>\n",
       "      <td>1250</td>\n",
       "      <td>No ratings yet</td>\n",
       "      <td>True</td>\n",
       "      <td>Simple yet with great replayability. In my opi...</td>\n",
       "      <td>0.174444</td>\n",
       "      <td>2</td>\n",
       "    </tr>\n",
       "    <tr>\n",
       "      <th>1</th>\n",
       "      <td>76561197970982479</td>\n",
       "      <td>http://steamcommunity.com/profiles/76561197970...</td>\n",
       "      <td></td>\n",
       "      <td>Posted July 15, 2011.</td>\n",
       "      <td></td>\n",
       "      <td>22200</td>\n",
       "      <td>No ratings yet</td>\n",
       "      <td>True</td>\n",
       "      <td>It's unique and worth a playthrough.</td>\n",
       "      <td>0.337500</td>\n",
       "      <td>2</td>\n",
       "    </tr>\n",
       "  </tbody>\n",
       "</table>\n",
       "</div>"
      ],
      "text/plain": [
       "             user_id                                           user_url funny  \\\n",
       "0  76561197970982479  http://steamcommunity.com/profiles/76561197970...         \n",
       "1  76561197970982479  http://steamcommunity.com/profiles/76561197970...         \n",
       "\n",
       "                     posted last_edited item_id         helpful recommend  \\\n",
       "0  Posted November 5, 2011.                1250  No ratings yet      True   \n",
       "1     Posted July 15, 2011.               22200  No ratings yet      True   \n",
       "\n",
       "                                              review  polaridad  sentimiento  \n",
       "0  Simple yet with great replayability. In my opi...   0.174444            2  \n",
       "1               It's unique and worth a playthrough.   0.337500            2  "
      ]
     },
     "execution_count": 32,
     "metadata": {},
     "output_type": "execute_result"
    }
   ],
   "source": [
    "df_sentimiento.head(2)"
   ]
  },
  {
   "cell_type": "markdown",
   "metadata": {},
   "source": [
    "# 4. **Desarrollo de funciones y disponibilización de datos (API)**\n",
    "***"
   ]
  },
  {
   "cell_type": "markdown",
   "metadata": {},
   "source": [
    "## 4.1 Primera función:** *def userdata( User_id : str )*\n",
    "\n",
    "Debe devolver cantidad de **dinero gastado por el usuario**, el **porcentaje de recomendación en base a reviews.recommend** y **cantidad de items**."
   ]
  },
  {
   "cell_type": "markdown",
   "metadata": {},
   "source": [
    "El primer paso va a ser crear un nuevo dataframe utilizando 'merge'. Esto nos hace un join entre dataframes teninedo en cuenta una columna clave. \n",
    "\n",
    "El obejtivo de este nuevo dataframe es obtener la cantidad de dinero gastado por un el usuario. \n",
    "\n",
    "Para este caso utilizaremos como columna clave el 'item_id'. En el dataframe 'df_items_full' se encuentra bajo ese nombre, pero en el data frame 'df_games_full' se encuentra bajo el nombre 'id'.\n",
    "\n",
    "Para poder usarlas como columna clave en el merge o join, deben ser el mismo tipo de dato. \n",
    "\n",
    "Procedemos a convertir las columnas a **float**. "
   ]
  },
  {
   "cell_type": "code",
   "execution_count": 33,
   "metadata": {},
   "outputs": [],
   "source": [
    "df_games_full['id'] = df_games_full['id'].astype(float)\n",
    "df_items_full['item_id'] = df_items_full['item_id'].astype(float)"
   ]
  },
  {
   "cell_type": "code",
   "execution_count": 79,
   "metadata": {},
   "outputs": [],
   "source": [
    "df_items_full.drop_duplicates(inplace=True)\n",
    "df_items_full.drop(columns=['steam_id','user_url'],inplace=True)"
   ]
  },
  {
   "cell_type": "code",
   "execution_count": 80,
   "metadata": {},
   "outputs": [
    {
     "data": {
      "text/html": [
       "<div>\n",
       "<style scoped>\n",
       "    .dataframe tbody tr th:only-of-type {\n",
       "        vertical-align: middle;\n",
       "    }\n",
       "\n",
       "    .dataframe tbody tr th {\n",
       "        vertical-align: top;\n",
       "    }\n",
       "\n",
       "    .dataframe thead th {\n",
       "        text-align: right;\n",
       "    }\n",
       "</style>\n",
       "<table border=\"1\" class=\"dataframe\">\n",
       "  <thead>\n",
       "    <tr style=\"text-align: right;\">\n",
       "      <th></th>\n",
       "      <th>user_id</th>\n",
       "      <th>items_count</th>\n",
       "    </tr>\n",
       "  </thead>\n",
       "  <tbody>\n",
       "    <tr>\n",
       "      <th>0</th>\n",
       "      <td>76561197970982479</td>\n",
       "      <td>277</td>\n",
       "    </tr>\n",
       "    <tr>\n",
       "      <th>277</th>\n",
       "      <td>js41637</td>\n",
       "      <td>888</td>\n",
       "    </tr>\n",
       "    <tr>\n",
       "      <th>1165</th>\n",
       "      <td>evcentric</td>\n",
       "      <td>137</td>\n",
       "    </tr>\n",
       "    <tr>\n",
       "      <th>1302</th>\n",
       "      <td>Riot-Punch</td>\n",
       "      <td>328</td>\n",
       "    </tr>\n",
       "    <tr>\n",
       "      <th>1630</th>\n",
       "      <td>doctr</td>\n",
       "      <td>541</td>\n",
       "    </tr>\n",
       "    <tr>\n",
       "      <th>...</th>\n",
       "      <td>...</td>\n",
       "      <td>...</td>\n",
       "    </tr>\n",
       "    <tr>\n",
       "      <th>5169807</th>\n",
       "      <td>76561198323066619</td>\n",
       "      <td>22</td>\n",
       "    </tr>\n",
       "    <tr>\n",
       "      <th>5169829</th>\n",
       "      <td>76561198326700687</td>\n",
       "      <td>177</td>\n",
       "    </tr>\n",
       "    <tr>\n",
       "      <th>5170006</th>\n",
       "      <td>XxLaughingJackClown77xX</td>\n",
       "      <td>0</td>\n",
       "    </tr>\n",
       "    <tr>\n",
       "      <th>5170007</th>\n",
       "      <td>76561198329548331</td>\n",
       "      <td>7</td>\n",
       "    </tr>\n",
       "    <tr>\n",
       "      <th>5170014</th>\n",
       "      <td>edward_tremethick</td>\n",
       "      <td>0</td>\n",
       "    </tr>\n",
       "  </tbody>\n",
       "</table>\n",
       "<p>87626 rows × 2 columns</p>\n",
       "</div>"
      ],
      "text/plain": [
       "                         user_id  items_count\n",
       "0              76561197970982479          277\n",
       "277                      js41637          888\n",
       "1165                   evcentric          137\n",
       "1302                  Riot-Punch          328\n",
       "1630                       doctr          541\n",
       "...                          ...          ...\n",
       "5169807        76561198323066619           22\n",
       "5169829        76561198326700687          177\n",
       "5170006  XxLaughingJackClown77xX            0\n",
       "5170007        76561198329548331            7\n",
       "5170014        edward_tremethick            0\n",
       "\n",
       "[87626 rows x 2 columns]"
      ]
     },
     "execution_count": 80,
     "metadata": {},
     "output_type": "execute_result"
    }
   ],
   "source": [
    "df_items_full"
   ]
  },
  {
   "cell_type": "code",
   "execution_count": 34,
   "metadata": {},
   "outputs": [],
   "source": [
    "# Hacemos la union entre los dos dataframes usando como columnas claves la llamada 'item_id' e 'id'. \n",
    "df_items_games = df_items_full.merge(df_games_full, left_on='item_id', right_on='id', how='left')"
   ]
  },
  {
   "cell_type": "code",
   "execution_count": 35,
   "metadata": {},
   "outputs": [],
   "source": [
    "df_f1 = df_items_games[['user_id','price']]"
   ]
  },
  {
   "cell_type": "markdown",
   "metadata": {},
   "source": [
    "El segundo paso es crear un segundo dataframe, donde dispongamos de las columnas 'user_id', 'items_count' y 'recommend'. A partir de estas columnas podemos calcular cuántas recomendaciones tiene un usuario sobre la cantidad de ítems (juegos) que jugó. "
   ]
  },
  {
   "cell_type": "code",
   "execution_count": 36,
   "metadata": {},
   "outputs": [],
   "source": [
    "df_items_recommend = df_items_full.merge(df_reviews_full, on='user_id', how='inner')"
   ]
  },
  {
   "cell_type": "code",
   "execution_count": 37,
   "metadata": {},
   "outputs": [],
   "source": [
    "df_items_recommend = df_items_recommend[['user_id', 'recommend', 'items_count']]"
   ]
  },
  {
   "cell_type": "code",
   "execution_count": 38,
   "metadata": {},
   "outputs": [
    {
     "data": {
      "text/html": [
       "<div>\n",
       "<style scoped>\n",
       "    .dataframe tbody tr th:only-of-type {\n",
       "        vertical-align: middle;\n",
       "    }\n",
       "\n",
       "    .dataframe tbody tr th {\n",
       "        vertical-align: top;\n",
       "    }\n",
       "\n",
       "    .dataframe thead th {\n",
       "        text-align: right;\n",
       "    }\n",
       "</style>\n",
       "<table border=\"1\" class=\"dataframe\">\n",
       "  <thead>\n",
       "    <tr style=\"text-align: right;\">\n",
       "      <th></th>\n",
       "      <th>user_id</th>\n",
       "      <th>recommend</th>\n",
       "      <th>items_count</th>\n",
       "    </tr>\n",
       "  </thead>\n",
       "  <tbody>\n",
       "    <tr>\n",
       "      <th>0</th>\n",
       "      <td>76561197970982479</td>\n",
       "      <td>True</td>\n",
       "      <td>277</td>\n",
       "    </tr>\n",
       "    <tr>\n",
       "      <th>1</th>\n",
       "      <td>76561197970982479</td>\n",
       "      <td>True</td>\n",
       "      <td>277</td>\n",
       "    </tr>\n",
       "    <tr>\n",
       "      <th>2</th>\n",
       "      <td>76561197970982479</td>\n",
       "      <td>True</td>\n",
       "      <td>277</td>\n",
       "    </tr>\n",
       "    <tr>\n",
       "      <th>3</th>\n",
       "      <td>76561197970982479</td>\n",
       "      <td>True</td>\n",
       "      <td>277</td>\n",
       "    </tr>\n",
       "    <tr>\n",
       "      <th>4</th>\n",
       "      <td>76561197970982479</td>\n",
       "      <td>True</td>\n",
       "      <td>277</td>\n",
       "    </tr>\n",
       "    <tr>\n",
       "      <th>...</th>\n",
       "      <td>...</td>\n",
       "      <td>...</td>\n",
       "      <td>...</td>\n",
       "    </tr>\n",
       "    <tr>\n",
       "      <th>7782439</th>\n",
       "      <td>CaptainAmericaCw</td>\n",
       "      <td>True</td>\n",
       "      <td>7</td>\n",
       "    </tr>\n",
       "    <tr>\n",
       "      <th>7782440</th>\n",
       "      <td>76561198267374962</td>\n",
       "      <td>True</td>\n",
       "      <td>4</td>\n",
       "    </tr>\n",
       "    <tr>\n",
       "      <th>7782441</th>\n",
       "      <td>76561198267374962</td>\n",
       "      <td>True</td>\n",
       "      <td>4</td>\n",
       "    </tr>\n",
       "    <tr>\n",
       "      <th>7782442</th>\n",
       "      <td>76561198267374962</td>\n",
       "      <td>True</td>\n",
       "      <td>4</td>\n",
       "    </tr>\n",
       "    <tr>\n",
       "      <th>7782443</th>\n",
       "      <td>76561198267374962</td>\n",
       "      <td>True</td>\n",
       "      <td>4</td>\n",
       "    </tr>\n",
       "  </tbody>\n",
       "</table>\n",
       "<p>7782444 rows × 3 columns</p>\n",
       "</div>"
      ],
      "text/plain": [
       "                   user_id recommend  items_count\n",
       "0        76561197970982479      True          277\n",
       "1        76561197970982479      True          277\n",
       "2        76561197970982479      True          277\n",
       "3        76561197970982479      True          277\n",
       "4        76561197970982479      True          277\n",
       "...                    ...       ...          ...\n",
       "7782439   CaptainAmericaCw      True            7\n",
       "7782440  76561198267374962      True            4\n",
       "7782441  76561198267374962      True            4\n",
       "7782442  76561198267374962      True            4\n",
       "7782443  76561198267374962      True            4\n",
       "\n",
       "[7782444 rows x 3 columns]"
      ]
     },
     "execution_count": 38,
     "metadata": {},
     "output_type": "execute_result"
    }
   ],
   "source": [
    "df_items_recommend"
   ]
  },
  {
   "cell_type": "code",
   "execution_count": 39,
   "metadata": {},
   "outputs": [],
   "source": [
    "def userdata(user_id):\n",
    "    '''\n",
    "    La siguiente función filtra por el usuario pasado como argumento\n",
    "    y arroja el dinero gastado por dicho usuario, el porcentaje de recomendación \n",
    "    y la cantidad de items del mismo. \n",
    "    \n",
    "    Argumento:\n",
    "    user_id (str): ID de identifiación del usuario \n",
    "    \n",
    "    '''\n",
    "    # Verificamos si el usuario existe en el DataFrame\n",
    "    if user_id in df_f1['user_id'].values and user_id in df_items_recommend['user_id'].values and user_id in df_items_full['user_id'].values:\n",
    "        # Calcula la suma de la columna precio filtrando por el usuario.\n",
    "        money = df_f1[df_f1['user_id'] == user_id]['price'].sum()\n",
    "        \n",
    "        # Calcula la cantidad de reviews totales de todos los usuarios en el DataFrame df_reviews_full.\n",
    "        tot_recommend = df_items_recommend[df_items_recommend['user_id'] == user_id]['recommend'].sum()\n",
    "       \n",
    "        # Calcula la cantidad de reviews filtrando por el usuario en el DataFrame df_reviews_full.\n",
    "        tot_items = df_items_recommend[df_items_recommend['user_id'] == user_id]['items_count'].iloc[0]\n",
    "        \n",
    "        # Calcula la cantidad de items filtrando por el usuario en el DataFrame df_items_full.\n",
    "        cant_items = df_items_full[df_items_full['user_id'] == user_id]['items_count'].iloc[0]\n",
    "\n",
    "        return {'Usuario:': user_id,\n",
    "                'Cantidad de dinero gastado:': money,\n",
    "                # Hacemos el cociente para calcular el porcentaje.\n",
    "                'Porcentaje de recomendación:': round((tot_recommend / tot_items) * 100, 2),\n",
    "                'Cantidad de items:': cant_items\n",
    "                }\n",
    "    else:\n",
    "        return 'Usuario no encontrado'\n"
   ]
  },
  {
   "cell_type": "markdown",
   "metadata": {},
   "source": [
    "**Ejemplo:**"
   ]
  },
  {
   "cell_type": "code",
   "execution_count": 40,
   "metadata": {},
   "outputs": [
    {
     "data": {
      "text/plain": [
       "{'Usuario:': '76561197970982479',\n",
       " 'Cantidad de dinero gastado:': 3424.31,\n",
       " 'Porcentaje de recomendación:': 300.0,\n",
       " 'Cantidad de items:': 277}"
      ]
     },
     "execution_count": 40,
     "metadata": {},
     "output_type": "execute_result"
    }
   ],
   "source": [
    "userdata('76561197970982479')"
   ]
  },
  {
   "cell_type": "markdown",
   "metadata": {},
   "source": [
    "## 4.2 Segunda función: *def countreviews( YYYY-MM-DD y YYYY-MM-DD : str )*\n",
    "\n",
    "Cantidad de usuarios que realizaron reviews entre las fechas dadas y, el porcentaje de recomendación de los mismos en base a reviews.recommend."
   ]
  },
  {
   "cell_type": "markdown",
   "metadata": {},
   "source": [
    "El primer paso es crear un dataframe que contenga las columnas 'user_id, 'Posted', 'recommend', y 'items_count'.\n",
    "\n",
    "Para eso haremos un merge entre el dataframe df_reviews_full y el dataframe df_items_full utilizando como columna clave el **'user_id'**"
   ]
  },
  {
   "cell_type": "code",
   "execution_count": 41,
   "metadata": {},
   "outputs": [
    {
     "data": {
      "text/html": [
       "<div>\n",
       "<style scoped>\n",
       "    .dataframe tbody tr th:only-of-type {\n",
       "        vertical-align: middle;\n",
       "    }\n",
       "\n",
       "    .dataframe tbody tr th {\n",
       "        vertical-align: top;\n",
       "    }\n",
       "\n",
       "    .dataframe thead th {\n",
       "        text-align: right;\n",
       "    }\n",
       "</style>\n",
       "<table border=\"1\" class=\"dataframe\">\n",
       "  <thead>\n",
       "    <tr style=\"text-align: right;\">\n",
       "      <th></th>\n",
       "      <th>user_id</th>\n",
       "      <th>posted</th>\n",
       "      <th>recommend</th>\n",
       "    </tr>\n",
       "  </thead>\n",
       "  <tbody>\n",
       "    <tr>\n",
       "      <th>0</th>\n",
       "      <td>76561197970982479</td>\n",
       "      <td>Posted November 5, 2011.</td>\n",
       "      <td>True</td>\n",
       "    </tr>\n",
       "    <tr>\n",
       "      <th>1</th>\n",
       "      <td>76561197970982479</td>\n",
       "      <td>Posted November 5, 2011.</td>\n",
       "      <td>True</td>\n",
       "    </tr>\n",
       "    <tr>\n",
       "      <th>2</th>\n",
       "      <td>76561197970982479</td>\n",
       "      <td>Posted November 5, 2011.</td>\n",
       "      <td>True</td>\n",
       "    </tr>\n",
       "    <tr>\n",
       "      <th>3</th>\n",
       "      <td>76561197970982479</td>\n",
       "      <td>Posted November 5, 2011.</td>\n",
       "      <td>True</td>\n",
       "    </tr>\n",
       "    <tr>\n",
       "      <th>4</th>\n",
       "      <td>76561197970982479</td>\n",
       "      <td>Posted November 5, 2011.</td>\n",
       "      <td>True</td>\n",
       "    </tr>\n",
       "    <tr>\n",
       "      <th>...</th>\n",
       "      <td>...</td>\n",
       "      <td>...</td>\n",
       "      <td>...</td>\n",
       "    </tr>\n",
       "    <tr>\n",
       "      <th>7782439</th>\n",
       "      <td>CaptainAmericaCw</td>\n",
       "      <td>Posted July 20.</td>\n",
       "      <td>True</td>\n",
       "    </tr>\n",
       "    <tr>\n",
       "      <th>7782440</th>\n",
       "      <td>76561198267374962</td>\n",
       "      <td>Posted July 2.</td>\n",
       "      <td>True</td>\n",
       "    </tr>\n",
       "    <tr>\n",
       "      <th>7782441</th>\n",
       "      <td>76561198267374962</td>\n",
       "      <td>Posted July 2.</td>\n",
       "      <td>True</td>\n",
       "    </tr>\n",
       "    <tr>\n",
       "      <th>7782442</th>\n",
       "      <td>76561198267374962</td>\n",
       "      <td>Posted July 2.</td>\n",
       "      <td>True</td>\n",
       "    </tr>\n",
       "    <tr>\n",
       "      <th>7782443</th>\n",
       "      <td>76561198267374962</td>\n",
       "      <td>Posted July 2.</td>\n",
       "      <td>True</td>\n",
       "    </tr>\n",
       "  </tbody>\n",
       "</table>\n",
       "<p>7782444 rows × 3 columns</p>\n",
       "</div>"
      ],
      "text/plain": [
       "                   user_id                    posted recommend\n",
       "0        76561197970982479  Posted November 5, 2011.      True\n",
       "1        76561197970982479  Posted November 5, 2011.      True\n",
       "2        76561197970982479  Posted November 5, 2011.      True\n",
       "3        76561197970982479  Posted November 5, 2011.      True\n",
       "4        76561197970982479  Posted November 5, 2011.      True\n",
       "...                    ...                       ...       ...\n",
       "7782439   CaptainAmericaCw           Posted July 20.      True\n",
       "7782440  76561198267374962            Posted July 2.      True\n",
       "7782441  76561198267374962            Posted July 2.      True\n",
       "7782442  76561198267374962            Posted July 2.      True\n",
       "7782443  76561198267374962            Posted July 2.      True\n",
       "\n",
       "[7782444 rows x 3 columns]"
      ]
     },
     "execution_count": 41,
     "metadata": {},
     "output_type": "execute_result"
    }
   ],
   "source": [
    "df_f2 = df_reviews_full.merge(df_items_full, on='user_id', how='inner')\n",
    "df_f2 = df_f2[['user_id', 'posted', 'recommend']]\n",
    "df_f2"
   ]
  },
  {
   "cell_type": "markdown",
   "metadata": {},
   "source": [
    "El segundo paso es normalizar la columna 'posted' donde tenemos la fecha en formato texto. \n",
    "\n",
    "Eliminamos la palabra 'Posted' y convertimos la columna a tipo de dato **datetime**"
   ]
  },
  {
   "cell_type": "code",
   "execution_count": 42,
   "metadata": {},
   "outputs": [],
   "source": [
    "# Eliminamos la palabra 'Posted:'\n",
    "df_f2['posted']=df_f2['posted'].replace({'Posted':''},regex=True)\n",
    "\n",
    "# Convertimos la columna a datetime.\n",
    "df_f2['posted'] = pd.to_datetime(df_f2['posted'],errors='coerce')\n",
    "\n",
    "# Eliminamos los valores con error (NaT), por ejemplo, fechas que no tenían el año.\n",
    "df_f2.dropna(inplace=True)\n",
    "\n",
    "df_f2.drop_duplicates(inplace=True)"
   ]
  },
  {
   "cell_type": "code",
   "execution_count": 43,
   "metadata": {},
   "outputs": [],
   "source": [
    "def countreviews(inicio, fin):\n",
    "    '''\n",
    "    Calcula la cantidad de usuarios que realizaron reviews entre las fechas dadas y \n",
    "    el porcentaje de recomendacion de esos usuarios.\n",
    "    \n",
    "    Argumentos:\n",
    "    inicio (str): Fecha de inicio del periodo a evaluar.\n",
    "    fin (str): Fecha de fin del periodo a evaluar\n",
    "    '''\n",
    "    inicio = pd.to_datetime(inicio)\n",
    "    fin = pd.to_datetime(fin) \n",
    "    \n",
    "    # Filtra las filas del DataFrame que estén dentro del rango de fechas\n",
    "    reviews_entre_fechas = df_f2[(df_f2['posted'] >= inicio) & (df_f2['posted'] <= fin)]\n",
    "    \n",
    "    # Calcula la cantidad de usuarios únicos que realizaron reviews en ese período\n",
    "    cantidad_usuarios = reviews_entre_fechas['user_id'].nunique()\n",
    "    \n",
    "    reviews_reco = round(reviews_entre_fechas['recommend'].sum() / reviews_entre_fechas['recommend'].count() * 100,2)\n",
    "    \n",
    "    return {'Cantidad de usuarios:': cantidad_usuarios,\n",
    "            # Hacemos el cociente para calcular el porcentaje.\n",
    "        'Porcentaje de recomendación:': reviews_reco\n",
    "    }"
   ]
  },
  {
   "cell_type": "code",
   "execution_count": 44,
   "metadata": {},
   "outputs": [
    {
     "data": {
      "text/plain": [
       "{'Cantidad de usuarios:': 44, 'Porcentaje de recomendación:': 95.65}"
      ]
     },
     "execution_count": 44,
     "metadata": {},
     "output_type": "execute_result"
    }
   ],
   "source": [
    "countreviews('2011-11-11','2011-12-18')"
   ]
  },
  {
   "cell_type": "markdown",
   "metadata": {},
   "source": [
    "## 4.3 Tercera función: *def genre( género : str )*\n",
    "\n",
    "Devuelve el puesto en el que se encuentra un género sobre el ranking de los mismos analizado bajo la columna PlayTimeForever."
   ]
  },
  {
   "cell_type": "markdown",
   "metadata": {},
   "source": [
    "Para esta funcion utilizaremos el dataframe creado en la funcion 1, llamado items_games. Para esta funcion solo vamos a necesitar las columnas 'genres' y 'playtime_forever'. "
   ]
  },
  {
   "cell_type": "code",
   "execution_count": 45,
   "metadata": {},
   "outputs": [
    {
     "data": {
      "text/html": [
       "<div>\n",
       "<style scoped>\n",
       "    .dataframe tbody tr th:only-of-type {\n",
       "        vertical-align: middle;\n",
       "    }\n",
       "\n",
       "    .dataframe tbody tr th {\n",
       "        vertical-align: top;\n",
       "    }\n",
       "\n",
       "    .dataframe thead th {\n",
       "        text-align: right;\n",
       "    }\n",
       "</style>\n",
       "<table border=\"1\" class=\"dataframe\">\n",
       "  <thead>\n",
       "    <tr style=\"text-align: right;\">\n",
       "      <th></th>\n",
       "      <th>genres</th>\n",
       "      <th>playtime_forever</th>\n",
       "    </tr>\n",
       "  </thead>\n",
       "  <tbody>\n",
       "    <tr>\n",
       "      <th>0</th>\n",
       "      <td>[Action]</td>\n",
       "      <td>6.0</td>\n",
       "    </tr>\n",
       "    <tr>\n",
       "      <th>1</th>\n",
       "      <td>[Action]</td>\n",
       "      <td>0.0</td>\n",
       "    </tr>\n",
       "    <tr>\n",
       "      <th>2</th>\n",
       "      <td>[Action]</td>\n",
       "      <td>7.0</td>\n",
       "    </tr>\n",
       "    <tr>\n",
       "      <th>3</th>\n",
       "      <td>[Action]</td>\n",
       "      <td>0.0</td>\n",
       "    </tr>\n",
       "    <tr>\n",
       "      <th>4</th>\n",
       "      <td>[Action]</td>\n",
       "      <td>0.0</td>\n",
       "    </tr>\n",
       "    <tr>\n",
       "      <th>...</th>\n",
       "      <td>...</td>\n",
       "      <td>...</td>\n",
       "    </tr>\n",
       "    <tr>\n",
       "      <th>5186816</th>\n",
       "      <td>[Adventure, Free to Play]</td>\n",
       "      <td>3.0</td>\n",
       "    </tr>\n",
       "    <tr>\n",
       "      <th>5186817</th>\n",
       "      <td>[Casual, Free to Play, Indie]</td>\n",
       "      <td>4.0</td>\n",
       "    </tr>\n",
       "    <tr>\n",
       "      <th>5186818</th>\n",
       "      <td>NaN</td>\n",
       "      <td>3.0</td>\n",
       "    </tr>\n",
       "    <tr>\n",
       "      <th>5186819</th>\n",
       "      <td>None</td>\n",
       "      <td>NaN</td>\n",
       "    </tr>\n",
       "    <tr>\n",
       "      <th>5186820</th>\n",
       "      <td>[Action, Adventure]</td>\n",
       "      <td>NaN</td>\n",
       "    </tr>\n",
       "  </tbody>\n",
       "</table>\n",
       "<p>5186821 rows × 2 columns</p>\n",
       "</div>"
      ],
      "text/plain": [
       "                                genres  playtime_forever\n",
       "0                             [Action]               6.0\n",
       "1                             [Action]               0.0\n",
       "2                             [Action]               7.0\n",
       "3                             [Action]               0.0\n",
       "4                             [Action]               0.0\n",
       "...                                ...               ...\n",
       "5186816      [Adventure, Free to Play]               3.0\n",
       "5186817  [Casual, Free to Play, Indie]               4.0\n",
       "5186818                            NaN               3.0\n",
       "5186819                           None               NaN\n",
       "5186820            [Action, Adventure]               NaN\n",
       "\n",
       "[5186821 rows x 2 columns]"
      ]
     },
     "execution_count": 45,
     "metadata": {},
     "output_type": "execute_result"
    }
   ],
   "source": [
    "df_f3 = df_items_games[['genres', 'playtime_forever']]\n",
    "df_f3"
   ]
  },
  {
   "cell_type": "markdown",
   "metadata": {},
   "source": [
    "Podemos observar que la columna 'genres' tiene valores anidados en listas. Para poder desanidarlo vamos a utilizar la funcion **.explode**"
   ]
  },
  {
   "cell_type": "code",
   "execution_count": 46,
   "metadata": {},
   "outputs": [
    {
     "data": {
      "text/html": [
       "<div>\n",
       "<style scoped>\n",
       "    .dataframe tbody tr th:only-of-type {\n",
       "        vertical-align: middle;\n",
       "    }\n",
       "\n",
       "    .dataframe tbody tr th {\n",
       "        vertical-align: top;\n",
       "    }\n",
       "\n",
       "    .dataframe thead th {\n",
       "        text-align: right;\n",
       "    }\n",
       "</style>\n",
       "<table border=\"1\" class=\"dataframe\">\n",
       "  <thead>\n",
       "    <tr style=\"text-align: right;\">\n",
       "      <th></th>\n",
       "      <th>genres</th>\n",
       "      <th>playtime_forever</th>\n",
       "    </tr>\n",
       "  </thead>\n",
       "  <tbody>\n",
       "    <tr>\n",
       "      <th>0</th>\n",
       "      <td>Action</td>\n",
       "      <td>6.0</td>\n",
       "    </tr>\n",
       "    <tr>\n",
       "      <th>1</th>\n",
       "      <td>Action</td>\n",
       "      <td>0.0</td>\n",
       "    </tr>\n",
       "    <tr>\n",
       "      <th>2</th>\n",
       "      <td>Action</td>\n",
       "      <td>7.0</td>\n",
       "    </tr>\n",
       "    <tr>\n",
       "      <th>3</th>\n",
       "      <td>Action</td>\n",
       "      <td>0.0</td>\n",
       "    </tr>\n",
       "    <tr>\n",
       "      <th>4</th>\n",
       "      <td>Action</td>\n",
       "      <td>0.0</td>\n",
       "    </tr>\n",
       "    <tr>\n",
       "      <th>...</th>\n",
       "      <td>...</td>\n",
       "      <td>...</td>\n",
       "    </tr>\n",
       "    <tr>\n",
       "      <th>5186817</th>\n",
       "      <td>Indie</td>\n",
       "      <td>4.0</td>\n",
       "    </tr>\n",
       "    <tr>\n",
       "      <th>5186818</th>\n",
       "      <td>NaN</td>\n",
       "      <td>3.0</td>\n",
       "    </tr>\n",
       "    <tr>\n",
       "      <th>5186819</th>\n",
       "      <td>None</td>\n",
       "      <td>NaN</td>\n",
       "    </tr>\n",
       "    <tr>\n",
       "      <th>5186820</th>\n",
       "      <td>Action</td>\n",
       "      <td>NaN</td>\n",
       "    </tr>\n",
       "    <tr>\n",
       "      <th>5186820</th>\n",
       "      <td>Adventure</td>\n",
       "      <td>NaN</td>\n",
       "    </tr>\n",
       "  </tbody>\n",
       "</table>\n",
       "<p>10992761 rows × 2 columns</p>\n",
       "</div>"
      ],
      "text/plain": [
       "            genres  playtime_forever\n",
       "0           Action               6.0\n",
       "1           Action               0.0\n",
       "2           Action               7.0\n",
       "3           Action               0.0\n",
       "4           Action               0.0\n",
       "...            ...               ...\n",
       "5186817      Indie               4.0\n",
       "5186818        NaN               3.0\n",
       "5186819       None               NaN\n",
       "5186820     Action               NaN\n",
       "5186820  Adventure               NaN\n",
       "\n",
       "[10992761 rows x 2 columns]"
      ]
     },
     "execution_count": 46,
     "metadata": {},
     "output_type": "execute_result"
    }
   ],
   "source": [
    "df_f3 = df_f3.explode('genres')\n",
    "df_f3"
   ]
  },
  {
   "cell_type": "markdown",
   "metadata": {},
   "source": [
    "Luego vamos a crear un ranking de los generos considerando la suma de la columna playtime_forever. "
   ]
  },
  {
   "cell_type": "code",
   "execution_count": 47,
   "metadata": {},
   "outputs": [
    {
     "data": {
      "text/html": [
       "<div>\n",
       "<style scoped>\n",
       "    .dataframe tbody tr th:only-of-type {\n",
       "        vertical-align: middle;\n",
       "    }\n",
       "\n",
       "    .dataframe tbody tr th {\n",
       "        vertical-align: top;\n",
       "    }\n",
       "\n",
       "    .dataframe thead th {\n",
       "        text-align: right;\n",
       "    }\n",
       "</style>\n",
       "<table border=\"1\" class=\"dataframe\">\n",
       "  <thead>\n",
       "    <tr style=\"text-align: right;\">\n",
       "      <th></th>\n",
       "      <th>genres</th>\n",
       "      <th>playtime_forever</th>\n",
       "      <th>Posicion</th>\n",
       "    </tr>\n",
       "  </thead>\n",
       "  <tbody>\n",
       "    <tr>\n",
       "      <th>0</th>\n",
       "      <td>Action</td>\n",
       "      <td>3.113563e+09</td>\n",
       "      <td>1</td>\n",
       "    </tr>\n",
       "    <tr>\n",
       "      <th>1</th>\n",
       "      <td>Adventure</td>\n",
       "      <td>9.099951e+08</td>\n",
       "      <td>2</td>\n",
       "    </tr>\n",
       "    <tr>\n",
       "      <th>2</th>\n",
       "      <td>Animation &amp;amp; Modeling</td>\n",
       "      <td>2.007347e+06</td>\n",
       "      <td>3</td>\n",
       "    </tr>\n",
       "    <tr>\n",
       "      <th>3</th>\n",
       "      <td>Audio Production</td>\n",
       "      <td>5.560020e+05</td>\n",
       "      <td>4</td>\n",
       "    </tr>\n",
       "    <tr>\n",
       "      <th>4</th>\n",
       "      <td>Casual</td>\n",
       "      <td>2.522329e+08</td>\n",
       "      <td>5</td>\n",
       "    </tr>\n",
       "    <tr>\n",
       "      <th>5</th>\n",
       "      <td>Design &amp;amp; Illustration</td>\n",
       "      <td>4.102258e+06</td>\n",
       "      <td>6</td>\n",
       "    </tr>\n",
       "    <tr>\n",
       "      <th>6</th>\n",
       "      <td>Early Access</td>\n",
       "      <td>1.587013e+08</td>\n",
       "      <td>7</td>\n",
       "    </tr>\n",
       "    <tr>\n",
       "      <th>7</th>\n",
       "      <td>Education</td>\n",
       "      <td>4.155560e+05</td>\n",
       "      <td>8</td>\n",
       "    </tr>\n",
       "    <tr>\n",
       "      <th>8</th>\n",
       "      <td>Free to Play</td>\n",
       "      <td>6.107529e+08</td>\n",
       "      <td>9</td>\n",
       "    </tr>\n",
       "    <tr>\n",
       "      <th>9</th>\n",
       "      <td>Indie</td>\n",
       "      <td>1.494622e+09</td>\n",
       "      <td>10</td>\n",
       "    </tr>\n",
       "    <tr>\n",
       "      <th>10</th>\n",
       "      <td>Massively Multiplayer</td>\n",
       "      <td>4.465941e+08</td>\n",
       "      <td>11</td>\n",
       "    </tr>\n",
       "    <tr>\n",
       "      <th>11</th>\n",
       "      <td>Photo Editing</td>\n",
       "      <td>1.154250e+05</td>\n",
       "      <td>12</td>\n",
       "    </tr>\n",
       "    <tr>\n",
       "      <th>12</th>\n",
       "      <td>RPG</td>\n",
       "      <td>1.041023e+09</td>\n",
       "      <td>13</td>\n",
       "    </tr>\n",
       "    <tr>\n",
       "      <th>13</th>\n",
       "      <td>Racing</td>\n",
       "      <td>6.369846e+07</td>\n",
       "      <td>14</td>\n",
       "    </tr>\n",
       "    <tr>\n",
       "      <th>14</th>\n",
       "      <td>Simulation</td>\n",
       "      <td>8.676463e+08</td>\n",
       "      <td>15</td>\n",
       "    </tr>\n",
       "    <tr>\n",
       "      <th>15</th>\n",
       "      <td>Software Training</td>\n",
       "      <td>5.710320e+05</td>\n",
       "      <td>16</td>\n",
       "    </tr>\n",
       "    <tr>\n",
       "      <th>16</th>\n",
       "      <td>Sports</td>\n",
       "      <td>6.584918e+07</td>\n",
       "      <td>17</td>\n",
       "    </tr>\n",
       "    <tr>\n",
       "      <th>17</th>\n",
       "      <td>Strategy</td>\n",
       "      <td>6.593638e+08</td>\n",
       "      <td>18</td>\n",
       "    </tr>\n",
       "    <tr>\n",
       "      <th>18</th>\n",
       "      <td>Utilities</td>\n",
       "      <td>4.702399e+06</td>\n",
       "      <td>19</td>\n",
       "    </tr>\n",
       "    <tr>\n",
       "      <th>19</th>\n",
       "      <td>Video Production</td>\n",
       "      <td>2.408892e+06</td>\n",
       "      <td>20</td>\n",
       "    </tr>\n",
       "    <tr>\n",
       "      <th>20</th>\n",
       "      <td>Web Publishing</td>\n",
       "      <td>2.780605e+06</td>\n",
       "      <td>21</td>\n",
       "    </tr>\n",
       "  </tbody>\n",
       "</table>\n",
       "</div>"
      ],
      "text/plain": [
       "                       genres  playtime_forever  Posicion\n",
       "0                      Action      3.113563e+09         1\n",
       "1                   Adventure      9.099951e+08         2\n",
       "2    Animation &amp; Modeling      2.007347e+06         3\n",
       "3            Audio Production      5.560020e+05         4\n",
       "4                      Casual      2.522329e+08         5\n",
       "5   Design &amp; Illustration      4.102258e+06         6\n",
       "6                Early Access      1.587013e+08         7\n",
       "7                   Education      4.155560e+05         8\n",
       "8                Free to Play      6.107529e+08         9\n",
       "9                       Indie      1.494622e+09        10\n",
       "10      Massively Multiplayer      4.465941e+08        11\n",
       "11              Photo Editing      1.154250e+05        12\n",
       "12                        RPG      1.041023e+09        13\n",
       "13                     Racing      6.369846e+07        14\n",
       "14                 Simulation      8.676463e+08        15\n",
       "15          Software Training      5.710320e+05        16\n",
       "16                     Sports      6.584918e+07        17\n",
       "17                   Strategy      6.593638e+08        18\n",
       "18                  Utilities      4.702399e+06        19\n",
       "19           Video Production      2.408892e+06        20\n",
       "20             Web Publishing      2.780605e+06        21"
      ]
     },
     "execution_count": 47,
     "metadata": {},
     "output_type": "execute_result"
    }
   ],
   "source": [
    "data = df_f3.groupby('genres',as_index=False)['playtime_forever'].sum()\n",
    "df_ranking = pd.DataFrame(data)\n",
    "df_ranking['Posicion'] = range(1, len(df_ranking) + 1)\n",
    "df_ranking"
   ]
  },
  {
   "cell_type": "code",
   "execution_count": 48,
   "metadata": {},
   "outputs": [],
   "source": [
    "def genre(genero):\n",
    "    \n",
    "    '''\n",
    "    Esta función nos aroja en que puesto del ranking 'Playtime_Forever' se encuentra \n",
    "    el género pasado como input.\n",
    "\n",
    "    Argumento: \n",
    "    genre (str): El género de juegos del cual se quiere conocer el ranquin de horas jugadas. \n",
    "    \n",
    "    '''\n",
    "    \n",
    "    #Filtramos el ranking según el genero y mostramos el valor de la columna posicion. \n",
    "    posicion = df_ranking[df_ranking['genres'] == genero]['Posicion'].iloc[0]\n",
    "    \n",
    "    return {'El género': genero, \n",
    "            'se encuentra en la posición':posicion\n",
    "    }"
   ]
  },
  {
   "cell_type": "code",
   "execution_count": 49,
   "metadata": {},
   "outputs": [
    {
     "data": {
      "text/plain": [
       "{'El género': 'Audio Production', 'se encuentra en la posición': 4}"
      ]
     },
     "execution_count": 49,
     "metadata": {},
     "output_type": "execute_result"
    }
   ],
   "source": [
    "genre('Audio Production')"
   ]
  },
  {
   "cell_type": "markdown",
   "metadata": {},
   "source": [
    "## 4.4 Cuarta función: *def userforgenre( género : str )*\n",
    "\n",
    " Top 5 de usuarios con más horas de juego en el género dado, con su URL (del user) y user_id."
   ]
  },
  {
   "cell_type": "markdown",
   "metadata": {},
   "source": [
    "El primer paso sera partir del dataframe creado en el punto 4.1, con el nombre de df_items_games. De este fata frame vamos a necesitar las columnas 'genre', 'user_id', 'user_url' y 'playtime_forever'."
   ]
  },
  {
   "cell_type": "code",
   "execution_count": 50,
   "metadata": {},
   "outputs": [
    {
     "data": {
      "text/html": [
       "<div>\n",
       "<style scoped>\n",
       "    .dataframe tbody tr th:only-of-type {\n",
       "        vertical-align: middle;\n",
       "    }\n",
       "\n",
       "    .dataframe tbody tr th {\n",
       "        vertical-align: top;\n",
       "    }\n",
       "\n",
       "    .dataframe thead th {\n",
       "        text-align: right;\n",
       "    }\n",
       "</style>\n",
       "<table border=\"1\" class=\"dataframe\">\n",
       "  <thead>\n",
       "    <tr style=\"text-align: right;\">\n",
       "      <th></th>\n",
       "      <th>genres</th>\n",
       "      <th>user_id</th>\n",
       "      <th>user_url</th>\n",
       "      <th>playtime_forever</th>\n",
       "    </tr>\n",
       "  </thead>\n",
       "  <tbody>\n",
       "    <tr>\n",
       "      <th>0</th>\n",
       "      <td>[Action]</td>\n",
       "      <td>76561197970982479</td>\n",
       "      <td>http://steamcommunity.com/profiles/76561197970...</td>\n",
       "      <td>6.0</td>\n",
       "    </tr>\n",
       "    <tr>\n",
       "      <th>1</th>\n",
       "      <td>[Action]</td>\n",
       "      <td>76561197970982479</td>\n",
       "      <td>http://steamcommunity.com/profiles/76561197970...</td>\n",
       "      <td>0.0</td>\n",
       "    </tr>\n",
       "    <tr>\n",
       "      <th>2</th>\n",
       "      <td>[Action]</td>\n",
       "      <td>76561197970982479</td>\n",
       "      <td>http://steamcommunity.com/profiles/76561197970...</td>\n",
       "      <td>7.0</td>\n",
       "    </tr>\n",
       "  </tbody>\n",
       "</table>\n",
       "</div>"
      ],
      "text/plain": [
       "     genres            user_id  \\\n",
       "0  [Action]  76561197970982479   \n",
       "1  [Action]  76561197970982479   \n",
       "2  [Action]  76561197970982479   \n",
       "\n",
       "                                            user_url  playtime_forever  \n",
       "0  http://steamcommunity.com/profiles/76561197970...               6.0  \n",
       "1  http://steamcommunity.com/profiles/76561197970...               0.0  \n",
       "2  http://steamcommunity.com/profiles/76561197970...               7.0  "
      ]
     },
     "execution_count": 50,
     "metadata": {},
     "output_type": "execute_result"
    }
   ],
   "source": [
    "df_f4 = df_items_games[['genres', 'user_id', 'user_url','playtime_forever']]\n",
    "df_f4.head(3)"
   ]
  },
  {
   "cell_type": "markdown",
   "metadata": {},
   "source": [
    "Luego debemos desanidar los valores de tipo lista que se encuentran en la columna 'genres'. Para eso utilizamos la función **.explode**"
   ]
  },
  {
   "cell_type": "code",
   "execution_count": 51,
   "metadata": {},
   "outputs": [
    {
     "data": {
      "text/html": [
       "<div>\n",
       "<style scoped>\n",
       "    .dataframe tbody tr th:only-of-type {\n",
       "        vertical-align: middle;\n",
       "    }\n",
       "\n",
       "    .dataframe tbody tr th {\n",
       "        vertical-align: top;\n",
       "    }\n",
       "\n",
       "    .dataframe thead th {\n",
       "        text-align: right;\n",
       "    }\n",
       "</style>\n",
       "<table border=\"1\" class=\"dataframe\">\n",
       "  <thead>\n",
       "    <tr style=\"text-align: right;\">\n",
       "      <th></th>\n",
       "      <th>genres</th>\n",
       "      <th>user_id</th>\n",
       "      <th>user_url</th>\n",
       "      <th>playtime_forever</th>\n",
       "    </tr>\n",
       "  </thead>\n",
       "  <tbody>\n",
       "    <tr>\n",
       "      <th>0</th>\n",
       "      <td>Action</td>\n",
       "      <td>76561197970982479</td>\n",
       "      <td>http://steamcommunity.com/profiles/76561197970...</td>\n",
       "      <td>6.0</td>\n",
       "    </tr>\n",
       "    <tr>\n",
       "      <th>1</th>\n",
       "      <td>Action</td>\n",
       "      <td>76561197970982479</td>\n",
       "      <td>http://steamcommunity.com/profiles/76561197970...</td>\n",
       "      <td>0.0</td>\n",
       "    </tr>\n",
       "    <tr>\n",
       "      <th>2</th>\n",
       "      <td>Action</td>\n",
       "      <td>76561197970982479</td>\n",
       "      <td>http://steamcommunity.com/profiles/76561197970...</td>\n",
       "      <td>7.0</td>\n",
       "    </tr>\n",
       "    <tr>\n",
       "      <th>3</th>\n",
       "      <td>Action</td>\n",
       "      <td>76561197970982479</td>\n",
       "      <td>http://steamcommunity.com/profiles/76561197970...</td>\n",
       "      <td>0.0</td>\n",
       "    </tr>\n",
       "    <tr>\n",
       "      <th>4</th>\n",
       "      <td>Action</td>\n",
       "      <td>76561197970982479</td>\n",
       "      <td>http://steamcommunity.com/profiles/76561197970...</td>\n",
       "      <td>0.0</td>\n",
       "    </tr>\n",
       "  </tbody>\n",
       "</table>\n",
       "</div>"
      ],
      "text/plain": [
       "   genres            user_id  \\\n",
       "0  Action  76561197970982479   \n",
       "1  Action  76561197970982479   \n",
       "2  Action  76561197970982479   \n",
       "3  Action  76561197970982479   \n",
       "4  Action  76561197970982479   \n",
       "\n",
       "                                            user_url  playtime_forever  \n",
       "0  http://steamcommunity.com/profiles/76561197970...               6.0  \n",
       "1  http://steamcommunity.com/profiles/76561197970...               0.0  \n",
       "2  http://steamcommunity.com/profiles/76561197970...               7.0  \n",
       "3  http://steamcommunity.com/profiles/76561197970...               0.0  \n",
       "4  http://steamcommunity.com/profiles/76561197970...               0.0  "
      ]
     },
     "execution_count": 51,
     "metadata": {},
     "output_type": "execute_result"
    }
   ],
   "source": [
    "df_f4 = df_f4.explode('genres')\n",
    "df_f4.head()"
   ]
  },
  {
   "cell_type": "code",
   "execution_count": 52,
   "metadata": {},
   "outputs": [
    {
     "data": {
      "text/html": [
       "<div>\n",
       "<style scoped>\n",
       "    .dataframe tbody tr th:only-of-type {\n",
       "        vertical-align: middle;\n",
       "    }\n",
       "\n",
       "    .dataframe tbody tr th {\n",
       "        vertical-align: top;\n",
       "    }\n",
       "\n",
       "    .dataframe thead th {\n",
       "        text-align: right;\n",
       "    }\n",
       "</style>\n",
       "<table border=\"1\" class=\"dataframe\">\n",
       "  <thead>\n",
       "    <tr style=\"text-align: right;\">\n",
       "      <th></th>\n",
       "      <th>genres</th>\n",
       "      <th>user_id</th>\n",
       "      <th>user_url</th>\n",
       "      <th>playtime_forever</th>\n",
       "    </tr>\n",
       "  </thead>\n",
       "  <tbody>\n",
       "    <tr>\n",
       "      <th>703833</th>\n",
       "      <td>Web Publishing</td>\n",
       "      <td>Xyphien</td>\n",
       "      <td>http://steamcommunity.com/id/Xyphien</td>\n",
       "      <td>142964.0</td>\n",
       "    </tr>\n",
       "    <tr>\n",
       "      <th>702318</th>\n",
       "      <td>Web Publishing</td>\n",
       "      <td>76561198035718256</td>\n",
       "      <td>http://steamcommunity.com/profiles/76561198035...</td>\n",
       "      <td>115083.0</td>\n",
       "    </tr>\n",
       "    <tr>\n",
       "      <th>704487</th>\n",
       "      <td>Web Publishing</td>\n",
       "      <td>pretentiouswutangratz</td>\n",
       "      <td>http://steamcommunity.com/id/pretentiouswutang...</td>\n",
       "      <td>105617.0</td>\n",
       "    </tr>\n",
       "    <tr>\n",
       "      <th>702064</th>\n",
       "      <td>Web Publishing</td>\n",
       "      <td>3197</td>\n",
       "      <td>http://steamcommunity.com/id/3197</td>\n",
       "      <td>79237.0</td>\n",
       "    </tr>\n",
       "    <tr>\n",
       "      <th>704381</th>\n",
       "      <td>Web Publishing</td>\n",
       "      <td>minakazu</td>\n",
       "      <td>http://steamcommunity.com/id/minakazu</td>\n",
       "      <td>75240.0</td>\n",
       "    </tr>\n",
       "    <tr>\n",
       "      <th>...</th>\n",
       "      <td>...</td>\n",
       "      <td>...</td>\n",
       "      <td>...</td>\n",
       "      <td>...</td>\n",
       "    </tr>\n",
       "    <tr>\n",
       "      <th>84503</th>\n",
       "      <td>Action</td>\n",
       "      <td>zudna</td>\n",
       "      <td>http://steamcommunity.com/id/zudna</td>\n",
       "      <td>0.0</td>\n",
       "    </tr>\n",
       "    <tr>\n",
       "      <th>84511</th>\n",
       "      <td>Action</td>\n",
       "      <td>zutututu</td>\n",
       "      <td>http://steamcommunity.com/id/zutututu</td>\n",
       "      <td>0.0</td>\n",
       "    </tr>\n",
       "    <tr>\n",
       "      <th>84525</th>\n",
       "      <td>Action</td>\n",
       "      <td>zyxif</td>\n",
       "      <td>http://steamcommunity.com/id/zyxif</td>\n",
       "      <td>0.0</td>\n",
       "    </tr>\n",
       "    <tr>\n",
       "      <th>84527</th>\n",
       "      <td>Action</td>\n",
       "      <td>zyzzchris</td>\n",
       "      <td>http://steamcommunity.com/id/zyzzchris</td>\n",
       "      <td>0.0</td>\n",
       "    </tr>\n",
       "    <tr>\n",
       "      <th>84531</th>\n",
       "      <td>Action</td>\n",
       "      <td>zzonci</td>\n",
       "      <td>http://steamcommunity.com/id/zzonci</td>\n",
       "      <td>0.0</td>\n",
       "    </tr>\n",
       "  </tbody>\n",
       "</table>\n",
       "<p>704782 rows × 4 columns</p>\n",
       "</div>"
      ],
      "text/plain": [
       "                genres                user_id  \\\n",
       "703833  Web Publishing                Xyphien   \n",
       "702318  Web Publishing      76561198035718256   \n",
       "704487  Web Publishing  pretentiouswutangratz   \n",
       "702064  Web Publishing                   3197   \n",
       "704381  Web Publishing               minakazu   \n",
       "...                ...                    ...   \n",
       "84503           Action                  zudna   \n",
       "84511           Action               zutututu   \n",
       "84525           Action                  zyxif   \n",
       "84527           Action              zyzzchris   \n",
       "84531           Action                 zzonci   \n",
       "\n",
       "                                                 user_url  playtime_forever  \n",
       "703833               http://steamcommunity.com/id/Xyphien          142964.0  \n",
       "702318  http://steamcommunity.com/profiles/76561198035...          115083.0  \n",
       "704487  http://steamcommunity.com/id/pretentiouswutang...          105617.0  \n",
       "702064                  http://steamcommunity.com/id/3197           79237.0  \n",
       "704381              http://steamcommunity.com/id/minakazu           75240.0  \n",
       "...                                                   ...               ...  \n",
       "84503                  http://steamcommunity.com/id/zudna               0.0  \n",
       "84511               http://steamcommunity.com/id/zutututu               0.0  \n",
       "84525                  http://steamcommunity.com/id/zyxif               0.0  \n",
       "84527              http://steamcommunity.com/id/zyzzchris               0.0  \n",
       "84531                 http://steamcommunity.com/id/zzonci               0.0  \n",
       "\n",
       "[704782 rows x 4 columns]"
      ]
     },
     "execution_count": 52,
     "metadata": {},
     "output_type": "execute_result"
    }
   ],
   "source": [
    "data = df_f4.groupby(['genres','user_id','user_url'],as_index=False)['playtime_forever'].sum()\n",
    "df_user_genre = pd.DataFrame(data)\n",
    "df_user_genre = df_user_genre.sort_values(by=['genres', 'playtime_forever'],ascending=False)\n",
    "df_user_genre"
   ]
  },
  {
   "cell_type": "code",
   "execution_count": 53,
   "metadata": {},
   "outputs": [],
   "source": [
    "def userforgenre(genre):\n",
    "    '''\n",
    "    Devuelve el TOP 5 de usuarios con más horas jugadas en un género específico.\n",
    "\n",
    "    Argumento:\n",
    "    genre (str): El género de juegos para el que se desea obtener el TOP 5 de usuarios.\n",
    "    \n",
    "    '''\n",
    "\n",
    "    # Filtrar el DataFrame para obtener datos específicos del género\n",
    "    data = df_user_genre[df_user_genre['genres'] == genre]\n",
    "\n",
    "    # Tomar los primeros 5 registros del DataFrame\n",
    "    top5 = data[['user_id', 'user_url', 'playtime_forever']].head(5).reset_index(drop=True)\n",
    "\n",
    "    return  'El TOP 5 de usuarios para el género,', genre, 'es el siguiente', top5\n",
    "    \n",
    "                                                               \n",
    "                                                            "
   ]
  },
  {
   "cell_type": "code",
   "execution_count": 54,
   "metadata": {},
   "outputs": [
    {
     "data": {
      "text/plain": [
       "('El TOP 5 de usuarios para el género,',\n",
       " 'Adventure',\n",
       " 'es el siguiente',\n",
       "         user_id                                   user_url  playtime_forever\n",
       " 0  REBAS_AS_F-T  http://steamcommunity.com/id/REBAS_AS_F-T         2191551.0\n",
       " 1   shinomegami   http://steamcommunity.com/id/shinomegami          767160.0\n",
       " 2   Evilutional   http://steamcommunity.com/id/Evilutional          662103.0\n",
       " 3       Sp3ctre       http://steamcommunity.com/id/Sp3ctre          654378.0\n",
       " 4      tobscene      http://steamcommunity.com/id/tobscene          640783.0)"
      ]
     },
     "execution_count": 54,
     "metadata": {},
     "output_type": "execute_result"
    }
   ],
   "source": [
    "userforgenre('Adventure')"
   ]
  },
  {
   "cell_type": "markdown",
   "metadata": {},
   "source": [
    "## 4.5 Quinta función: *def developer( desarrollador : str )*\n",
    "\n",
    " Cantidad de items y porcentaje de contenido Free por año según empresa desarrolladora."
   ]
  },
  {
   "cell_type": "code",
   "execution_count": 55,
   "metadata": {},
   "outputs": [
    {
     "data": {
      "text/html": [
       "<div>\n",
       "<style scoped>\n",
       "    .dataframe tbody tr th:only-of-type {\n",
       "        vertical-align: middle;\n",
       "    }\n",
       "\n",
       "    .dataframe tbody tr th {\n",
       "        vertical-align: top;\n",
       "    }\n",
       "\n",
       "    .dataframe thead th {\n",
       "        text-align: right;\n",
       "    }\n",
       "</style>\n",
       "<table border=\"1\" class=\"dataframe\">\n",
       "  <thead>\n",
       "    <tr style=\"text-align: right;\">\n",
       "      <th></th>\n",
       "      <th>user_id</th>\n",
       "      <th>items_count</th>\n",
       "      <th>steam_id</th>\n",
       "      <th>user_url</th>\n",
       "      <th>item_id</th>\n",
       "      <th>item_name</th>\n",
       "      <th>playtime_forever</th>\n",
       "      <th>playtime_2weeks</th>\n",
       "      <th>publisher</th>\n",
       "      <th>genres</th>\n",
       "      <th>...</th>\n",
       "      <th>release_date</th>\n",
       "      <th>tags</th>\n",
       "      <th>reviews_url</th>\n",
       "      <th>discount_price</th>\n",
       "      <th>specs</th>\n",
       "      <th>price</th>\n",
       "      <th>early_access</th>\n",
       "      <th>id</th>\n",
       "      <th>metascore</th>\n",
       "      <th>developer</th>\n",
       "    </tr>\n",
       "  </thead>\n",
       "  <tbody>\n",
       "    <tr>\n",
       "      <th>0</th>\n",
       "      <td>76561197970982479</td>\n",
       "      <td>277</td>\n",
       "      <td>76561197970982479</td>\n",
       "      <td>http://steamcommunity.com/profiles/76561197970...</td>\n",
       "      <td>10.0</td>\n",
       "      <td>Counter-Strike</td>\n",
       "      <td>6.0</td>\n",
       "      <td>0.0</td>\n",
       "      <td>Valve</td>\n",
       "      <td>[Action]</td>\n",
       "      <td>...</td>\n",
       "      <td>2000-11-01</td>\n",
       "      <td>[Action, FPS, Multiplayer, Shooter, Classic, T...</td>\n",
       "      <td>http://steamcommunity.com/app/10/reviews/?brow...</td>\n",
       "      <td>NaN</td>\n",
       "      <td>[Multi-player, Valve Anti-Cheat enabled]</td>\n",
       "      <td>9.99</td>\n",
       "      <td>0.0</td>\n",
       "      <td>10.0</td>\n",
       "      <td>88</td>\n",
       "      <td>Valve</td>\n",
       "    </tr>\n",
       "    <tr>\n",
       "      <th>1</th>\n",
       "      <td>76561197970982479</td>\n",
       "      <td>277</td>\n",
       "      <td>76561197970982479</td>\n",
       "      <td>http://steamcommunity.com/profiles/76561197970...</td>\n",
       "      <td>20.0</td>\n",
       "      <td>Team Fortress Classic</td>\n",
       "      <td>0.0</td>\n",
       "      <td>0.0</td>\n",
       "      <td>Valve</td>\n",
       "      <td>[Action]</td>\n",
       "      <td>...</td>\n",
       "      <td>1999-04-01</td>\n",
       "      <td>[Action, FPS, Multiplayer, Classic, Shooter, C...</td>\n",
       "      <td>http://steamcommunity.com/app/20/reviews/?brow...</td>\n",
       "      <td>NaN</td>\n",
       "      <td>[Multi-player, Valve Anti-Cheat enabled]</td>\n",
       "      <td>4.99</td>\n",
       "      <td>0.0</td>\n",
       "      <td>20.0</td>\n",
       "      <td>None</td>\n",
       "      <td>Valve</td>\n",
       "    </tr>\n",
       "  </tbody>\n",
       "</table>\n",
       "<p>2 rows × 23 columns</p>\n",
       "</div>"
      ],
      "text/plain": [
       "             user_id  items_count           steam_id  \\\n",
       "0  76561197970982479          277  76561197970982479   \n",
       "1  76561197970982479          277  76561197970982479   \n",
       "\n",
       "                                            user_url  item_id  \\\n",
       "0  http://steamcommunity.com/profiles/76561197970...     10.0   \n",
       "1  http://steamcommunity.com/profiles/76561197970...     20.0   \n",
       "\n",
       "               item_name  playtime_forever  playtime_2weeks publisher  \\\n",
       "0         Counter-Strike               6.0              0.0     Valve   \n",
       "1  Team Fortress Classic               0.0              0.0     Valve   \n",
       "\n",
       "     genres  ... release_date  \\\n",
       "0  [Action]  ...   2000-11-01   \n",
       "1  [Action]  ...   1999-04-01   \n",
       "\n",
       "                                                tags  \\\n",
       "0  [Action, FPS, Multiplayer, Shooter, Classic, T...   \n",
       "1  [Action, FPS, Multiplayer, Classic, Shooter, C...   \n",
       "\n",
       "                                         reviews_url discount_price  \\\n",
       "0  http://steamcommunity.com/app/10/reviews/?brow...            NaN   \n",
       "1  http://steamcommunity.com/app/20/reviews/?brow...            NaN   \n",
       "\n",
       "                                      specs price  early_access    id  \\\n",
       "0  [Multi-player, Valve Anti-Cheat enabled]  9.99           0.0  10.0   \n",
       "1  [Multi-player, Valve Anti-Cheat enabled]  4.99           0.0  20.0   \n",
       "\n",
       "   metascore  developer  \n",
       "0         88      Valve  \n",
       "1       None      Valve  \n",
       "\n",
       "[2 rows x 23 columns]"
      ]
     },
     "execution_count": 55,
     "metadata": {},
     "output_type": "execute_result"
    }
   ],
   "source": [
    "df_items_games.head(2)"
   ]
  },
  {
   "cell_type": "code",
   "execution_count": null,
   "metadata": {},
   "outputs": [],
   "source": [
    "df_f5_prueba = df_items_games[['item_id','developer','price','release_date']]\n",
    "df_f5_prueba.head()\n",
    "df_f5_prueba.dropna(inplace=True)\n",
    "df_f5_prueba.drop_duplicates(inplace=True)"
   ]
  },
  {
   "cell_type": "markdown",
   "metadata": {},
   "source": [
    "Creamos una copia del dataframe creado anteriormente y luego convertimos la columna 'release_date' a datetime."
   ]
  },
  {
   "cell_type": "code",
   "execution_count": 57,
   "metadata": {},
   "outputs": [],
   "source": [
    "df_f5 = df_f5_prueba.copy()\n",
    "df_f5['release_date'] = pd.to_datetime(df_f5['release_date'])"
   ]
  },
  {
   "cell_type": "code",
   "execution_count": 58,
   "metadata": {},
   "outputs": [
    {
     "data": {
      "text/html": [
       "<div>\n",
       "<style scoped>\n",
       "    .dataframe tbody tr th:only-of-type {\n",
       "        vertical-align: middle;\n",
       "    }\n",
       "\n",
       "    .dataframe tbody tr th {\n",
       "        vertical-align: top;\n",
       "    }\n",
       "\n",
       "    .dataframe thead th {\n",
       "        text-align: right;\n",
       "    }\n",
       "</style>\n",
       "<table border=\"1\" class=\"dataframe\">\n",
       "  <thead>\n",
       "    <tr style=\"text-align: right;\">\n",
       "      <th></th>\n",
       "      <th>item_id</th>\n",
       "      <th>developer</th>\n",
       "      <th>price</th>\n",
       "      <th>release_date</th>\n",
       "    </tr>\n",
       "  </thead>\n",
       "  <tbody>\n",
       "    <tr>\n",
       "      <th>0</th>\n",
       "      <td>10.0</td>\n",
       "      <td>Valve</td>\n",
       "      <td>9.99</td>\n",
       "      <td>2000-11-01</td>\n",
       "    </tr>\n",
       "    <tr>\n",
       "      <th>1</th>\n",
       "      <td>20.0</td>\n",
       "      <td>Valve</td>\n",
       "      <td>4.99</td>\n",
       "      <td>1999-04-01</td>\n",
       "    </tr>\n",
       "    <tr>\n",
       "      <th>2</th>\n",
       "      <td>30.0</td>\n",
       "      <td>Valve</td>\n",
       "      <td>4.99</td>\n",
       "      <td>2003-05-01</td>\n",
       "    </tr>\n",
       "    <tr>\n",
       "      <th>3</th>\n",
       "      <td>40.0</td>\n",
       "      <td>Valve</td>\n",
       "      <td>4.99</td>\n",
       "      <td>2001-06-01</td>\n",
       "    </tr>\n",
       "    <tr>\n",
       "      <th>4</th>\n",
       "      <td>50.0</td>\n",
       "      <td>Gearbox Software</td>\n",
       "      <td>4.99</td>\n",
       "      <td>1999-11-01</td>\n",
       "    </tr>\n",
       "    <tr>\n",
       "      <th>...</th>\n",
       "      <td>...</td>\n",
       "      <td>...</td>\n",
       "      <td>...</td>\n",
       "      <td>...</td>\n",
       "    </tr>\n",
       "    <tr>\n",
       "      <th>4597338</th>\n",
       "      <td>456780.0</td>\n",
       "      <td>Milestone S.r.l.</td>\n",
       "      <td>9.99</td>\n",
       "      <td>2016-06-09</td>\n",
       "    </tr>\n",
       "    <tr>\n",
       "      <th>4798996</th>\n",
       "      <td>444770.0</td>\n",
       "      <td>Silicon Jelly</td>\n",
       "      <td>7.99</td>\n",
       "      <td>2016-03-22</td>\n",
       "    </tr>\n",
       "    <tr>\n",
       "      <th>4939002</th>\n",
       "      <td>375450.0</td>\n",
       "      <td>KOEI TECMO GAMES CO., LTD.</td>\n",
       "      <td>59.99</td>\n",
       "      <td>2016-03-23</td>\n",
       "    </tr>\n",
       "    <tr>\n",
       "      <th>5137494</th>\n",
       "      <td>354280.0</td>\n",
       "      <td>CashcowGames</td>\n",
       "      <td>5.99</td>\n",
       "      <td>2016-02-23</td>\n",
       "    </tr>\n",
       "    <tr>\n",
       "      <th>5152258</th>\n",
       "      <td>433920.0</td>\n",
       "      <td>Amaranth Games, LLC</td>\n",
       "      <td>14.99</td>\n",
       "      <td>2016-02-01</td>\n",
       "    </tr>\n",
       "  </tbody>\n",
       "</table>\n",
       "<p>8456 rows × 4 columns</p>\n",
       "</div>"
      ],
      "text/plain": [
       "          item_id                   developer  price release_date\n",
       "0            10.0                       Valve   9.99   2000-11-01\n",
       "1            20.0                       Valve   4.99   1999-04-01\n",
       "2            30.0                       Valve   4.99   2003-05-01\n",
       "3            40.0                       Valve   4.99   2001-06-01\n",
       "4            50.0            Gearbox Software   4.99   1999-11-01\n",
       "...           ...                         ...    ...          ...\n",
       "4597338  456780.0            Milestone S.r.l.   9.99   2016-06-09\n",
       "4798996  444770.0               Silicon Jelly   7.99   2016-03-22\n",
       "4939002  375450.0  KOEI TECMO GAMES CO., LTD.  59.99   2016-03-23\n",
       "5137494  354280.0                CashcowGames   5.99   2016-02-23\n",
       "5152258  433920.0         Amaranth Games, LLC  14.99   2016-02-01\n",
       "\n",
       "[8456 rows x 4 columns]"
      ]
     },
     "execution_count": 58,
     "metadata": {},
     "output_type": "execute_result"
    }
   ],
   "source": [
    "df_f5"
   ]
  },
  {
   "cell_type": "code",
   "execution_count": 59,
   "metadata": {},
   "outputs": [],
   "source": [
    "def developer(desarrollador):\n",
    "    \n",
    "    '''\n",
    "    Devuelve cantidad de items y porcentaje de contenido Free por año según empresa desarrolladora.\n",
    "\n",
    "    Argumento:\n",
    "    desarrolador (str): El developer del juego (item) para el cual se desea obtener los valores mencionados. \n",
    "    \n",
    "    '''\n",
    "    \n",
    "    # Filtramos el DataFrame por el desarrollador dado\n",
    "    developer_df = df_f5[df_f5['developer'] == desarrollador]\n",
    "    \n",
    "    # Calculamos la cantidad de ítems gratuitos (Free) por año para el desarrollador\n",
    "    items_free_por_anio = developer_df[developer_df['price'] == 0].groupby(developer_df['release_date'].dt.year)['item_id'].nunique()\n",
    "    \n",
    "    # Calculamos la cantidad total de ítems por año para el desarrollador\n",
    "    items_totales_por_anio = developer_df.groupby(developer_df['release_date'].dt.year)['item_id'].nunique()\n",
    "    \n",
    "    # Rellenamos los años faltantes en el DataFrame de items_free_por_anio con ceros para que no arroje error el dataframe\n",
    "    for year in items_totales_por_anio.index:\n",
    "        if year not in items_free_por_anio.index:\n",
    "            items_free_por_anio[year] = 0\n",
    "    \n",
    "    # Ordenamos el DataFrame por año\n",
    "    items_free_por_anio = items_free_por_anio.sort_index()\n",
    "    \n",
    "    # Calculamos el porcentaje de contenido Free por año\n",
    "    porcentaje_free = (items_free_por_anio / items_totales_por_anio) * 100\n",
    "    \n",
    "    \n",
    "    resultados = pd.DataFrame({\n",
    "        'Año': items_free_por_anio.index,\n",
    "        'Cantidad de Items': items_totales_por_anio.values,\n",
    "        'Porcentaje Free': porcentaje_free.values\n",
    "    })\n",
    "    \n",
    "    return resultados.to_dict(orient = 'records')"
   ]
  },
  {
   "cell_type": "code",
   "execution_count": 60,
   "metadata": {},
   "outputs": [
    {
     "data": {
      "text/plain": [
       "[{'Año': 1998, 'Cantidad de Items Gratuitos': 0, 'Porcentaje Free': 0.0},\n",
       " {'Año': 1999, 'Cantidad de Items Gratuitos': 0, 'Porcentaje Free': 0.0},\n",
       " {'Año': 2000, 'Cantidad de Items Gratuitos': 0, 'Porcentaje Free': 0.0},\n",
       " {'Año': 2001, 'Cantidad de Items Gratuitos': 0, 'Porcentaje Free': 0.0},\n",
       " {'Año': 2003, 'Cantidad de Items Gratuitos': 0, 'Porcentaje Free': 0.0},\n",
       " {'Año': 2004, 'Cantidad de Items Gratuitos': 0, 'Porcentaje Free': 0.0},\n",
       " {'Año': 2006, 'Cantidad de Items Gratuitos': 0, 'Porcentaje Free': 0.0},\n",
       " {'Año': 2007, 'Cantidad de Items Gratuitos': 0, 'Porcentaje Free': 0.0},\n",
       " {'Año': 2008, 'Cantidad de Items Gratuitos': 0, 'Porcentaje Free': 0.0},\n",
       " {'Año': 2009, 'Cantidad de Items Gratuitos': 0, 'Porcentaje Free': 0.0},\n",
       " {'Año': 2010, 'Cantidad de Items Gratuitos': 0, 'Porcentaje Free': 0.0},\n",
       " {'Año': 2011, 'Cantidad de Items Gratuitos': 0, 'Porcentaje Free': 0.0},\n",
       " {'Año': 2012, 'Cantidad de Items Gratuitos': 0, 'Porcentaje Free': 0.0}]"
      ]
     },
     "execution_count": 60,
     "metadata": {},
     "output_type": "execute_result"
    }
   ],
   "source": [
    "developer('Valve')"
   ]
  },
  {
   "cell_type": "markdown",
   "metadata": {},
   "source": [
    "## 4.6 Sexta función: *def sentiment_analysis( año : int )*\n",
    "\n",
    " Según el año de lanzamiento, se devuelve una lista con la cantidad de registros de reseñas de usuarios que se encuentren categorizados con un análisis de sentimiento."
   ]
  },
  {
   "cell_type": "markdown",
   "metadata": {},
   "source": [
    "El primer paso será crear un data frame donde tengamos las columnas'sentimiento' y 'posted'. Para ello unimos el dataframe creado en el punto 3 de este proyecto llamado df_sentimiento con el df_items_full. "
   ]
  },
  {
   "cell_type": "code",
   "execution_count": 61,
   "metadata": {},
   "outputs": [],
   "source": [
    "df_f6 = df_sentimiento.merge(df_items_full, on='user_id', how='inner')"
   ]
  },
  {
   "cell_type": "code",
   "execution_count": 62,
   "metadata": {},
   "outputs": [],
   "source": [
    "df_f6.drop(columns=['item_id_y','item_name','playtime_forever','playtime_2weeks'],inplace=True)"
   ]
  },
  {
   "cell_type": "code",
   "execution_count": 63,
   "metadata": {},
   "outputs": [],
   "source": [
    "df_f6.drop_duplicates(inplace=True)"
   ]
  },
  {
   "cell_type": "markdown",
   "metadata": {},
   "source": [
    "Luego, nos quedamos con las dos columnas que nos van a servir para realizar la función. "
   ]
  },
  {
   "cell_type": "code",
   "execution_count": 64,
   "metadata": {},
   "outputs": [],
   "source": [
    "df_f6 = df_f6[['sentimiento','posted']]"
   ]
  },
  {
   "cell_type": "markdown",
   "metadata": {},
   "source": [
    "El segundo paso es normalizar la columna 'posted' donde tenemos la fecha en formato texto. \n",
    "\n",
    "Eliminamos la palabra 'Posted' y convertimos la columna a tipo de dato **datetime**"
   ]
  },
  {
   "cell_type": "code",
   "execution_count": 65,
   "metadata": {},
   "outputs": [],
   "source": [
    "# Eliminamos la palabra 'Posted:'\n",
    "df_f6['posted']=df_f6['posted'].replace({'Posted':''},regex=True)\n",
    "\n",
    "# Convertimos la columna a datetime.\n",
    "df_f6['posted'] = pd.to_datetime(df_f6['posted'],errors='coerce')\n",
    "\n",
    "# Eliminamos los valores con error (NaT), por ejemplo, fechas que no tenían el año.\n",
    "df_f6.dropna(inplace=True)"
   ]
  },
  {
   "cell_type": "code",
   "execution_count": 66,
   "metadata": {},
   "outputs": [],
   "source": [
    "def obtener_anio(fecha):\n",
    "    return fecha.year\n",
    "\n",
    "# Aplica la función para crear la nueva columna 'ando'\n",
    "df_f6['anio'] = df_f6['posted'].apply(obtener_anio)\n"
   ]
  },
  {
   "cell_type": "code",
   "execution_count": 67,
   "metadata": {},
   "outputs": [],
   "source": [
    "df_f6['anio'] = pd.to_datetime(df_f6['anio'],errors='coerce')"
   ]
  },
  {
   "cell_type": "code",
   "execution_count": 68,
   "metadata": {},
   "outputs": [],
   "source": [
    "df_f6['anio'] = df_f6['anio'].astype(int)"
   ]
  },
  {
   "cell_type": "code",
   "execution_count": 69,
   "metadata": {},
   "outputs": [],
   "source": [
    "def sentiment_analysis(anio):\n",
    "    ''' \n",
    "    Devuelve un DataFrame con la cantidad de registros de reseñas de usuarios categorizados por análisis de sentimiento para un año específico.\n",
    "    \n",
    "    Argumentos:\n",
    "    anio (int): Año en el cual queremos obtener el análisis de sentimiento.\n",
    "    df_f6 (DataFrame): El DataFrame que contiene los datos de reseñas y sentimientos.\n",
    "   \n",
    "    '''\n",
    "\n",
    "    # Filtramos el DataFrame según el año definido como argumento\n",
    "    df_filtered = df_f6[df_f6['posted'].dt.year == anio]\n",
    "    \n",
    "    # Utilizamos value_counts() para contar los valores únicos en la columna 'sentimiento'\n",
    "    positivos = 0\n",
    "    neutros = 0\n",
    "    negativos = 0\n",
    "\n",
    "    # Obtenemos la cantidad de valores positivos, negativos y neutros\n",
    "    for i in df_filtered['sentimiento']:\n",
    "        if i == 2:\n",
    "            positivos += 1\n",
    "        elif i == 1:\n",
    "            neutros += 1\n",
    "        elif i == 0:\n",
    "            negativos += 1 \n",
    "\n",
    "    # Crear un DataFrame con los resultados\n",
    "    resultado = pd.DataFrame({\n",
    "        'Positivos': [positivos],\n",
    "        'Neutros': [neutros],\n",
    "        'Negativos': [negativos]\n",
    "    })\n",
    "\n",
    "    return resultado"
   ]
  },
  {
   "cell_type": "code",
   "execution_count": 70,
   "metadata": {},
   "outputs": [
    {
     "data": {
      "text/html": [
       "<div>\n",
       "<style scoped>\n",
       "    .dataframe tbody tr th:only-of-type {\n",
       "        vertical-align: middle;\n",
       "    }\n",
       "\n",
       "    .dataframe tbody tr th {\n",
       "        vertical-align: top;\n",
       "    }\n",
       "\n",
       "    .dataframe thead th {\n",
       "        text-align: right;\n",
       "    }\n",
       "</style>\n",
       "<table border=\"1\" class=\"dataframe\">\n",
       "  <thead>\n",
       "    <tr style=\"text-align: right;\">\n",
       "      <th></th>\n",
       "      <th>Positivos</th>\n",
       "      <th>Neutros</th>\n",
       "      <th>Negativos</th>\n",
       "    </tr>\n",
       "  </thead>\n",
       "  <tbody>\n",
       "    <tr>\n",
       "      <th>0</th>\n",
       "      <td>312</td>\n",
       "      <td>153</td>\n",
       "      <td>65</td>\n",
       "    </tr>\n",
       "  </tbody>\n",
       "</table>\n",
       "</div>"
      ],
      "text/plain": [
       "   Positivos  Neutros  Negativos\n",
       "0        312      153         65"
      ]
     },
     "execution_count": 70,
     "metadata": {},
     "output_type": "execute_result"
    }
   ],
   "source": [
    "sentiment_analysis(2011)"
   ]
  },
  {
   "cell_type": "markdown",
   "metadata": {},
   "source": [
    "## 4.7 Creación de archivos:\n",
    "\n",
    " Crearemos archivos en formato parquet para cada uno de los data frames utilizados en las funciones"
   ]
  },
  {
   "cell_type": "code",
   "execution_count": 71,
   "metadata": {},
   "outputs": [],
   "source": [
    "df_items_full.to_parquet('df_items_full.parquet')\n",
    "df_items_recommend.to_parquet('df_items_recommend.parquet')\n",
    "df_f2.to_parquet('df_f2.parquet')\n",
    "df_ranking.to_parquet('df_ranking.parquet')\n",
    "df_user_genre.to_parquet('df_user_genre.parquet')\n",
    "df_f5.to_parquet('df_f5.parquet')\n",
    "df_f6.to_parquet('df_f6.parquet')\n",
    "df_f1.to_parquet('df_f1.parquet')"
   ]
  },
  {
   "cell_type": "code",
   "execution_count": 74,
   "metadata": {},
   "outputs": [],
   "source": [
    "df_items_full.to_parquet('df_items_full.parquet')"
   ]
  },
  {
   "cell_type": "markdown",
   "metadata": {},
   "source": [
    "# 5. **Analisis exploratorio - EDA**\n",
    "***"
   ]
  },
  {
   "cell_type": "code",
   "execution_count": null,
   "metadata": {},
   "outputs": [],
   "source": []
  },
  {
   "cell_type": "markdown",
   "metadata": {},
   "source": [
    "# 6. **Modelamiento**\n",
    "***"
   ]
  },
  {
   "cell_type": "code",
   "execution_count": null,
   "metadata": {},
   "outputs": [],
   "source": []
  }
 ],
 "metadata": {
  "kernelspec": {
   "display_name": "Python 3",
   "language": "python",
   "name": "python3"
  },
  "language_info": {
   "codemirror_mode": {
    "name": "ipython",
    "version": 3
   },
   "file_extension": ".py",
   "mimetype": "text/x-python",
   "name": "python",
   "nbconvert_exporter": "python",
   "pygments_lexer": "ipython3",
   "version": "3.10.9"
  },
  "orig_nbformat": 4
 },
 "nbformat": 4,
 "nbformat_minor": 2
}
