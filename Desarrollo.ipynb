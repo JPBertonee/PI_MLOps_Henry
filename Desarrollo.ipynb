{
 "cells": [
  {
   "cell_type": "markdown",
   "metadata": {},
   "source": [
    "# **DESARROLLO**\n",
    "## PI 1 - Machine Learning Operations (MLOps)"
   ]
  },
  {
   "cell_type": "markdown",
   "metadata": {},
   "source": [
    "## Índice de contenido::\n",
    "\n",
    "1. Ingesta de datos\n",
    "\n",
    "2. Tratamiento de datos - ETL\n",
    "\n",
    "3. Feature Engineering\n",
    "\n",
    "4. Funciones y disponibiliación de datos\n",
    "\n",
    "5. Análisis exploratorio de datos - EDA\n",
    "\n",
    "6. Modelamiento (Machine Learning Model Development)"
   ]
  },
  {
   "cell_type": "markdown",
   "metadata": {
    "tags": [
     "Ingesta de datos"
    ]
   },
   "source": [
    "# 1. **Ingesta de datos**\n",
    "***"
   ]
  },
  {
   "cell_type": "markdown",
   "metadata": {},
   "source": [
    "## 1.1 Importamos librerías"
   ]
  },
  {
   "cell_type": "markdown",
   "metadata": {},
   "source": [
    "Importamos las librerias que vamos a usar durante el desarrollo del proyecto."
   ]
  },
  {
   "cell_type": "code",
   "execution_count": 43,
   "metadata": {},
   "outputs": [],
   "source": [
    "import pandas as pd \n",
    "import numpy as np\n",
    "import json\n",
    "import gzip\n",
    "import ast\n",
    "import pyarrow as pa\n",
    "import pyarrow.parquet as pq\n",
    "import fastparquet as fp"
   ]
  },
  {
   "cell_type": "markdown",
   "metadata": {},
   "source": [
    "## 1.2 Leemos los datos"
   ]
  },
  {
   "cell_type": "markdown",
   "metadata": {},
   "source": [
    "Utilizaremos 3 archivos: steam_games, user_reviews y users_items. "
   ]
  },
  {
   "cell_type": "code",
   "execution_count": 44,
   "metadata": {},
   "outputs": [],
   "source": [
    "ruta1 = '/Users/jpbertone/Documents/Henry Course/Labs/dataPI_MLOps/steam_games.json'\n",
    "ruta2 = '/Users/jpbertone/Documents/Henry Course/Labs/dataPI_MLOps/user_reviews.json.gz'\n",
    "ruta3 = '/Users/jpbertone/Documents/Henry Course/Labs/dataPI_MLOps/users_items.json.gz'"
   ]
  },
  {
   "cell_type": "markdown",
   "metadata": {},
   "source": [
    "Descripción de los datasets:\n",
    "\n",
    "1. **steam_games:** información relacionada a los juegos dentro de la plataforma Steam. Por ejemplo: Nombre del juego, género, fecha de lanzamiento, entre otras. \n",
    "\n",
    "2. **user_reviews:** información que detalla las reviews realizadas por los usuarios de la plataforma Steam.\n",
    "\n",
    "3. **users_items:** información acerca de la actividad de los usuarios dentro de la plataforma Steam."
   ]
  },
  {
   "cell_type": "markdown",
   "metadata": {},
   "source": [
    "- ### 1.2.1 **steam_games**\n",
    "\n",
    "Mediante el uso de Pandas, leemos el archivo 'steam_games' y lo asignamos a un nombre identificatorio."
   ]
  },
  {
   "cell_type": "code",
   "execution_count": 45,
   "metadata": {},
   "outputs": [],
   "source": [
    "df_games = pd.read_json(ruta1, lines=True)"
   ]
  },
  {
   "cell_type": "code",
   "execution_count": 46,
   "metadata": {},
   "outputs": [
    {
     "data": {
      "text/html": [
       "<div>\n",
       "<style scoped>\n",
       "    .dataframe tbody tr th:only-of-type {\n",
       "        vertical-align: middle;\n",
       "    }\n",
       "\n",
       "    .dataframe tbody tr th {\n",
       "        vertical-align: top;\n",
       "    }\n",
       "\n",
       "    .dataframe thead th {\n",
       "        text-align: right;\n",
       "    }\n",
       "</style>\n",
       "<table border=\"1\" class=\"dataframe\">\n",
       "  <thead>\n",
       "    <tr style=\"text-align: right;\">\n",
       "      <th></th>\n",
       "      <th>publisher</th>\n",
       "      <th>genres</th>\n",
       "      <th>app_name</th>\n",
       "      <th>title</th>\n",
       "      <th>url</th>\n",
       "      <th>release_date</th>\n",
       "      <th>tags</th>\n",
       "      <th>reviews_url</th>\n",
       "      <th>discount_price</th>\n",
       "      <th>specs</th>\n",
       "      <th>price</th>\n",
       "      <th>early_access</th>\n",
       "      <th>id</th>\n",
       "      <th>metascore</th>\n",
       "      <th>developer</th>\n",
       "      <th>user_id</th>\n",
       "      <th>steam_id</th>\n",
       "      <th>items</th>\n",
       "      <th>items_count</th>\n",
       "    </tr>\n",
       "  </thead>\n",
       "  <tbody>\n",
       "    <tr>\n",
       "      <th>120442</th>\n",
       "      <td>Laush Studio</td>\n",
       "      <td>[Indie, Racing, Simulation]</td>\n",
       "      <td>Russian Roads</td>\n",
       "      <td>Russian Roads</td>\n",
       "      <td>http://store.steampowered.com/app/610660/Russi...</td>\n",
       "      <td>2018-01-04</td>\n",
       "      <td>[Indie, Simulation, Racing]</td>\n",
       "      <td>http://steamcommunity.com/app/610660/reviews/?...</td>\n",
       "      <td>1.39</td>\n",
       "      <td>[Single-player, Steam Achievements, Steam Trad...</td>\n",
       "      <td>1.99</td>\n",
       "      <td>0.0</td>\n",
       "      <td>610660.0</td>\n",
       "      <td>None</td>\n",
       "      <td>Laush Dmitriy Sergeevich</td>\n",
       "      <td>None</td>\n",
       "      <td>NaN</td>\n",
       "      <td>None</td>\n",
       "      <td>NaN</td>\n",
       "    </tr>\n",
       "    <tr>\n",
       "      <th>120443</th>\n",
       "      <td>SIXNAILS</td>\n",
       "      <td>[Casual, Indie]</td>\n",
       "      <td>EXIT 2 - Directions</td>\n",
       "      <td>EXIT 2 - Directions</td>\n",
       "      <td>http://store.steampowered.com/app/658870/EXIT_...</td>\n",
       "      <td>2017-09-02</td>\n",
       "      <td>[Indie, Casual, Puzzle, Singleplayer, Atmosphe...</td>\n",
       "      <td>http://steamcommunity.com/app/658870/reviews/?...</td>\n",
       "      <td>NaN</td>\n",
       "      <td>[Single-player, Steam Achievements, Steam Cloud]</td>\n",
       "      <td>4.99</td>\n",
       "      <td>0.0</td>\n",
       "      <td>658870.0</td>\n",
       "      <td>None</td>\n",
       "      <td>xropi,stev3ns</td>\n",
       "      <td>None</td>\n",
       "      <td>NaN</td>\n",
       "      <td>None</td>\n",
       "      <td>NaN</td>\n",
       "    </tr>\n",
       "    <tr>\n",
       "      <th>120444</th>\n",
       "      <td>None</td>\n",
       "      <td>None</td>\n",
       "      <td>Maze Run VR</td>\n",
       "      <td>None</td>\n",
       "      <td>http://store.steampowered.com/app/681550/Maze_...</td>\n",
       "      <td>None</td>\n",
       "      <td>[Early Access, Adventure, Indie, Action, Simul...</td>\n",
       "      <td>http://steamcommunity.com/app/681550/reviews/?...</td>\n",
       "      <td>NaN</td>\n",
       "      <td>[Single-player, Stats, Steam Leaderboards, HTC...</td>\n",
       "      <td>4.99</td>\n",
       "      <td>1.0</td>\n",
       "      <td>681550.0</td>\n",
       "      <td>None</td>\n",
       "      <td>None</td>\n",
       "      <td>None</td>\n",
       "      <td>NaN</td>\n",
       "      <td>None</td>\n",
       "      <td>NaN</td>\n",
       "    </tr>\n",
       "  </tbody>\n",
       "</table>\n",
       "</div>"
      ],
      "text/plain": [
       "           publisher                       genres             app_name  \\\n",
       "120442  Laush Studio  [Indie, Racing, Simulation]        Russian Roads   \n",
       "120443      SIXNAILS              [Casual, Indie]  EXIT 2 - Directions   \n",
       "120444          None                         None          Maze Run VR   \n",
       "\n",
       "                      title  \\\n",
       "120442        Russian Roads   \n",
       "120443  EXIT 2 - Directions   \n",
       "120444                 None   \n",
       "\n",
       "                                                      url release_date  \\\n",
       "120442  http://store.steampowered.com/app/610660/Russi...   2018-01-04   \n",
       "120443  http://store.steampowered.com/app/658870/EXIT_...   2017-09-02   \n",
       "120444  http://store.steampowered.com/app/681550/Maze_...         None   \n",
       "\n",
       "                                                     tags  \\\n",
       "120442                        [Indie, Simulation, Racing]   \n",
       "120443  [Indie, Casual, Puzzle, Singleplayer, Atmosphe...   \n",
       "120444  [Early Access, Adventure, Indie, Action, Simul...   \n",
       "\n",
       "                                              reviews_url  discount_price  \\\n",
       "120442  http://steamcommunity.com/app/610660/reviews/?...            1.39   \n",
       "120443  http://steamcommunity.com/app/658870/reviews/?...             NaN   \n",
       "120444  http://steamcommunity.com/app/681550/reviews/?...             NaN   \n",
       "\n",
       "                                                    specs price  early_access  \\\n",
       "120442  [Single-player, Steam Achievements, Steam Trad...  1.99           0.0   \n",
       "120443   [Single-player, Steam Achievements, Steam Cloud]  4.99           0.0   \n",
       "120444  [Single-player, Stats, Steam Leaderboards, HTC...  4.99           1.0   \n",
       "\n",
       "              id metascore                 developer user_id  steam_id items  \\\n",
       "120442  610660.0      None  Laush Dmitriy Sergeevich    None       NaN  None   \n",
       "120443  658870.0      None             xropi,stev3ns    None       NaN  None   \n",
       "120444  681550.0      None                      None    None       NaN  None   \n",
       "\n",
       "        items_count  \n",
       "120442          NaN  \n",
       "120443          NaN  \n",
       "120444          NaN  "
      ]
     },
     "execution_count": 46,
     "metadata": {},
     "output_type": "execute_result"
    }
   ],
   "source": [
    "df_games.tail(3)"
   ]
  },
  {
   "cell_type": "markdown",
   "metadata": {},
   "source": [
    "- ### 1.2.2 **user_reviews**\n",
    "\n",
    "Para leer los archivos user_reviews y users_items, utilizamos otro método.\n",
    "\n",
    "A diferencia del dataset anterior el cual se encuentra formato **.json**, en este caso abrimos un archivo **.json** comprimido en formato **.gzip**\n",
    "\n",
    "Se tomó la decisión de leerlo de otra manera dado que estos dos datasets presentan una estructura **.json** distinta a la acpetada por el comando pd.read_json. Esas diferencias son, en su gran mayoría, el uso de comillas simples en vez de dobles. "
   ]
  },
  {
   "cell_type": "markdown",
   "metadata": {},
   "source": [
    "Para lograr leer el archivo seguimos los siguientes pasos:"
   ]
  },
  {
   "cell_type": "code",
   "execution_count": 47,
   "metadata": {},
   "outputs": [],
   "source": [
    "info = [] # Creamos una lista vacia donde guardaremos los registros del archivo .json\n",
    "\n",
    "# Iteramos sobre los registros del archivo y con <ast.literal_eval> de forma segura una expresión\n",
    "# literal que está representada como una cadena de caracteres.\n",
    "for i in gzip.open(ruta2):\n",
    "     info.append(ast.literal_eval(i.decode('utf-8')))\n",
    "     \n",
    "df_reviews = pd.DataFrame(info) "
   ]
  },
  {
   "cell_type": "code",
   "execution_count": 48,
   "metadata": {},
   "outputs": [
    {
     "data": {
      "text/html": [
       "<div>\n",
       "<style scoped>\n",
       "    .dataframe tbody tr th:only-of-type {\n",
       "        vertical-align: middle;\n",
       "    }\n",
       "\n",
       "    .dataframe tbody tr th {\n",
       "        vertical-align: top;\n",
       "    }\n",
       "\n",
       "    .dataframe thead th {\n",
       "        text-align: right;\n",
       "    }\n",
       "</style>\n",
       "<table border=\"1\" class=\"dataframe\">\n",
       "  <thead>\n",
       "    <tr style=\"text-align: right;\">\n",
       "      <th></th>\n",
       "      <th>user_id</th>\n",
       "      <th>user_url</th>\n",
       "      <th>reviews</th>\n",
       "    </tr>\n",
       "  </thead>\n",
       "  <tbody>\n",
       "    <tr>\n",
       "      <th>0</th>\n",
       "      <td>76561197970982479</td>\n",
       "      <td>http://steamcommunity.com/profiles/76561197970...</td>\n",
       "      <td>[{'funny': '', 'posted': 'Posted November 5, 2...</td>\n",
       "    </tr>\n",
       "    <tr>\n",
       "      <th>1</th>\n",
       "      <td>js41637</td>\n",
       "      <td>http://steamcommunity.com/id/js41637</td>\n",
       "      <td>[{'funny': '', 'posted': 'Posted June 24, 2014...</td>\n",
       "    </tr>\n",
       "    <tr>\n",
       "      <th>2</th>\n",
       "      <td>evcentric</td>\n",
       "      <td>http://steamcommunity.com/id/evcentric</td>\n",
       "      <td>[{'funny': '', 'posted': 'Posted February 3.',...</td>\n",
       "    </tr>\n",
       "    <tr>\n",
       "      <th>3</th>\n",
       "      <td>doctr</td>\n",
       "      <td>http://steamcommunity.com/id/doctr</td>\n",
       "      <td>[{'funny': '', 'posted': 'Posted October 14, 2...</td>\n",
       "    </tr>\n",
       "    <tr>\n",
       "      <th>4</th>\n",
       "      <td>maplemage</td>\n",
       "      <td>http://steamcommunity.com/id/maplemage</td>\n",
       "      <td>[{'funny': '3 people found this review funny',...</td>\n",
       "    </tr>\n",
       "  </tbody>\n",
       "</table>\n",
       "</div>"
      ],
      "text/plain": [
       "             user_id                                           user_url  \\\n",
       "0  76561197970982479  http://steamcommunity.com/profiles/76561197970...   \n",
       "1            js41637               http://steamcommunity.com/id/js41637   \n",
       "2          evcentric             http://steamcommunity.com/id/evcentric   \n",
       "3              doctr                 http://steamcommunity.com/id/doctr   \n",
       "4          maplemage             http://steamcommunity.com/id/maplemage   \n",
       "\n",
       "                                             reviews  \n",
       "0  [{'funny': '', 'posted': 'Posted November 5, 2...  \n",
       "1  [{'funny': '', 'posted': 'Posted June 24, 2014...  \n",
       "2  [{'funny': '', 'posted': 'Posted February 3.',...  \n",
       "3  [{'funny': '', 'posted': 'Posted October 14, 2...  \n",
       "4  [{'funny': '3 people found this review funny',...  "
      ]
     },
     "execution_count": 48,
     "metadata": {},
     "output_type": "execute_result"
    }
   ],
   "source": [
    "df_reviews.head(5)"
   ]
  },
  {
   "cell_type": "markdown",
   "metadata": {},
   "source": [
    "- ### 1.2.3 **users_items**"
   ]
  },
  {
   "cell_type": "code",
   "execution_count": 49,
   "metadata": {},
   "outputs": [],
   "source": [
    "info = [] # Creamos una lista vacia donde guardaremos los registros del archivo .json\n",
    "\n",
    "# Iteramos sobre los registros del archivo y con <ast.literal_eval> de forma segura una expresión\n",
    "# literal que está representada como una cadena de caracteres.\n",
    "for i in gzip.open(ruta3):\n",
    "     info.append(ast.literal_eval(i.decode('utf-8')))\n",
    "     \n",
    "df_items = pd.DataFrame(info) "
   ]
  },
  {
   "cell_type": "code",
   "execution_count": 50,
   "metadata": {},
   "outputs": [
    {
     "data": {
      "text/html": [
       "<div>\n",
       "<style scoped>\n",
       "    .dataframe tbody tr th:only-of-type {\n",
       "        vertical-align: middle;\n",
       "    }\n",
       "\n",
       "    .dataframe tbody tr th {\n",
       "        vertical-align: top;\n",
       "    }\n",
       "\n",
       "    .dataframe thead th {\n",
       "        text-align: right;\n",
       "    }\n",
       "</style>\n",
       "<table border=\"1\" class=\"dataframe\">\n",
       "  <thead>\n",
       "    <tr style=\"text-align: right;\">\n",
       "      <th></th>\n",
       "      <th>user_id</th>\n",
       "      <th>items_count</th>\n",
       "      <th>steam_id</th>\n",
       "      <th>user_url</th>\n",
       "      <th>items</th>\n",
       "    </tr>\n",
       "  </thead>\n",
       "  <tbody>\n",
       "    <tr>\n",
       "      <th>0</th>\n",
       "      <td>76561197970982479</td>\n",
       "      <td>277</td>\n",
       "      <td>76561197970982479</td>\n",
       "      <td>http://steamcommunity.com/profiles/76561197970...</td>\n",
       "      <td>[{'item_id': '10', 'item_name': 'Counter-Strik...</td>\n",
       "    </tr>\n",
       "    <tr>\n",
       "      <th>1</th>\n",
       "      <td>js41637</td>\n",
       "      <td>888</td>\n",
       "      <td>76561198035864385</td>\n",
       "      <td>http://steamcommunity.com/id/js41637</td>\n",
       "      <td>[{'item_id': '10', 'item_name': 'Counter-Strik...</td>\n",
       "    </tr>\n",
       "    <tr>\n",
       "      <th>2</th>\n",
       "      <td>evcentric</td>\n",
       "      <td>137</td>\n",
       "      <td>76561198007712555</td>\n",
       "      <td>http://steamcommunity.com/id/evcentric</td>\n",
       "      <td>[{'item_id': '1200', 'item_name': 'Red Orchest...</td>\n",
       "    </tr>\n",
       "  </tbody>\n",
       "</table>\n",
       "</div>"
      ],
      "text/plain": [
       "             user_id  items_count           steam_id  \\\n",
       "0  76561197970982479          277  76561197970982479   \n",
       "1            js41637          888  76561198035864385   \n",
       "2          evcentric          137  76561198007712555   \n",
       "\n",
       "                                            user_url  \\\n",
       "0  http://steamcommunity.com/profiles/76561197970...   \n",
       "1               http://steamcommunity.com/id/js41637   \n",
       "2             http://steamcommunity.com/id/evcentric   \n",
       "\n",
       "                                               items  \n",
       "0  [{'item_id': '10', 'item_name': 'Counter-Strik...  \n",
       "1  [{'item_id': '10', 'item_name': 'Counter-Strik...  \n",
       "2  [{'item_id': '1200', 'item_name': 'Red Orchest...  "
      ]
     },
     "execution_count": 50,
     "metadata": {},
     "output_type": "execute_result"
    }
   ],
   "source": [
    "df_items.head(3)"
   ]
  },
  {
   "cell_type": "markdown",
   "metadata": {},
   "source": [
    "# 2. **Tratamiento de datos (ETL)**\n",
    "\n",
    "***"
   ]
  },
  {
   "cell_type": "markdown",
   "metadata": {},
   "source": [
    "## 2.1 Desanidar columnas\n",
    "\n",
    "Luego de leer los datos, observamos que los tres dataframes presentan columnas con datos anidados.\n",
    "\n",
    "Para ello, vamos a utilizar las funciones .explode y .json_normalize, con el objetivo de desanidar la información y convertir cada clave a columna.\n",
    "\n",
    "Luego de desanidar, concatenamos las columnas del data frame df_explode con las columnas desanidadas. "
   ]
  },
  {
   "cell_type": "markdown",
   "metadata": {},
   "source": [
    "- ### 2.1.1  **df_games** \n",
    "\n",
    "    En este caso no desanidamos y eliminamos la columna items, items_count, user_id y steam_id. \n",
    "\n",
    "    Se decide eliminar estas columnas porque ya tenemos esta infomacion en el dataset df_items_full. \n"
   ]
  },
  {
   "cell_type": "code",
   "execution_count": 51,
   "metadata": {},
   "outputs": [],
   "source": [
    "df_games_full = df_games.copy()\n",
    "df_games_full = df_games_full.drop(columns=['items','items_count', 'user_id', 'steam_id'],axis=1)"
   ]
  },
  {
   "cell_type": "code",
   "execution_count": 52,
   "metadata": {},
   "outputs": [
    {
     "data": {
      "text/html": [
       "<div>\n",
       "<style scoped>\n",
       "    .dataframe tbody tr th:only-of-type {\n",
       "        vertical-align: middle;\n",
       "    }\n",
       "\n",
       "    .dataframe tbody tr th {\n",
       "        vertical-align: top;\n",
       "    }\n",
       "\n",
       "    .dataframe thead th {\n",
       "        text-align: right;\n",
       "    }\n",
       "</style>\n",
       "<table border=\"1\" class=\"dataframe\">\n",
       "  <thead>\n",
       "    <tr style=\"text-align: right;\">\n",
       "      <th></th>\n",
       "      <th>publisher</th>\n",
       "      <th>genres</th>\n",
       "      <th>app_name</th>\n",
       "      <th>title</th>\n",
       "      <th>url</th>\n",
       "      <th>release_date</th>\n",
       "      <th>tags</th>\n",
       "      <th>reviews_url</th>\n",
       "      <th>discount_price</th>\n",
       "      <th>specs</th>\n",
       "      <th>price</th>\n",
       "      <th>early_access</th>\n",
       "      <th>id</th>\n",
       "      <th>metascore</th>\n",
       "      <th>developer</th>\n",
       "    </tr>\n",
       "  </thead>\n",
       "  <tbody>\n",
       "    <tr>\n",
       "      <th>120443</th>\n",
       "      <td>SIXNAILS</td>\n",
       "      <td>[Casual, Indie]</td>\n",
       "      <td>EXIT 2 - Directions</td>\n",
       "      <td>EXIT 2 - Directions</td>\n",
       "      <td>http://store.steampowered.com/app/658870/EXIT_...</td>\n",
       "      <td>2017-09-02</td>\n",
       "      <td>[Indie, Casual, Puzzle, Singleplayer, Atmosphe...</td>\n",
       "      <td>http://steamcommunity.com/app/658870/reviews/?...</td>\n",
       "      <td>NaN</td>\n",
       "      <td>[Single-player, Steam Achievements, Steam Cloud]</td>\n",
       "      <td>4.99</td>\n",
       "      <td>0.0</td>\n",
       "      <td>658870.0</td>\n",
       "      <td>None</td>\n",
       "      <td>xropi,stev3ns</td>\n",
       "    </tr>\n",
       "    <tr>\n",
       "      <th>120444</th>\n",
       "      <td>None</td>\n",
       "      <td>None</td>\n",
       "      <td>Maze Run VR</td>\n",
       "      <td>None</td>\n",
       "      <td>http://store.steampowered.com/app/681550/Maze_...</td>\n",
       "      <td>None</td>\n",
       "      <td>[Early Access, Adventure, Indie, Action, Simul...</td>\n",
       "      <td>http://steamcommunity.com/app/681550/reviews/?...</td>\n",
       "      <td>NaN</td>\n",
       "      <td>[Single-player, Stats, Steam Leaderboards, HTC...</td>\n",
       "      <td>4.99</td>\n",
       "      <td>1.0</td>\n",
       "      <td>681550.0</td>\n",
       "      <td>None</td>\n",
       "      <td>None</td>\n",
       "    </tr>\n",
       "  </tbody>\n",
       "</table>\n",
       "</div>"
      ],
      "text/plain": [
       "       publisher           genres             app_name                title  \\\n",
       "120443  SIXNAILS  [Casual, Indie]  EXIT 2 - Directions  EXIT 2 - Directions   \n",
       "120444      None             None          Maze Run VR                 None   \n",
       "\n",
       "                                                      url release_date  \\\n",
       "120443  http://store.steampowered.com/app/658870/EXIT_...   2017-09-02   \n",
       "120444  http://store.steampowered.com/app/681550/Maze_...         None   \n",
       "\n",
       "                                                     tags  \\\n",
       "120443  [Indie, Casual, Puzzle, Singleplayer, Atmosphe...   \n",
       "120444  [Early Access, Adventure, Indie, Action, Simul...   \n",
       "\n",
       "                                              reviews_url  discount_price  \\\n",
       "120443  http://steamcommunity.com/app/658870/reviews/?...             NaN   \n",
       "120444  http://steamcommunity.com/app/681550/reviews/?...             NaN   \n",
       "\n",
       "                                                    specs price  early_access  \\\n",
       "120443   [Single-player, Steam Achievements, Steam Cloud]  4.99           0.0   \n",
       "120444  [Single-player, Stats, Steam Leaderboards, HTC...  4.99           1.0   \n",
       "\n",
       "              id metascore      developer  \n",
       "120443  658870.0      None  xropi,stev3ns  \n",
       "120444  681550.0      None           None  "
      ]
     },
     "execution_count": 52,
     "metadata": {},
     "output_type": "execute_result"
    }
   ],
   "source": [
    "df_games_full.tail(2)"
   ]
  },
  {
   "cell_type": "markdown",
   "metadata": {},
   "source": [
    "- ### 2.1.2  **df_reviews** \n",
    "\n",
    "    Desanidamos la informacion que se encuentra en la columna 'reviews'."
   ]
  },
  {
   "cell_type": "code",
   "execution_count": 53,
   "metadata": {},
   "outputs": [],
   "source": [
    "# Con explode transformamo cada elemento de una lista a fila, replicando valores de indices. \n",
    "df_explode = df_reviews.explode('reviews')\n",
    "\n",
    "# Eliminamos datos nulos y reseteamos el indice.\n",
    "df_explode.dropna(how='all',inplace=True)\n",
    "df_explode.reset_index(inplace=True, drop=True)\n",
    "\n",
    "# Normalizamos informacion semi-estructurada de tipo JSON a una tabla plana y quitamos valores nulos. \n",
    "reviews = pd.json_normalize(df_explode['reviews'].dropna())\n",
    "\n",
    "# Reseteamos los indices. \n",
    "reviews.reset_index(inplace=True, drop=True)\n",
    "\n",
    "# Concatenamos los dos data frames para crear uno nuevo con toda la informacion original. \n",
    "df_reviews_full = pd.concat([df_explode.drop(columns='reviews'), reviews], axis=1)"
   ]
  },
  {
   "cell_type": "code",
   "execution_count": 54,
   "metadata": {},
   "outputs": [
    {
     "data": {
      "text/html": [
       "<div>\n",
       "<style scoped>\n",
       "    .dataframe tbody tr th:only-of-type {\n",
       "        vertical-align: middle;\n",
       "    }\n",
       "\n",
       "    .dataframe tbody tr th {\n",
       "        vertical-align: top;\n",
       "    }\n",
       "\n",
       "    .dataframe thead th {\n",
       "        text-align: right;\n",
       "    }\n",
       "</style>\n",
       "<table border=\"1\" class=\"dataframe\">\n",
       "  <thead>\n",
       "    <tr style=\"text-align: right;\">\n",
       "      <th></th>\n",
       "      <th>user_id</th>\n",
       "      <th>user_url</th>\n",
       "      <th>funny</th>\n",
       "      <th>posted</th>\n",
       "      <th>last_edited</th>\n",
       "      <th>item_id</th>\n",
       "      <th>helpful</th>\n",
       "      <th>recommend</th>\n",
       "      <th>review</th>\n",
       "    </tr>\n",
       "  </thead>\n",
       "  <tbody>\n",
       "    <tr>\n",
       "      <th>0</th>\n",
       "      <td>76561197970982479</td>\n",
       "      <td>http://steamcommunity.com/profiles/76561197970...</td>\n",
       "      <td></td>\n",
       "      <td>Posted November 5, 2011.</td>\n",
       "      <td></td>\n",
       "      <td>1250</td>\n",
       "      <td>No ratings yet</td>\n",
       "      <td>True</td>\n",
       "      <td>Simple yet with great replayability. In my opi...</td>\n",
       "    </tr>\n",
       "    <tr>\n",
       "      <th>1</th>\n",
       "      <td>76561197970982479</td>\n",
       "      <td>http://steamcommunity.com/profiles/76561197970...</td>\n",
       "      <td></td>\n",
       "      <td>Posted July 15, 2011.</td>\n",
       "      <td></td>\n",
       "      <td>22200</td>\n",
       "      <td>No ratings yet</td>\n",
       "      <td>True</td>\n",
       "      <td>It's unique and worth a playthrough.</td>\n",
       "    </tr>\n",
       "  </tbody>\n",
       "</table>\n",
       "</div>"
      ],
      "text/plain": [
       "             user_id                                           user_url funny  \\\n",
       "0  76561197970982479  http://steamcommunity.com/profiles/76561197970...         \n",
       "1  76561197970982479  http://steamcommunity.com/profiles/76561197970...         \n",
       "\n",
       "                     posted last_edited item_id         helpful recommend  \\\n",
       "0  Posted November 5, 2011.                1250  No ratings yet      True   \n",
       "1     Posted July 15, 2011.               22200  No ratings yet      True   \n",
       "\n",
       "                                              review  \n",
       "0  Simple yet with great replayability. In my opi...  \n",
       "1               It's unique and worth a playthrough.  "
      ]
     },
     "execution_count": 54,
     "metadata": {},
     "output_type": "execute_result"
    }
   ],
   "source": [
    "df_reviews_full.head(2)"
   ]
  },
  {
   "cell_type": "markdown",
   "metadata": {},
   "source": [
    "- ### 2.1.3  **df_items** \n",
    "\n",
    "    Desanidamos la informacion que se encuentra en la columna 'items'."
   ]
  },
  {
   "cell_type": "code",
   "execution_count": 55,
   "metadata": {},
   "outputs": [],
   "source": [
    "df_explode = df_items.explode('items').reset_index(drop=True)\n",
    "\n",
    "items = pd.json_normalize(df_explode['items']).reset_index(drop=True)\n",
    "\n",
    "df_items_full = pd.concat([df_explode.drop('items', axis=1), items], axis=1)"
   ]
  },
  {
   "cell_type": "code",
   "execution_count": 56,
   "metadata": {},
   "outputs": [
    {
     "data": {
      "text/html": [
       "<div>\n",
       "<style scoped>\n",
       "    .dataframe tbody tr th:only-of-type {\n",
       "        vertical-align: middle;\n",
       "    }\n",
       "\n",
       "    .dataframe tbody tr th {\n",
       "        vertical-align: top;\n",
       "    }\n",
       "\n",
       "    .dataframe thead th {\n",
       "        text-align: right;\n",
       "    }\n",
       "</style>\n",
       "<table border=\"1\" class=\"dataframe\">\n",
       "  <thead>\n",
       "    <tr style=\"text-align: right;\">\n",
       "      <th></th>\n",
       "      <th>user_id</th>\n",
       "      <th>items_count</th>\n",
       "      <th>steam_id</th>\n",
       "      <th>user_url</th>\n",
       "      <th>item_id</th>\n",
       "      <th>item_name</th>\n",
       "      <th>playtime_forever</th>\n",
       "      <th>playtime_2weeks</th>\n",
       "    </tr>\n",
       "  </thead>\n",
       "  <tbody>\n",
       "    <tr>\n",
       "      <th>0</th>\n",
       "      <td>76561197970982479</td>\n",
       "      <td>277</td>\n",
       "      <td>76561197970982479</td>\n",
       "      <td>http://steamcommunity.com/profiles/76561197970...</td>\n",
       "      <td>10</td>\n",
       "      <td>Counter-Strike</td>\n",
       "      <td>6.0</td>\n",
       "      <td>0.0</td>\n",
       "    </tr>\n",
       "    <tr>\n",
       "      <th>1</th>\n",
       "      <td>76561197970982479</td>\n",
       "      <td>277</td>\n",
       "      <td>76561197970982479</td>\n",
       "      <td>http://steamcommunity.com/profiles/76561197970...</td>\n",
       "      <td>20</td>\n",
       "      <td>Team Fortress Classic</td>\n",
       "      <td>0.0</td>\n",
       "      <td>0.0</td>\n",
       "    </tr>\n",
       "  </tbody>\n",
       "</table>\n",
       "</div>"
      ],
      "text/plain": [
       "             user_id  items_count           steam_id  \\\n",
       "0  76561197970982479          277  76561197970982479   \n",
       "1  76561197970982479          277  76561197970982479   \n",
       "\n",
       "                                            user_url item_id  \\\n",
       "0  http://steamcommunity.com/profiles/76561197970...      10   \n",
       "1  http://steamcommunity.com/profiles/76561197970...      20   \n",
       "\n",
       "               item_name  playtime_forever  playtime_2weeks  \n",
       "0         Counter-Strike               6.0              0.0  \n",
       "1  Team Fortress Classic               0.0              0.0  "
      ]
     },
     "execution_count": 56,
     "metadata": {},
     "output_type": "execute_result"
    }
   ],
   "source": [
    "df_items_full.head(2)"
   ]
  },
  {
   "cell_type": "markdown",
   "metadata": {},
   "source": [
    "## 2.2 Duplicados, valores nulos e inconsistencias"
   ]
  },
  {
   "cell_type": "markdown",
   "metadata": {},
   "source": [
    "- ### 2.2.1 **df_games_full**"
   ]
  },
  {
   "cell_type": "code",
   "execution_count": 57,
   "metadata": {},
   "outputs": [
    {
     "data": {
      "text/plain": [
       "(120445, 15)"
      ]
     },
     "execution_count": 57,
     "metadata": {},
     "output_type": "execute_result"
    }
   ],
   "source": [
    "df_games_full.shape"
   ]
  },
  {
   "cell_type": "code",
   "execution_count": 58,
   "metadata": {},
   "outputs": [
    {
     "name": "stdout",
     "output_type": "stream",
     "text": [
      "<class 'pandas.core.frame.DataFrame'>\n",
      "RangeIndex: 120445 entries, 0 to 120444\n",
      "Data columns (total 15 columns):\n",
      " #   Column          Non-Null Count  Dtype  \n",
      "---  ------          --------------  -----  \n",
      " 0   publisher       24083 non-null  object \n",
      " 1   genres          28852 non-null  object \n",
      " 2   app_name        32133 non-null  object \n",
      " 3   title           30085 non-null  object \n",
      " 4   url             32135 non-null  object \n",
      " 5   release_date    30068 non-null  object \n",
      " 6   tags            31972 non-null  object \n",
      " 7   reviews_url     32133 non-null  object \n",
      " 8   discount_price  225 non-null    float64\n",
      " 9   specs           31465 non-null  object \n",
      " 10  price           30758 non-null  object \n",
      " 11  early_access    32135 non-null  float64\n",
      " 12  id              32133 non-null  float64\n",
      " 13  metascore       2677 non-null   object \n",
      " 14  developer       28836 non-null  object \n",
      "dtypes: float64(3), object(12)\n",
      "memory usage: 13.8+ MB\n"
     ]
    }
   ],
   "source": [
    "df_games_full.info()"
   ]
  },
  {
   "cell_type": "markdown",
   "metadata": {},
   "source": [
    "Observamos si la columna 'precio' tiene valores numericos o otro tipo de datos que deberían ser sustituidos. "
   ]
  },
  {
   "cell_type": "code",
   "execution_count": 59,
   "metadata": {},
   "outputs": [
    {
     "data": {
      "text/plain": [
       "array([None, 4.99, 'Free To Play', 'Free to Play', 0.99, 2.99, 3.99, 9.99,\n",
       "       18.99, 29.99, 'Free', 10.99, 1.5899999999999999, 14.99, 1.99,\n",
       "       59.99, 8.99, 6.99, 7.99, 39.99, 19.99, 7.49, 12.99, 5.99, 2.49,\n",
       "       15.99, 1.25, 24.99, 17.99, 61.99, 3.49, 11.99, 13.99, 'Free Demo',\n",
       "       'Play for Free!', 34.99, 74.76, 1.49, 32.99, 99.99, 14.95, 69.99,\n",
       "       16.99, 79.99, 49.99, 5.0, 44.99, 13.98, 29.96, 119.99, 109.99,\n",
       "       149.99, 771.71, 'Install Now', 21.99, 89.99,\n",
       "       'Play WARMACHINE: Tactics Demo', 0.98, 139.92, 4.29, 64.99,\n",
       "       'Free Mod', 54.99, 74.99, 'Install Theme', 0.89, 'Third-party',\n",
       "       0.5, 'Play Now', 299.99, 1.29, 3.0, 15.0, 5.49, 23.99, 49.0, 20.99,\n",
       "       10.93, 1.3900000000000001, 'Free HITMAN™ Holiday Pack', 36.99,\n",
       "       4.49, 2.0, 4.0, 9.0, 234.99, 1.9500000000000002, 1.5, 199.0, 189.0,\n",
       "       6.66, 27.99, 10.49, 129.99, 179.0, 26.99, 399.99, 31.99, 399.0,\n",
       "       20.0, 40.0, 3.33, 199.99, 22.99, 320.0, 38.85, 71.7, 59.95, 995.0,\n",
       "       27.49, 3.39, 6.0, 19.95, 499.99, 16.06, 4.68, 131.4, 44.98, 202.76,\n",
       "       1.0, 2.3, 0.9500000000000001, 172.24, 249.99, 2.9699999999999998,\n",
       "       10.96, 10.0, 30.0, 2.66, 6.48, 19.29, 11.15, 18.9, 2.89,\n",
       "       'Play the Demo', 99.0, 87.94, 599.0, 8.98, 9.69, 0.49, 9.98, 9.95,\n",
       "       7.0, 'Starting at $499.00', 'Starting at $449.00', 12.89, 6.49,\n",
       "       1.87, 42.99, 41.99, 289.99, 'Free to Try', 23.96, 5.65, 12.0,\n",
       "       13.37, 189.96, 124.99, 'Free Movie', 19.98, 160.91, 'Free to Use'],\n",
       "      dtype=object)"
      ]
     },
     "execution_count": 59,
     "metadata": {},
     "output_type": "execute_result"
    }
   ],
   "source": [
    "df_games_full['price'].unique()"
   ]
  },
  {
   "cell_type": "markdown",
   "metadata": {},
   "source": [
    "Efectivamente, y como se aprecia en la lista de arriba, podemos observar que varios valores no son numericos y en su gran mayoría representan juegos gratuitos o demos. \n",
    "\n",
    "Iteramos la columna con el objetivo de reemplzar esos valores por **0**. \n",
    "\n",
    "Ademas, observamos que existe un juego que su precio base es de $499 ('Starting at $499.0). En este caso vamos a reemplazarlo por el valor **499**"
   ]
  },
  {
   "cell_type": "code",
   "execution_count": 60,
   "metadata": {},
   "outputs": [],
   "source": [
    "for i in df_games_full['price']:\n",
    "    # Si dentro de la columna existe algun valor de la lista, lo reemplaza por el valor numérico 0.\n",
    "    if i in ['Free to Try', \n",
    "             'Free to Play', \n",
    "             'Free To Play', \n",
    "             'Free', 'Free Demo', \n",
    "             'Play for Free!',\n",
    "             'Install Now', \n",
    "             'Play WARMACHINE: Tactics Demo', \n",
    "             'Free Mod', \n",
    "             'Install Theme', \n",
    "             'Third-party', \n",
    "             'Play Now',\n",
    "             'Free HITMAN™ Holiday Pack', \n",
    "             'Play the Demo', \n",
    "             'Free Movie', \n",
    "             'Free to Use']:\n",
    "        df_games_full.replace(i, 0, inplace = True)\n",
    "    # Si encuentra el texto, lo reemplaza por el valor numérico 499.\n",
    "    elif i in ['Starting at $499.00','Starting at $449.00']:\n",
    "        df_games_full.replace(i, 499, inplace = True) "
   ]
  },
  {
   "cell_type": "code",
   "execution_count": 61,
   "metadata": {},
   "outputs": [
    {
     "data": {
      "text/plain": [
       "array([       nan, 4.9900e+00, 0.0000e+00, 9.9000e-01, 2.9900e+00,\n",
       "       3.9900e+00, 9.9900e+00, 1.8990e+01, 2.9990e+01, 1.0990e+01,\n",
       "       1.5900e+00, 1.4990e+01, 1.9900e+00, 5.9990e+01, 8.9900e+00,\n",
       "       6.9900e+00, 7.9900e+00, 3.9990e+01, 1.9990e+01, 7.4900e+00,\n",
       "       1.2990e+01, 5.9900e+00, 2.4900e+00, 1.5990e+01, 1.2500e+00,\n",
       "       2.4990e+01, 1.7990e+01, 6.1990e+01, 3.4900e+00, 1.1990e+01,\n",
       "       1.3990e+01, 3.4990e+01, 7.4760e+01, 1.4900e+00, 3.2990e+01,\n",
       "       9.9990e+01, 1.4950e+01, 6.9990e+01, 1.6990e+01, 7.9990e+01,\n",
       "       4.9990e+01, 5.0000e+00, 4.4990e+01, 1.3980e+01, 2.9960e+01,\n",
       "       1.1999e+02, 1.0999e+02, 1.4999e+02, 7.7171e+02, 2.1990e+01,\n",
       "       8.9990e+01, 9.8000e-01, 1.3992e+02, 4.2900e+00, 6.4990e+01,\n",
       "       5.4990e+01, 7.4990e+01, 8.9000e-01, 5.0000e-01, 2.9999e+02,\n",
       "       1.2900e+00, 3.0000e+00, 1.5000e+01, 5.4900e+00, 2.3990e+01,\n",
       "       4.9000e+01, 2.0990e+01, 1.0930e+01, 1.3900e+00, 3.6990e+01,\n",
       "       4.4900e+00, 2.0000e+00, 4.0000e+00, 9.0000e+00, 2.3499e+02,\n",
       "       1.9500e+00, 1.5000e+00, 1.9900e+02, 1.8900e+02, 6.6600e+00,\n",
       "       2.7990e+01, 1.0490e+01, 1.2999e+02, 1.7900e+02, 2.6990e+01,\n",
       "       3.9999e+02, 3.1990e+01, 3.9900e+02, 2.0000e+01, 4.0000e+01,\n",
       "       3.3300e+00, 1.9999e+02, 2.2990e+01, 3.2000e+02, 3.8850e+01,\n",
       "       7.1700e+01, 5.9950e+01, 9.9500e+02, 2.7490e+01, 3.3900e+00,\n",
       "       6.0000e+00, 1.9950e+01, 4.9999e+02, 1.6060e+01, 4.6800e+00,\n",
       "       1.3140e+02, 4.4980e+01, 2.0276e+02, 1.0000e+00, 2.3000e+00,\n",
       "       9.5000e-01, 1.7224e+02, 2.4999e+02, 2.9700e+00, 1.0960e+01,\n",
       "       1.0000e+01, 3.0000e+01, 2.6600e+00, 6.4800e+00, 1.9290e+01,\n",
       "       1.1150e+01, 1.8900e+01, 2.8900e+00, 9.9000e+01, 8.7940e+01,\n",
       "       5.9900e+02, 8.9800e+00, 9.6900e+00, 4.9000e-01, 9.9800e+00,\n",
       "       9.9500e+00, 7.0000e+00, 4.9900e+02, 1.2890e+01, 6.4900e+00,\n",
       "       1.8700e+00, 4.2990e+01, 4.1990e+01, 2.8999e+02, 2.3960e+01,\n",
       "       5.6500e+00, 1.2000e+01, 1.3370e+01, 1.8996e+02, 1.2499e+02,\n",
       "       1.9980e+01, 1.6091e+02])"
      ]
     },
     "execution_count": 61,
     "metadata": {},
     "output_type": "execute_result"
    }
   ],
   "source": [
    "df_games_full['price'].unique()"
   ]
  },
  {
   "cell_type": "markdown",
   "metadata": {},
   "source": [
    "Luego observamos que esos valores ya no existen y todos los valores que tenemos en la columna prices son numericos. \n",
    "\n",
    "En el siguiente paso convertimos la columna a tipo numerico **float**."
   ]
  },
  {
   "cell_type": "code",
   "execution_count": 62,
   "metadata": {},
   "outputs": [],
   "source": [
    "df_games_full['price'] = df_games_full['price'].astype(float)"
   ]
  },
  {
   "cell_type": "code",
   "execution_count": 63,
   "metadata": {},
   "outputs": [
    {
     "name": "stdout",
     "output_type": "stream",
     "text": [
      "<class 'pandas.core.frame.DataFrame'>\n",
      "RangeIndex: 120445 entries, 0 to 120444\n",
      "Data columns (total 15 columns):\n",
      " #   Column          Non-Null Count  Dtype  \n",
      "---  ------          --------------  -----  \n",
      " 0   publisher       24083 non-null  object \n",
      " 1   genres          28852 non-null  object \n",
      " 2   app_name        32133 non-null  object \n",
      " 3   title           30085 non-null  object \n",
      " 4   url             32135 non-null  object \n",
      " 5   release_date    30068 non-null  object \n",
      " 6   tags            31972 non-null  object \n",
      " 7   reviews_url     32133 non-null  object \n",
      " 8   discount_price  225 non-null    float64\n",
      " 9   specs           31465 non-null  object \n",
      " 10  price           30758 non-null  float64\n",
      " 11  early_access    32135 non-null  float64\n",
      " 12  id              32133 non-null  float64\n",
      " 13  metascore       2677 non-null   object \n",
      " 14  developer       28836 non-null  object \n",
      "dtypes: float64(4), object(11)\n",
      "memory usage: 13.8+ MB\n"
     ]
    }
   ],
   "source": [
    "df_games_full.info()"
   ]
  },
  {
   "cell_type": "markdown",
   "metadata": {},
   "source": [
    "Como se observa en el resumen de arriba, el dataframe presenta una gran cantidad de nulos.\n",
    "\n",
    "Eliminamos los valores nulos siempre y cuando el registro completo tenga valores nulos en todas las columnas. Lo hacemos con la condicion 'how'."
   ]
  },
  {
   "cell_type": "code",
   "execution_count": 64,
   "metadata": {},
   "outputs": [],
   "source": [
    "df_games_full.dropna(inplace=True, how='all')"
   ]
  },
  {
   "cell_type": "code",
   "execution_count": 65,
   "metadata": {},
   "outputs": [
    {
     "name": "stdout",
     "output_type": "stream",
     "text": [
      "<class 'pandas.core.frame.DataFrame'>\n",
      "Index: 32135 entries, 88310 to 120444\n",
      "Data columns (total 15 columns):\n",
      " #   Column          Non-Null Count  Dtype  \n",
      "---  ------          --------------  -----  \n",
      " 0   publisher       24083 non-null  object \n",
      " 1   genres          28852 non-null  object \n",
      " 2   app_name        32133 non-null  object \n",
      " 3   title           30085 non-null  object \n",
      " 4   url             32135 non-null  object \n",
      " 5   release_date    30068 non-null  object \n",
      " 6   tags            31972 non-null  object \n",
      " 7   reviews_url     32133 non-null  object \n",
      " 8   discount_price  225 non-null    float64\n",
      " 9   specs           31465 non-null  object \n",
      " 10  price           30758 non-null  float64\n",
      " 11  early_access    32135 non-null  float64\n",
      " 12  id              32133 non-null  float64\n",
      " 13  metascore       2677 non-null   object \n",
      " 14  developer       28836 non-null  object \n",
      "dtypes: float64(4), object(11)\n",
      "memory usage: 3.9+ MB\n"
     ]
    }
   ],
   "source": [
    "df_games_full.info()"
   ]
  },
  {
   "cell_type": "markdown",
   "metadata": {},
   "source": [
    "Vemos que luego de eliminar los registros vacios, el dataset pasa de 120.445 registros a 32.135. \n",
    "\n",
    "Los valores nulos que aun permanecen, son registros que tienen algunas columnas con valores vacios pero aun tienen informacion valiosa para el analisis. "
   ]
  },
  {
   "cell_type": "markdown",
   "metadata": {},
   "source": [
    "Por último, convertimos la columna **'release_date'** a tipo *date_time*"
   ]
  },
  {
   "cell_type": "code",
   "execution_count": 66,
   "metadata": {},
   "outputs": [],
   "source": [
    "# Convertimos la columna a date_time y si encuentra algun error, lo clasifica como NaT ((N)ot-(A)-(T)ime, equivalente del tiempo para NaN.)\n",
    "df_games_full['release_date'] = pd.to_datetime(df_games_full['release_date'], errors='coerce')"
   ]
  },
  {
   "cell_type": "markdown",
   "metadata": {},
   "source": [
    "- ### 2.2.2 **df_reviews_full**\n",
    "\n",
    "En el dataset de 'reviews' buscamos los nulos y los eliminamos.\n",
    "\n",
    "En este caso se toma esa decisión porque la cantidad de nulos no representa un gran porcentaje sobre el total de registros. \n",
    " \n",
    "En total, son 28 registros los que se eliminan. "
   ]
  },
  {
   "cell_type": "code",
   "execution_count": 67,
   "metadata": {},
   "outputs": [
    {
     "name": "stdout",
     "output_type": "stream",
     "text": [
      "(59333, 9)\n",
      "(59305, 9)\n"
     ]
    }
   ],
   "source": [
    "print(df_reviews_full.shape)\n",
    "df_reviews_full.dropna(inplace=True)\n",
    "print(df_reviews_full.shape)"
   ]
  },
  {
   "cell_type": "markdown",
   "metadata": {},
   "source": [
    "Además, observamos si existen duplicados y si existen, los eliminamos."
   ]
  },
  {
   "cell_type": "code",
   "execution_count": 68,
   "metadata": {},
   "outputs": [
    {
     "data": {
      "text/plain": [
       "144"
      ]
     },
     "execution_count": 68,
     "metadata": {},
     "output_type": "execute_result"
    }
   ],
   "source": [
    "df_reviews_full.duplicated(keep='first').sum()"
   ]
  },
  {
   "cell_type": "code",
   "execution_count": 69,
   "metadata": {},
   "outputs": [],
   "source": [
    "df_reviews_full.drop_duplicates(inplace=True)"
   ]
  },
  {
   "cell_type": "code",
   "execution_count": 70,
   "metadata": {},
   "outputs": [
    {
     "data": {
      "text/plain": [
       "(59161, 9)"
      ]
     },
     "execution_count": 70,
     "metadata": {},
     "output_type": "execute_result"
    }
   ],
   "source": [
    "df_reviews_full.shape"
   ]
  },
  {
   "cell_type": "markdown",
   "metadata": {},
   "source": [
    "# 3. **Feature Engineering**\n",
    "***"
   ]
  },
  {
   "cell_type": "markdown",
   "metadata": {},
   "source": [
    "En el planteamiento de la problematica del proyecto, se solicita la creación de la columna 'sentiment_analysis' aplicando análisis de sentimiento con NLP. La escala a tener en cuenta es la siguiente: debe tomar el valor '0' si es malo, '1' si es neutral y '2' si es positivo."
   ]
  },
  {
   "cell_type": "markdown",
   "metadata": {},
   "source": [
    "Para ello analizaremos la columna 'reviews' del dataframe 'df_reviews_full' obtenido en el paso 2.1"
   ]
  },
  {
   "cell_type": "markdown",
   "metadata": {},
   "source": [
    "Utilizaremos la librería **TextBlob**."
   ]
  },
  {
   "cell_type": "code",
   "execution_count": 71,
   "metadata": {},
   "outputs": [],
   "source": [
    "from textblob import TextBlob"
   ]
  },
  {
   "cell_type": "code",
   "execution_count": 72,
   "metadata": {},
   "outputs": [],
   "source": [
    "def calcular_sentimiento_textblob(texto):\n",
    "    # Se calcula el sentimiento del texto\n",
    "    analysis = TextBlob(texto)\n",
    "    # El atributo sentiment.polarity devuelve la polaridad del sentimiento (entre -1 y 1)\n",
    "    polaridad = analysis.sentiment.polarity\n",
    "    return polaridad\n",
    "\n",
    "def asignar_puntaje(polaridad):\n",
    "    # Asigna 0 si la polaridad es negativa, 1 si es neutral y 2 si es positiva\n",
    "    if polaridad < -0.1:\n",
    "        return 0  # Negativo\n",
    "    elif polaridad > 0.1:\n",
    "        return 2  # Positivo\n",
    "    else:\n",
    "        return 1  # Neutral\n"
   ]
  },
  {
   "cell_type": "code",
   "execution_count": 73,
   "metadata": {},
   "outputs": [],
   "source": [
    "# Creamos una copia del dataset a trabajar. \n",
    "df_sentimiento = df_reviews_full.copy()\n",
    "\n",
    "# En el nuevo dataset, creamos dos columnas. Una de polaridad y otra de sentimiento. Utilizamos las funciones creadas en el paso anterior. \n",
    "df_sentimiento['polaridad'] = df_sentimiento['review'].astype(str).apply(calcular_sentimiento_textblob)\n",
    "df_sentimiento['sentimiento'] = df_sentimiento['polaridad'].apply(asignar_puntaje)"
   ]
  },
  {
   "cell_type": "code",
   "execution_count": 74,
   "metadata": {},
   "outputs": [
    {
     "data": {
      "text/html": [
       "<div>\n",
       "<style scoped>\n",
       "    .dataframe tbody tr th:only-of-type {\n",
       "        vertical-align: middle;\n",
       "    }\n",
       "\n",
       "    .dataframe tbody tr th {\n",
       "        vertical-align: top;\n",
       "    }\n",
       "\n",
       "    .dataframe thead th {\n",
       "        text-align: right;\n",
       "    }\n",
       "</style>\n",
       "<table border=\"1\" class=\"dataframe\">\n",
       "  <thead>\n",
       "    <tr style=\"text-align: right;\">\n",
       "      <th></th>\n",
       "      <th>user_id</th>\n",
       "      <th>user_url</th>\n",
       "      <th>funny</th>\n",
       "      <th>posted</th>\n",
       "      <th>last_edited</th>\n",
       "      <th>item_id</th>\n",
       "      <th>helpful</th>\n",
       "      <th>recommend</th>\n",
       "      <th>review</th>\n",
       "      <th>polaridad</th>\n",
       "      <th>sentimiento</th>\n",
       "    </tr>\n",
       "  </thead>\n",
       "  <tbody>\n",
       "    <tr>\n",
       "      <th>0</th>\n",
       "      <td>76561197970982479</td>\n",
       "      <td>http://steamcommunity.com/profiles/76561197970...</td>\n",
       "      <td></td>\n",
       "      <td>Posted November 5, 2011.</td>\n",
       "      <td></td>\n",
       "      <td>1250</td>\n",
       "      <td>No ratings yet</td>\n",
       "      <td>True</td>\n",
       "      <td>Simple yet with great replayability. In my opi...</td>\n",
       "      <td>0.174444</td>\n",
       "      <td>2</td>\n",
       "    </tr>\n",
       "    <tr>\n",
       "      <th>1</th>\n",
       "      <td>76561197970982479</td>\n",
       "      <td>http://steamcommunity.com/profiles/76561197970...</td>\n",
       "      <td></td>\n",
       "      <td>Posted July 15, 2011.</td>\n",
       "      <td></td>\n",
       "      <td>22200</td>\n",
       "      <td>No ratings yet</td>\n",
       "      <td>True</td>\n",
       "      <td>It's unique and worth a playthrough.</td>\n",
       "      <td>0.337500</td>\n",
       "      <td>2</td>\n",
       "    </tr>\n",
       "  </tbody>\n",
       "</table>\n",
       "</div>"
      ],
      "text/plain": [
       "             user_id                                           user_url funny  \\\n",
       "0  76561197970982479  http://steamcommunity.com/profiles/76561197970...         \n",
       "1  76561197970982479  http://steamcommunity.com/profiles/76561197970...         \n",
       "\n",
       "                     posted last_edited item_id         helpful recommend  \\\n",
       "0  Posted November 5, 2011.                1250  No ratings yet      True   \n",
       "1     Posted July 15, 2011.               22200  No ratings yet      True   \n",
       "\n",
       "                                              review  polaridad  sentimiento  \n",
       "0  Simple yet with great replayability. In my opi...   0.174444            2  \n",
       "1               It's unique and worth a playthrough.   0.337500            2  "
      ]
     },
     "execution_count": 74,
     "metadata": {},
     "output_type": "execute_result"
    }
   ],
   "source": [
    "df_sentimiento.head(2)"
   ]
  },
  {
   "cell_type": "markdown",
   "metadata": {},
   "source": [
    "# 4. **Desarrollo de funciones y disponibilización de datos (API)**\n",
    "***"
   ]
  },
  {
   "cell_type": "markdown",
   "metadata": {},
   "source": [
    "## 4.1 Primera función:** *def userdata( User_id : str )*\n",
    "\n",
    "Debe devolver cantidad de **dinero gastado por el usuario**, el **porcentaje de recomendación en base a reviews.recommend** y **cantidad de items**."
   ]
  },
  {
   "cell_type": "markdown",
   "metadata": {},
   "source": [
    "El primer paso va a ser crear un nuevo dataframe utilizando 'merge'. Esto nos hace un join entre dataframes teniendo en cuenta una columna clave. \n",
    "\n",
    "El obejtivo de este nuevo dataframe es obtener la cantidad de dinero gastado por un el usuario. \n",
    "\n",
    "Para este caso utilizaremos como columna clave el 'item_id'. En el dataframe 'df_items_full' se encuentra bajo ese nombre, pero en el data frame 'df_games_full' se encuentra bajo el nombre 'id'.\n",
    "\n",
    "Para poder usarlas como columna clave en el merge o join, deben ser el mismo tipo de dato. \n",
    "\n",
    "Procedemos a convertir las columnas a **float**. "
   ]
  },
  {
   "cell_type": "code",
   "execution_count": 75,
   "metadata": {},
   "outputs": [],
   "source": [
    "df_games_full['id'] = df_games_full['id'].astype(float)\n",
    "df_items_full['item_id'] = df_items_full['item_id'].astype(float)"
   ]
  },
  {
   "cell_type": "markdown",
   "metadata": {},
   "source": [
    "Eliminamos columnas que no sirven para el analisis de modo de optimizar los recursos."
   ]
  },
  {
   "cell_type": "code",
   "execution_count": 76,
   "metadata": {},
   "outputs": [],
   "source": [
    "df_items_full.drop(columns=['playtime_2weeks', 'steam_id', 'item_name'],axis=1,inplace=True)"
   ]
  },
  {
   "cell_type": "markdown",
   "metadata": {},
   "source": [
    "Procedemos a eliminar nulos y duplicados."
   ]
  },
  {
   "cell_type": "code",
   "execution_count": 77,
   "metadata": {},
   "outputs": [],
   "source": [
    "df_items_full.dropna(inplace=True)\n",
    "df_items_full.drop_duplicates(inplace=True)"
   ]
  },
  {
   "cell_type": "markdown",
   "metadata": {},
   "source": [
    "Hacemos la union entre los dos dataframes usando como columnas claves la llamada 'item_id' e 'id'. "
   ]
  },
  {
   "cell_type": "code",
   "execution_count": 78,
   "metadata": {},
   "outputs": [],
   "source": [
    "\n",
    "df_items_games = df_items_full.merge(df_games_full, left_on='item_id', right_on='id', how='left')"
   ]
  },
  {
   "cell_type": "markdown",
   "metadata": {},
   "source": [
    "Nos quedamos solo con las columnas que nos interesan con el mismo objetuvo que antes, mejorar el rendimiento. "
   ]
  },
  {
   "cell_type": "code",
   "execution_count": null,
   "metadata": {},
   "outputs": [],
   "source": [
    "df_f1 = df_items_games[['user_id','price']]\n",
    "df_f1.dropna(inplace=True)"
   ]
  },
  {
   "cell_type": "code",
   "execution_count": 80,
   "metadata": {},
   "outputs": [
    {
     "data": {
      "text/html": [
       "<div>\n",
       "<style scoped>\n",
       "    .dataframe tbody tr th:only-of-type {\n",
       "        vertical-align: middle;\n",
       "    }\n",
       "\n",
       "    .dataframe tbody tr th {\n",
       "        vertical-align: top;\n",
       "    }\n",
       "\n",
       "    .dataframe thead th {\n",
       "        text-align: right;\n",
       "    }\n",
       "</style>\n",
       "<table border=\"1\" class=\"dataframe\">\n",
       "  <thead>\n",
       "    <tr style=\"text-align: right;\">\n",
       "      <th></th>\n",
       "      <th>user_id</th>\n",
       "      <th>price</th>\n",
       "    </tr>\n",
       "  </thead>\n",
       "  <tbody>\n",
       "    <tr>\n",
       "      <th>0</th>\n",
       "      <td>76561197970982479</td>\n",
       "      <td>9.99</td>\n",
       "    </tr>\n",
       "    <tr>\n",
       "      <th>1</th>\n",
       "      <td>76561197970982479</td>\n",
       "      <td>4.99</td>\n",
       "    </tr>\n",
       "    <tr>\n",
       "      <th>2</th>\n",
       "      <td>76561197970982479</td>\n",
       "      <td>4.99</td>\n",
       "    </tr>\n",
       "    <tr>\n",
       "      <th>3</th>\n",
       "      <td>76561197970982479</td>\n",
       "      <td>4.99</td>\n",
       "    </tr>\n",
       "    <tr>\n",
       "      <th>4</th>\n",
       "      <td>76561197970982479</td>\n",
       "      <td>4.99</td>\n",
       "    </tr>\n",
       "  </tbody>\n",
       "</table>\n",
       "</div>"
      ],
      "text/plain": [
       "             user_id  price\n",
       "0  76561197970982479   9.99\n",
       "1  76561197970982479   4.99\n",
       "2  76561197970982479   4.99\n",
       "3  76561197970982479   4.99\n",
       "4  76561197970982479   4.99"
      ]
     },
     "execution_count": 80,
     "metadata": {},
     "output_type": "execute_result"
    }
   ],
   "source": [
    "df_f1.head()"
   ]
  },
  {
   "cell_type": "markdown",
   "metadata": {},
   "source": [
    "Para las otras dos consignas creamos los siguientes data frames. En la primera obtendremos las recomendaciones y en la segunda la cantidad de juegos jugamos por el usuario."
   ]
  },
  {
   "cell_type": "code",
   "execution_count": 91,
   "metadata": {},
   "outputs": [],
   "source": [
    "df_f1_2 = df_reviews_full[['user_id','recommend']]\n",
    "df_f1_3 = df_items_full[['user_id','items_count']]"
   ]
  },
  {
   "cell_type": "code",
   "execution_count": null,
   "metadata": {},
   "outputs": [],
   "source": [
    "df_f1_3.drop_duplicates(inplace=True)"
   ]
  },
  {
   "cell_type": "code",
   "execution_count": 94,
   "metadata": {},
   "outputs": [],
   "source": [
    "def userdata(user_id):\n",
    "    '''\n",
    "    La siguiente función filtra por el usuario pasado como argumento\n",
    "    y arroja el dinero gastado por dicho usuario, el porcentaje de recomendación \n",
    "    y la cantidad de items del mismo. \n",
    "    \n",
    "    Argumento:\n",
    "    user_id (str): ID de identifiación del usuario \n",
    "    \n",
    "    '''\n",
    "    # Calcula la suma de la columna precio filtrando por el usuario.\n",
    "    money = round(df_f1[df_f1['user_id'] == user_id]['price'].sum(),2)\n",
    "    \n",
    "    # Calcula la cantidad de reviews para el usuario. \n",
    "    tot_recommend = df_f1_2[df_f1_2['user_id'] == user_id]['recommend'].sum()\n",
    "    \n",
    "    # Calcula la cantidad de reviews filtrando por el usuario en el DataFrame df_reviews_full.\n",
    "    tot_items = df_f1_3[df_f1_3['user_id'] == user_id]['items_count'].iloc[0]\n",
    "\n",
    "    return {'Usuario:': user_id,\n",
    "            'Cantidad de dinero gastado:': round(money,2),\n",
    "            # Hacemos el cociente para calcular el porcentaje.\n",
    "            'Porcentaje de recomendación:': round((tot_recommend / tot_items) * 100, 2),\n",
    "            'Cantidad de items:': tot_items\n",
    "            }\n",
    " \n"
   ]
  },
  {
   "cell_type": "markdown",
   "metadata": {},
   "source": [
    "**Ejemplo:**"
   ]
  },
  {
   "cell_type": "code",
   "execution_count": 95,
   "metadata": {},
   "outputs": [
    {
     "data": {
      "text/plain": [
       "{'Usuario:': '76561197970982479',\n",
       " 'Cantidad de dinero gastado:': 3424.31,\n",
       " 'Porcentaje de recomendación:': 1.08,\n",
       " 'Cantidad de items:': 277}"
      ]
     },
     "execution_count": 95,
     "metadata": {},
     "output_type": "execute_result"
    }
   ],
   "source": [
    "userdata('76561197970982479')"
   ]
  },
  {
   "cell_type": "markdown",
   "metadata": {},
   "source": [
    "## 4.2 Segunda función: *def countreviews( YYYY-MM-DD y YYYY-MM-DD : str )*\n",
    "\n",
    "Cantidad de usuarios que realizaron reviews entre las fechas dadas y, el porcentaje de recomendación de los mismos en base a reviews.recommend."
   ]
  },
  {
   "cell_type": "markdown",
   "metadata": {},
   "source": [
    "El primer paso es crear un dataframe que contenga las columnas 'user_id, 'Posted', 'recommend', y 'items_count'.\n",
    "\n",
    "Para eso haremos un merge entre el dataframe df_reviews_full y el dataframe df_items_full utilizando como columna clave el **'user_id'**"
   ]
  },
  {
   "cell_type": "code",
   "execution_count": 97,
   "metadata": {},
   "outputs": [
    {
     "data": {
      "text/html": [
       "<div>\n",
       "<style scoped>\n",
       "    .dataframe tbody tr th:only-of-type {\n",
       "        vertical-align: middle;\n",
       "    }\n",
       "\n",
       "    .dataframe tbody tr th {\n",
       "        vertical-align: top;\n",
       "    }\n",
       "\n",
       "    .dataframe thead th {\n",
       "        text-align: right;\n",
       "    }\n",
       "</style>\n",
       "<table border=\"1\" class=\"dataframe\">\n",
       "  <thead>\n",
       "    <tr style=\"text-align: right;\">\n",
       "      <th></th>\n",
       "      <th>user_id</th>\n",
       "      <th>posted</th>\n",
       "      <th>recommend</th>\n",
       "    </tr>\n",
       "  </thead>\n",
       "  <tbody>\n",
       "    <tr>\n",
       "      <th>0</th>\n",
       "      <td>76561197970982479</td>\n",
       "      <td>Posted November 5, 2011.</td>\n",
       "      <td>True</td>\n",
       "    </tr>\n",
       "    <tr>\n",
       "      <th>1</th>\n",
       "      <td>76561197970982479</td>\n",
       "      <td>Posted November 5, 2011.</td>\n",
       "      <td>True</td>\n",
       "    </tr>\n",
       "    <tr>\n",
       "      <th>2</th>\n",
       "      <td>76561197970982479</td>\n",
       "      <td>Posted November 5, 2011.</td>\n",
       "      <td>True</td>\n",
       "    </tr>\n",
       "    <tr>\n",
       "      <th>3</th>\n",
       "      <td>76561197970982479</td>\n",
       "      <td>Posted November 5, 2011.</td>\n",
       "      <td>True</td>\n",
       "    </tr>\n",
       "    <tr>\n",
       "      <th>4</th>\n",
       "      <td>76561197970982479</td>\n",
       "      <td>Posted November 5, 2011.</td>\n",
       "      <td>True</td>\n",
       "    </tr>\n",
       "    <tr>\n",
       "      <th>...</th>\n",
       "      <td>...</td>\n",
       "      <td>...</td>\n",
       "      <td>...</td>\n",
       "    </tr>\n",
       "    <tr>\n",
       "      <th>7547587</th>\n",
       "      <td>CaptainAmericaCw</td>\n",
       "      <td>Posted July 20.</td>\n",
       "      <td>True</td>\n",
       "    </tr>\n",
       "    <tr>\n",
       "      <th>7547588</th>\n",
       "      <td>76561198267374962</td>\n",
       "      <td>Posted July 2.</td>\n",
       "      <td>True</td>\n",
       "    </tr>\n",
       "    <tr>\n",
       "      <th>7547589</th>\n",
       "      <td>76561198267374962</td>\n",
       "      <td>Posted July 2.</td>\n",
       "      <td>True</td>\n",
       "    </tr>\n",
       "    <tr>\n",
       "      <th>7547590</th>\n",
       "      <td>76561198267374962</td>\n",
       "      <td>Posted July 2.</td>\n",
       "      <td>True</td>\n",
       "    </tr>\n",
       "    <tr>\n",
       "      <th>7547591</th>\n",
       "      <td>76561198267374962</td>\n",
       "      <td>Posted July 2.</td>\n",
       "      <td>True</td>\n",
       "    </tr>\n",
       "  </tbody>\n",
       "</table>\n",
       "<p>7547592 rows × 3 columns</p>\n",
       "</div>"
      ],
      "text/plain": [
       "                   user_id                    posted recommend\n",
       "0        76561197970982479  Posted November 5, 2011.      True\n",
       "1        76561197970982479  Posted November 5, 2011.      True\n",
       "2        76561197970982479  Posted November 5, 2011.      True\n",
       "3        76561197970982479  Posted November 5, 2011.      True\n",
       "4        76561197970982479  Posted November 5, 2011.      True\n",
       "...                    ...                       ...       ...\n",
       "7547587   CaptainAmericaCw           Posted July 20.      True\n",
       "7547588  76561198267374962            Posted July 2.      True\n",
       "7547589  76561198267374962            Posted July 2.      True\n",
       "7547590  76561198267374962            Posted July 2.      True\n",
       "7547591  76561198267374962            Posted July 2.      True\n",
       "\n",
       "[7547592 rows x 3 columns]"
      ]
     },
     "execution_count": 97,
     "metadata": {},
     "output_type": "execute_result"
    }
   ],
   "source": [
    "df_f2 = df_reviews_full.merge(df_items_full, on='user_id', how='inner')\n",
    "df_f2 = df_f2[['user_id', 'posted', 'recommend']]\n",
    "df_f2"
   ]
  },
  {
   "cell_type": "markdown",
   "metadata": {},
   "source": [
    "El segundo paso es normalizar la columna 'posted' donde tenemos la fecha en formato texto. \n",
    "\n",
    "Eliminamos la palabra 'Posted' y convertimos la columna a tipo de dato **datetime**"
   ]
  },
  {
   "cell_type": "code",
   "execution_count": 98,
   "metadata": {},
   "outputs": [],
   "source": [
    "# Eliminamos la palabra 'Posted:'\n",
    "df_f2['posted']=df_f2['posted'].replace({'Posted':''},regex=True)\n",
    "\n",
    "# Convertimos la columna a datetime.\n",
    "df_f2['posted'] = pd.to_datetime(df_f2['posted'],errors='coerce')\n",
    "\n",
    "# Eliminamos los valores con error (NaT), por ejemplo, fechas que no tenían el año.\n",
    "df_f2.dropna(inplace=True)\n",
    "\n",
    "df_f2.drop_duplicates(inplace=True)"
   ]
  },
  {
   "cell_type": "code",
   "execution_count": 99,
   "metadata": {},
   "outputs": [],
   "source": [
    "def countreviews(inicio, fin):\n",
    "    '''\n",
    "    Calcula la cantidad de usuarios que realizaron reviews entre las fechas dadas y \n",
    "    el porcentaje de recomendacion de esos usuarios.\n",
    "    \n",
    "    Argumentos:\n",
    "    inicio (str): Fecha de inicio del periodo a evaluar.\n",
    "    fin (str): Fecha de fin del periodo a evaluar\n",
    "    '''\n",
    "    inicio = pd.to_datetime(inicio)\n",
    "    fin = pd.to_datetime(fin) \n",
    "    \n",
    "    # Filtra las filas del DataFrame que estén dentro del rango de fechas\n",
    "    reviews_entre_fechas = df_f2[(df_f2['posted'] >= inicio) & (df_f2['posted'] <= fin)]\n",
    "    \n",
    "    # Calcula la cantidad de usuarios únicos que realizaron reviews en ese período\n",
    "    cantidad_usuarios = reviews_entre_fechas['user_id'].nunique()\n",
    "    \n",
    "    reviews_reco = round(reviews_entre_fechas['recommend'].sum() / reviews_entre_fechas['recommend'].count() * 100,2)\n",
    "    \n",
    "    return {'Cantidad de usuarios:': cantidad_usuarios,\n",
    "            # Hacemos el cociente para calcular el porcentaje.\n",
    "        'Porcentaje de recomendación:': reviews_reco\n",
    "    }"
   ]
  },
  {
   "cell_type": "markdown",
   "metadata": {},
   "source": [
    "**Ejemplo:**"
   ]
  },
  {
   "cell_type": "code",
   "execution_count": 100,
   "metadata": {},
   "outputs": [
    {
     "data": {
      "text/plain": [
       "{'Cantidad de usuarios:': 36, 'Porcentaje de recomendación:': 94.74}"
      ]
     },
     "execution_count": 100,
     "metadata": {},
     "output_type": "execute_result"
    }
   ],
   "source": [
    "countreviews('2011-11-11','2011-12-18')"
   ]
  },
  {
   "cell_type": "markdown",
   "metadata": {},
   "source": [
    "## 4.3 Tercera función: *def genre( género : str )*\n",
    "\n",
    "Devuelve el puesto en el que se encuentra un género sobre el ranking de los mismos analizado bajo la columna PlayTimeForever."
   ]
  },
  {
   "cell_type": "markdown",
   "metadata": {},
   "source": [
    "Para esta funcion utilizaremos el dataframe creado en la funcion 1, llamado items_games. Para esta funcion solo vamos a necesitar las columnas 'genres' y 'playtime_forever'. "
   ]
  },
  {
   "cell_type": "code",
   "execution_count": 101,
   "metadata": {},
   "outputs": [
    {
     "data": {
      "text/html": [
       "<div>\n",
       "<style scoped>\n",
       "    .dataframe tbody tr th:only-of-type {\n",
       "        vertical-align: middle;\n",
       "    }\n",
       "\n",
       "    .dataframe tbody tr th {\n",
       "        vertical-align: top;\n",
       "    }\n",
       "\n",
       "    .dataframe thead th {\n",
       "        text-align: right;\n",
       "    }\n",
       "</style>\n",
       "<table border=\"1\" class=\"dataframe\">\n",
       "  <thead>\n",
       "    <tr style=\"text-align: right;\">\n",
       "      <th></th>\n",
       "      <th>genres</th>\n",
       "      <th>playtime_forever</th>\n",
       "    </tr>\n",
       "  </thead>\n",
       "  <tbody>\n",
       "    <tr>\n",
       "      <th>0</th>\n",
       "      <td>[Action]</td>\n",
       "      <td>6.0</td>\n",
       "    </tr>\n",
       "    <tr>\n",
       "      <th>1</th>\n",
       "      <td>[Action]</td>\n",
       "      <td>0.0</td>\n",
       "    </tr>\n",
       "    <tr>\n",
       "      <th>2</th>\n",
       "      <td>[Action]</td>\n",
       "      <td>7.0</td>\n",
       "    </tr>\n",
       "    <tr>\n",
       "      <th>3</th>\n",
       "      <td>[Action]</td>\n",
       "      <td>0.0</td>\n",
       "    </tr>\n",
       "    <tr>\n",
       "      <th>4</th>\n",
       "      <td>[Action]</td>\n",
       "      <td>0.0</td>\n",
       "    </tr>\n",
       "    <tr>\n",
       "      <th>...</th>\n",
       "      <td>...</td>\n",
       "      <td>...</td>\n",
       "    </tr>\n",
       "    <tr>\n",
       "      <th>5094087</th>\n",
       "      <td>[Action, Adventure, Free to Play, Indie, Early...</td>\n",
       "      <td>0.0</td>\n",
       "    </tr>\n",
       "    <tr>\n",
       "      <th>5094088</th>\n",
       "      <td>None</td>\n",
       "      <td>0.0</td>\n",
       "    </tr>\n",
       "    <tr>\n",
       "      <th>5094089</th>\n",
       "      <td>[Adventure, Free to Play]</td>\n",
       "      <td>3.0</td>\n",
       "    </tr>\n",
       "    <tr>\n",
       "      <th>5094090</th>\n",
       "      <td>[Casual, Free to Play, Indie]</td>\n",
       "      <td>4.0</td>\n",
       "    </tr>\n",
       "    <tr>\n",
       "      <th>5094091</th>\n",
       "      <td>NaN</td>\n",
       "      <td>3.0</td>\n",
       "    </tr>\n",
       "  </tbody>\n",
       "</table>\n",
       "<p>5094092 rows × 2 columns</p>\n",
       "</div>"
      ],
      "text/plain": [
       "                                                    genres  playtime_forever\n",
       "0                                                 [Action]               6.0\n",
       "1                                                 [Action]               0.0\n",
       "2                                                 [Action]               7.0\n",
       "3                                                 [Action]               0.0\n",
       "4                                                 [Action]               0.0\n",
       "...                                                    ...               ...\n",
       "5094087  [Action, Adventure, Free to Play, Indie, Early...               0.0\n",
       "5094088                                               None               0.0\n",
       "5094089                          [Adventure, Free to Play]               3.0\n",
       "5094090                      [Casual, Free to Play, Indie]               4.0\n",
       "5094091                                                NaN               3.0\n",
       "\n",
       "[5094092 rows x 2 columns]"
      ]
     },
     "execution_count": 101,
     "metadata": {},
     "output_type": "execute_result"
    }
   ],
   "source": [
    "df_f3 = df_items_games[['genres', 'playtime_forever']]\n",
    "df_f3"
   ]
  },
  {
   "cell_type": "markdown",
   "metadata": {},
   "source": [
    "Podemos observar que la columna 'genres' tiene valores anidados en listas. Para poder desanidarlo vamos a utilizar la funcion **.explode**"
   ]
  },
  {
   "cell_type": "code",
   "execution_count": 102,
   "metadata": {},
   "outputs": [
    {
     "data": {
      "text/html": [
       "<div>\n",
       "<style scoped>\n",
       "    .dataframe tbody tr th:only-of-type {\n",
       "        vertical-align: middle;\n",
       "    }\n",
       "\n",
       "    .dataframe tbody tr th {\n",
       "        vertical-align: top;\n",
       "    }\n",
       "\n",
       "    .dataframe thead th {\n",
       "        text-align: right;\n",
       "    }\n",
       "</style>\n",
       "<table border=\"1\" class=\"dataframe\">\n",
       "  <thead>\n",
       "    <tr style=\"text-align: right;\">\n",
       "      <th></th>\n",
       "      <th>genres</th>\n",
       "      <th>playtime_forever</th>\n",
       "    </tr>\n",
       "  </thead>\n",
       "  <tbody>\n",
       "    <tr>\n",
       "      <th>0</th>\n",
       "      <td>Action</td>\n",
       "      <td>6.0</td>\n",
       "    </tr>\n",
       "    <tr>\n",
       "      <th>1</th>\n",
       "      <td>Action</td>\n",
       "      <td>0.0</td>\n",
       "    </tr>\n",
       "    <tr>\n",
       "      <th>2</th>\n",
       "      <td>Action</td>\n",
       "      <td>7.0</td>\n",
       "    </tr>\n",
       "    <tr>\n",
       "      <th>3</th>\n",
       "      <td>Action</td>\n",
       "      <td>0.0</td>\n",
       "    </tr>\n",
       "    <tr>\n",
       "      <th>4</th>\n",
       "      <td>Action</td>\n",
       "      <td>0.0</td>\n",
       "    </tr>\n",
       "    <tr>\n",
       "      <th>...</th>\n",
       "      <td>...</td>\n",
       "      <td>...</td>\n",
       "    </tr>\n",
       "    <tr>\n",
       "      <th>5094089</th>\n",
       "      <td>Free to Play</td>\n",
       "      <td>3.0</td>\n",
       "    </tr>\n",
       "    <tr>\n",
       "      <th>5094090</th>\n",
       "      <td>Casual</td>\n",
       "      <td>4.0</td>\n",
       "    </tr>\n",
       "    <tr>\n",
       "      <th>5094090</th>\n",
       "      <td>Free to Play</td>\n",
       "      <td>4.0</td>\n",
       "    </tr>\n",
       "    <tr>\n",
       "      <th>5094090</th>\n",
       "      <td>Indie</td>\n",
       "      <td>4.0</td>\n",
       "    </tr>\n",
       "    <tr>\n",
       "      <th>5094091</th>\n",
       "      <td>NaN</td>\n",
       "      <td>3.0</td>\n",
       "    </tr>\n",
       "  </tbody>\n",
       "</table>\n",
       "<p>10814934 rows × 2 columns</p>\n",
       "</div>"
      ],
      "text/plain": [
       "               genres  playtime_forever\n",
       "0              Action               6.0\n",
       "1              Action               0.0\n",
       "2              Action               7.0\n",
       "3              Action               0.0\n",
       "4              Action               0.0\n",
       "...               ...               ...\n",
       "5094089  Free to Play               3.0\n",
       "5094090        Casual               4.0\n",
       "5094090  Free to Play               4.0\n",
       "5094090         Indie               4.0\n",
       "5094091           NaN               3.0\n",
       "\n",
       "[10814934 rows x 2 columns]"
      ]
     },
     "execution_count": 102,
     "metadata": {},
     "output_type": "execute_result"
    }
   ],
   "source": [
    "df_f3 = df_f3.explode('genres')\n",
    "df_f3"
   ]
  },
  {
   "cell_type": "markdown",
   "metadata": {},
   "source": [
    "Luego vamos a crear un ranking de los generos considerando la suma de la columna playtime_forever. "
   ]
  },
  {
   "cell_type": "code",
   "execution_count": 103,
   "metadata": {},
   "outputs": [
    {
     "data": {
      "text/html": [
       "<div>\n",
       "<style scoped>\n",
       "    .dataframe tbody tr th:only-of-type {\n",
       "        vertical-align: middle;\n",
       "    }\n",
       "\n",
       "    .dataframe tbody tr th {\n",
       "        vertical-align: top;\n",
       "    }\n",
       "\n",
       "    .dataframe thead th {\n",
       "        text-align: right;\n",
       "    }\n",
       "</style>\n",
       "<table border=\"1\" class=\"dataframe\">\n",
       "  <thead>\n",
       "    <tr style=\"text-align: right;\">\n",
       "      <th></th>\n",
       "      <th>genres</th>\n",
       "      <th>playtime_forever</th>\n",
       "      <th>Posicion</th>\n",
       "    </tr>\n",
       "  </thead>\n",
       "  <tbody>\n",
       "    <tr>\n",
       "      <th>0</th>\n",
       "      <td>Action</td>\n",
       "      <td>3.074906e+09</td>\n",
       "      <td>1</td>\n",
       "    </tr>\n",
       "    <tr>\n",
       "      <th>9</th>\n",
       "      <td>Indie</td>\n",
       "      <td>1.475390e+09</td>\n",
       "      <td>2</td>\n",
       "    </tr>\n",
       "    <tr>\n",
       "      <th>12</th>\n",
       "      <td>RPG</td>\n",
       "      <td>1.027852e+09</td>\n",
       "      <td>3</td>\n",
       "    </tr>\n",
       "    <tr>\n",
       "      <th>1</th>\n",
       "      <td>Adventure</td>\n",
       "      <td>8.986827e+08</td>\n",
       "      <td>4</td>\n",
       "    </tr>\n",
       "    <tr>\n",
       "      <th>14</th>\n",
       "      <td>Simulation</td>\n",
       "      <td>8.552631e+08</td>\n",
       "      <td>5</td>\n",
       "    </tr>\n",
       "    <tr>\n",
       "      <th>17</th>\n",
       "      <td>Strategy</td>\n",
       "      <td>6.509956e+08</td>\n",
       "      <td>6</td>\n",
       "    </tr>\n",
       "    <tr>\n",
       "      <th>8</th>\n",
       "      <td>Free to Play</td>\n",
       "      <td>6.035662e+08</td>\n",
       "      <td>7</td>\n",
       "    </tr>\n",
       "    <tr>\n",
       "      <th>10</th>\n",
       "      <td>Massively Multiplayer</td>\n",
       "      <td>4.410434e+08</td>\n",
       "      <td>8</td>\n",
       "    </tr>\n",
       "    <tr>\n",
       "      <th>4</th>\n",
       "      <td>Casual</td>\n",
       "      <td>2.493166e+08</td>\n",
       "      <td>9</td>\n",
       "    </tr>\n",
       "    <tr>\n",
       "      <th>6</th>\n",
       "      <td>Early Access</td>\n",
       "      <td>1.566875e+08</td>\n",
       "      <td>10</td>\n",
       "    </tr>\n",
       "    <tr>\n",
       "      <th>16</th>\n",
       "      <td>Sports</td>\n",
       "      <td>6.491268e+07</td>\n",
       "      <td>11</td>\n",
       "    </tr>\n",
       "    <tr>\n",
       "      <th>13</th>\n",
       "      <td>Racing</td>\n",
       "      <td>6.298226e+07</td>\n",
       "      <td>12</td>\n",
       "    </tr>\n",
       "    <tr>\n",
       "      <th>18</th>\n",
       "      <td>Utilities</td>\n",
       "      <td>4.677356e+06</td>\n",
       "      <td>13</td>\n",
       "    </tr>\n",
       "    <tr>\n",
       "      <th>5</th>\n",
       "      <td>Design &amp;amp; Illustration</td>\n",
       "      <td>4.075534e+06</td>\n",
       "      <td>14</td>\n",
       "    </tr>\n",
       "    <tr>\n",
       "      <th>20</th>\n",
       "      <td>Web Publishing</td>\n",
       "      <td>2.760751e+06</td>\n",
       "      <td>15</td>\n",
       "    </tr>\n",
       "    <tr>\n",
       "      <th>19</th>\n",
       "      <td>Video Production</td>\n",
       "      <td>2.387840e+06</td>\n",
       "      <td>16</td>\n",
       "    </tr>\n",
       "    <tr>\n",
       "      <th>2</th>\n",
       "      <td>Animation &amp;amp; Modeling</td>\n",
       "      <td>1.994171e+06</td>\n",
       "      <td>17</td>\n",
       "    </tr>\n",
       "    <tr>\n",
       "      <th>15</th>\n",
       "      <td>Software Training</td>\n",
       "      <td>5.599880e+05</td>\n",
       "      <td>18</td>\n",
       "    </tr>\n",
       "    <tr>\n",
       "      <th>3</th>\n",
       "      <td>Audio Production</td>\n",
       "      <td>5.452010e+05</td>\n",
       "      <td>19</td>\n",
       "    </tr>\n",
       "    <tr>\n",
       "      <th>7</th>\n",
       "      <td>Education</td>\n",
       "      <td>4.129550e+05</td>\n",
       "      <td>20</td>\n",
       "    </tr>\n",
       "    <tr>\n",
       "      <th>11</th>\n",
       "      <td>Photo Editing</td>\n",
       "      <td>1.145020e+05</td>\n",
       "      <td>21</td>\n",
       "    </tr>\n",
       "  </tbody>\n",
       "</table>\n",
       "</div>"
      ],
      "text/plain": [
       "                       genres  playtime_forever  Posicion\n",
       "0                      Action      3.074906e+09         1\n",
       "9                       Indie      1.475390e+09         2\n",
       "12                        RPG      1.027852e+09         3\n",
       "1                   Adventure      8.986827e+08         4\n",
       "14                 Simulation      8.552631e+08         5\n",
       "17                   Strategy      6.509956e+08         6\n",
       "8                Free to Play      6.035662e+08         7\n",
       "10      Massively Multiplayer      4.410434e+08         8\n",
       "4                      Casual      2.493166e+08         9\n",
       "6                Early Access      1.566875e+08        10\n",
       "16                     Sports      6.491268e+07        11\n",
       "13                     Racing      6.298226e+07        12\n",
       "18                  Utilities      4.677356e+06        13\n",
       "5   Design &amp; Illustration      4.075534e+06        14\n",
       "20             Web Publishing      2.760751e+06        15\n",
       "19           Video Production      2.387840e+06        16\n",
       "2    Animation &amp; Modeling      1.994171e+06        17\n",
       "15          Software Training      5.599880e+05        18\n",
       "3            Audio Production      5.452010e+05        19\n",
       "7                   Education      4.129550e+05        20\n",
       "11              Photo Editing      1.145020e+05        21"
      ]
     },
     "execution_count": 103,
     "metadata": {},
     "output_type": "execute_result"
    }
   ],
   "source": [
    "data = df_f3.groupby('genres',as_index=False)['playtime_forever'].sum()\n",
    "data.sort_values(by='playtime_forever',inplace=True,ascending=False)\n",
    "df_ranking = pd.DataFrame(data)\n",
    "df_ranking['Posicion'] = range(1, len(df_ranking) + 1)\n",
    "df_ranking"
   ]
  },
  {
   "cell_type": "code",
   "execution_count": 104,
   "metadata": {},
   "outputs": [],
   "source": [
    "def genre(genero):\n",
    "    \n",
    "    '''\n",
    "    Esta función nos aroja en que puesto del ranking 'Playtime_Forever' se encuentra \n",
    "    el género pasado como input.\n",
    "\n",
    "    Argumento: \n",
    "    genre (str): El género de juegos del cual se quiere conocer el ranquin de horas jugadas. \n",
    "    \n",
    "    '''\n",
    "    \n",
    "    #Filtramos el ranking según el genero y mostramos el valor de la columna posicion. \n",
    "    posicion = df_ranking[df_ranking['genres'] == genero]['Posicion'].iloc[0]\n",
    "    \n",
    "    return {'El género': genero, \n",
    "            'se encuentra en la posición':posicion\n",
    "    }"
   ]
  },
  {
   "cell_type": "markdown",
   "metadata": {},
   "source": [
    "**Ejemplo:**"
   ]
  },
  {
   "cell_type": "code",
   "execution_count": 105,
   "metadata": {},
   "outputs": [
    {
     "data": {
      "text/plain": [
       "{'El género': 'Audio Production', 'se encuentra en la posición': 19}"
      ]
     },
     "execution_count": 105,
     "metadata": {},
     "output_type": "execute_result"
    }
   ],
   "source": [
    "genre('Audio Production')"
   ]
  },
  {
   "cell_type": "markdown",
   "metadata": {},
   "source": [
    "## 4.4 Cuarta función: *def userforgenre( género : str )*\n",
    "\n",
    " Top 5 de usuarios con más horas de juego en el género dado, con su URL (del user) y user_id."
   ]
  },
  {
   "cell_type": "markdown",
   "metadata": {},
   "source": [
    "El primer paso sera partir del dataframe creado en el punto 4.1, con el nombre de df_items_games. De este fata frame vamos a necesitar las columnas 'genre', 'user_id', 'user_url' y 'playtime_forever'."
   ]
  },
  {
   "cell_type": "code",
   "execution_count": 106,
   "metadata": {},
   "outputs": [
    {
     "data": {
      "text/plain": [
       "Index(['user_id', 'items_count', 'user_url', 'item_id', 'playtime_forever',\n",
       "       'publisher', 'genres', 'app_name', 'title', 'url', 'release_date',\n",
       "       'tags', 'reviews_url', 'discount_price', 'specs', 'price',\n",
       "       'early_access', 'id', 'metascore', 'developer'],\n",
       "      dtype='object')"
      ]
     },
     "execution_count": 106,
     "metadata": {},
     "output_type": "execute_result"
    }
   ],
   "source": [
    "df_items_games.columns"
   ]
  },
  {
   "cell_type": "code",
   "execution_count": 107,
   "metadata": {},
   "outputs": [
    {
     "data": {
      "text/html": [
       "<div>\n",
       "<style scoped>\n",
       "    .dataframe tbody tr th:only-of-type {\n",
       "        vertical-align: middle;\n",
       "    }\n",
       "\n",
       "    .dataframe tbody tr th {\n",
       "        vertical-align: top;\n",
       "    }\n",
       "\n",
       "    .dataframe thead th {\n",
       "        text-align: right;\n",
       "    }\n",
       "</style>\n",
       "<table border=\"1\" class=\"dataframe\">\n",
       "  <thead>\n",
       "    <tr style=\"text-align: right;\">\n",
       "      <th></th>\n",
       "      <th>genres</th>\n",
       "      <th>user_id</th>\n",
       "      <th>user_url</th>\n",
       "      <th>playtime_forever</th>\n",
       "    </tr>\n",
       "  </thead>\n",
       "  <tbody>\n",
       "    <tr>\n",
       "      <th>0</th>\n",
       "      <td>[Action]</td>\n",
       "      <td>76561197970982479</td>\n",
       "      <td>http://steamcommunity.com/profiles/76561197970...</td>\n",
       "      <td>6.0</td>\n",
       "    </tr>\n",
       "    <tr>\n",
       "      <th>1</th>\n",
       "      <td>[Action]</td>\n",
       "      <td>76561197970982479</td>\n",
       "      <td>http://steamcommunity.com/profiles/76561197970...</td>\n",
       "      <td>0.0</td>\n",
       "    </tr>\n",
       "    <tr>\n",
       "      <th>2</th>\n",
       "      <td>[Action]</td>\n",
       "      <td>76561197970982479</td>\n",
       "      <td>http://steamcommunity.com/profiles/76561197970...</td>\n",
       "      <td>7.0</td>\n",
       "    </tr>\n",
       "  </tbody>\n",
       "</table>\n",
       "</div>"
      ],
      "text/plain": [
       "     genres            user_id  \\\n",
       "0  [Action]  76561197970982479   \n",
       "1  [Action]  76561197970982479   \n",
       "2  [Action]  76561197970982479   \n",
       "\n",
       "                                            user_url  playtime_forever  \n",
       "0  http://steamcommunity.com/profiles/76561197970...               6.0  \n",
       "1  http://steamcommunity.com/profiles/76561197970...               0.0  \n",
       "2  http://steamcommunity.com/profiles/76561197970...               7.0  "
      ]
     },
     "execution_count": 107,
     "metadata": {},
     "output_type": "execute_result"
    }
   ],
   "source": [
    "df_f4 = df_items_games[['genres', 'user_id', 'user_url','playtime_forever']]\n",
    "df_f4.head(3)"
   ]
  },
  {
   "cell_type": "markdown",
   "metadata": {},
   "source": [
    "Luego debemos desanidar los valores de tipo lista que se encuentran en la columna 'genres'. Para eso utilizamos la función **.explode**"
   ]
  },
  {
   "cell_type": "code",
   "execution_count": 108,
   "metadata": {},
   "outputs": [
    {
     "data": {
      "text/html": [
       "<div>\n",
       "<style scoped>\n",
       "    .dataframe tbody tr th:only-of-type {\n",
       "        vertical-align: middle;\n",
       "    }\n",
       "\n",
       "    .dataframe tbody tr th {\n",
       "        vertical-align: top;\n",
       "    }\n",
       "\n",
       "    .dataframe thead th {\n",
       "        text-align: right;\n",
       "    }\n",
       "</style>\n",
       "<table border=\"1\" class=\"dataframe\">\n",
       "  <thead>\n",
       "    <tr style=\"text-align: right;\">\n",
       "      <th></th>\n",
       "      <th>genres</th>\n",
       "      <th>user_id</th>\n",
       "      <th>user_url</th>\n",
       "      <th>playtime_forever</th>\n",
       "    </tr>\n",
       "  </thead>\n",
       "  <tbody>\n",
       "    <tr>\n",
       "      <th>0</th>\n",
       "      <td>Action</td>\n",
       "      <td>76561197970982479</td>\n",
       "      <td>http://steamcommunity.com/profiles/76561197970...</td>\n",
       "      <td>6.0</td>\n",
       "    </tr>\n",
       "    <tr>\n",
       "      <th>1</th>\n",
       "      <td>Action</td>\n",
       "      <td>76561197970982479</td>\n",
       "      <td>http://steamcommunity.com/profiles/76561197970...</td>\n",
       "      <td>0.0</td>\n",
       "    </tr>\n",
       "    <tr>\n",
       "      <th>2</th>\n",
       "      <td>Action</td>\n",
       "      <td>76561197970982479</td>\n",
       "      <td>http://steamcommunity.com/profiles/76561197970...</td>\n",
       "      <td>7.0</td>\n",
       "    </tr>\n",
       "    <tr>\n",
       "      <th>3</th>\n",
       "      <td>Action</td>\n",
       "      <td>76561197970982479</td>\n",
       "      <td>http://steamcommunity.com/profiles/76561197970...</td>\n",
       "      <td>0.0</td>\n",
       "    </tr>\n",
       "    <tr>\n",
       "      <th>4</th>\n",
       "      <td>Action</td>\n",
       "      <td>76561197970982479</td>\n",
       "      <td>http://steamcommunity.com/profiles/76561197970...</td>\n",
       "      <td>0.0</td>\n",
       "    </tr>\n",
       "  </tbody>\n",
       "</table>\n",
       "</div>"
      ],
      "text/plain": [
       "   genres            user_id  \\\n",
       "0  Action  76561197970982479   \n",
       "1  Action  76561197970982479   \n",
       "2  Action  76561197970982479   \n",
       "3  Action  76561197970982479   \n",
       "4  Action  76561197970982479   \n",
       "\n",
       "                                            user_url  playtime_forever  \n",
       "0  http://steamcommunity.com/profiles/76561197970...               6.0  \n",
       "1  http://steamcommunity.com/profiles/76561197970...               0.0  \n",
       "2  http://steamcommunity.com/profiles/76561197970...               7.0  \n",
       "3  http://steamcommunity.com/profiles/76561197970...               0.0  \n",
       "4  http://steamcommunity.com/profiles/76561197970...               0.0  "
      ]
     },
     "execution_count": 108,
     "metadata": {},
     "output_type": "execute_result"
    }
   ],
   "source": [
    "df_f4 = df_f4.explode('genres')\n",
    "df_f4.head()"
   ]
  },
  {
   "cell_type": "code",
   "execution_count": 109,
   "metadata": {},
   "outputs": [
    {
     "data": {
      "text/html": [
       "<div>\n",
       "<style scoped>\n",
       "    .dataframe tbody tr th:only-of-type {\n",
       "        vertical-align: middle;\n",
       "    }\n",
       "\n",
       "    .dataframe tbody tr th {\n",
       "        vertical-align: top;\n",
       "    }\n",
       "\n",
       "    .dataframe thead th {\n",
       "        text-align: right;\n",
       "    }\n",
       "</style>\n",
       "<table border=\"1\" class=\"dataframe\">\n",
       "  <thead>\n",
       "    <tr style=\"text-align: right;\">\n",
       "      <th></th>\n",
       "      <th>genres</th>\n",
       "      <th>user_id</th>\n",
       "      <th>user_url</th>\n",
       "      <th>playtime_forever</th>\n",
       "    </tr>\n",
       "  </thead>\n",
       "  <tbody>\n",
       "    <tr>\n",
       "      <th>670405</th>\n",
       "      <td>Web Publishing</td>\n",
       "      <td>Xyphien</td>\n",
       "      <td>http://steamcommunity.com/id/Xyphien</td>\n",
       "      <td>142964.0</td>\n",
       "    </tr>\n",
       "    <tr>\n",
       "      <th>668890</th>\n",
       "      <td>Web Publishing</td>\n",
       "      <td>76561198035718256</td>\n",
       "      <td>http://steamcommunity.com/profiles/76561198035...</td>\n",
       "      <td>115083.0</td>\n",
       "    </tr>\n",
       "    <tr>\n",
       "      <th>671059</th>\n",
       "      <td>Web Publishing</td>\n",
       "      <td>pretentiouswutangratz</td>\n",
       "      <td>http://steamcommunity.com/id/pretentiouswutang...</td>\n",
       "      <td>105617.0</td>\n",
       "    </tr>\n",
       "    <tr>\n",
       "      <th>668636</th>\n",
       "      <td>Web Publishing</td>\n",
       "      <td>3197</td>\n",
       "      <td>http://steamcommunity.com/id/3197</td>\n",
       "      <td>79237.0</td>\n",
       "    </tr>\n",
       "    <tr>\n",
       "      <th>670953</th>\n",
       "      <td>Web Publishing</td>\n",
       "      <td>minakazu</td>\n",
       "      <td>http://steamcommunity.com/id/minakazu</td>\n",
       "      <td>75240.0</td>\n",
       "    </tr>\n",
       "    <tr>\n",
       "      <th>...</th>\n",
       "      <td>...</td>\n",
       "      <td>...</td>\n",
       "      <td>...</td>\n",
       "      <td>...</td>\n",
       "    </tr>\n",
       "    <tr>\n",
       "      <th>67189</th>\n",
       "      <td>Action</td>\n",
       "      <td>wugaga0912</td>\n",
       "      <td>http://steamcommunity.com/id/wugaga0912</td>\n",
       "      <td>0.0</td>\n",
       "    </tr>\n",
       "    <tr>\n",
       "      <th>67303</th>\n",
       "      <td>Action</td>\n",
       "      <td>xamerx6</td>\n",
       "      <td>http://steamcommunity.com/id/xamerx6</td>\n",
       "      <td>0.0</td>\n",
       "    </tr>\n",
       "    <tr>\n",
       "      <th>67731</th>\n",
       "      <td>Action</td>\n",
       "      <td>zigzagsoft</td>\n",
       "      <td>http://steamcommunity.com/id/zigzagsoft</td>\n",
       "      <td>0.0</td>\n",
       "    </tr>\n",
       "    <tr>\n",
       "      <th>67813</th>\n",
       "      <td>Action</td>\n",
       "      <td>zyzzchris</td>\n",
       "      <td>http://steamcommunity.com/id/zyzzchris</td>\n",
       "      <td>0.0</td>\n",
       "    </tr>\n",
       "    <tr>\n",
       "      <th>67817</th>\n",
       "      <td>Action</td>\n",
       "      <td>zzonci</td>\n",
       "      <td>http://steamcommunity.com/id/zzonci</td>\n",
       "      <td>0.0</td>\n",
       "    </tr>\n",
       "  </tbody>\n",
       "</table>\n",
       "<p>671354 rows × 4 columns</p>\n",
       "</div>"
      ],
      "text/plain": [
       "                genres                user_id  \\\n",
       "670405  Web Publishing                Xyphien   \n",
       "668890  Web Publishing      76561198035718256   \n",
       "671059  Web Publishing  pretentiouswutangratz   \n",
       "668636  Web Publishing                   3197   \n",
       "670953  Web Publishing               minakazu   \n",
       "...                ...                    ...   \n",
       "67189           Action             wugaga0912   \n",
       "67303           Action                xamerx6   \n",
       "67731           Action             zigzagsoft   \n",
       "67813           Action              zyzzchris   \n",
       "67817           Action                 zzonci   \n",
       "\n",
       "                                                 user_url  playtime_forever  \n",
       "670405               http://steamcommunity.com/id/Xyphien          142964.0  \n",
       "668890  http://steamcommunity.com/profiles/76561198035...          115083.0  \n",
       "671059  http://steamcommunity.com/id/pretentiouswutang...          105617.0  \n",
       "668636                  http://steamcommunity.com/id/3197           79237.0  \n",
       "670953              http://steamcommunity.com/id/minakazu           75240.0  \n",
       "...                                                   ...               ...  \n",
       "67189             http://steamcommunity.com/id/wugaga0912               0.0  \n",
       "67303                http://steamcommunity.com/id/xamerx6               0.0  \n",
       "67731             http://steamcommunity.com/id/zigzagsoft               0.0  \n",
       "67813              http://steamcommunity.com/id/zyzzchris               0.0  \n",
       "67817                 http://steamcommunity.com/id/zzonci               0.0  \n",
       "\n",
       "[671354 rows x 4 columns]"
      ]
     },
     "execution_count": 109,
     "metadata": {},
     "output_type": "execute_result"
    }
   ],
   "source": [
    "data = df_f4.groupby(['genres','user_id','user_url'],as_index=False)['playtime_forever'].sum()\n",
    "df_user_genre = pd.DataFrame(data)\n",
    "df_user_genre = df_user_genre.sort_values(by=['genres', 'playtime_forever'],ascending=False)\n",
    "df_user_genre"
   ]
  },
  {
   "cell_type": "code",
   "execution_count": 110,
   "metadata": {},
   "outputs": [],
   "source": [
    "def userforgenre(genre):\n",
    "    '''\n",
    "    Devuelve el TOP 5 de usuarios con más horas jugadas en un género específico.\n",
    "\n",
    "    Argumento:\n",
    "    genre (str): El género de juegos para el que se desea obtener el TOP 5 de usuarios.\n",
    "    \n",
    "    '''\n",
    "\n",
    "    # Filtrar el DataFrame para obtener datos específicos del género\n",
    "    data = df_user_genre[df_user_genre['genres'] == genre]\n",
    "\n",
    "    # Tomar los primeros 5 registros del DataFrame\n",
    "    top5 = data[['user_id', 'user_url', 'playtime_forever']].head(5).reset_index(drop=True)\n",
    "\n",
    "    return  'El TOP 5 de usuarios para el género,', genre, 'es el siguiente', top5                                         "
   ]
  },
  {
   "cell_type": "markdown",
   "metadata": {},
   "source": [
    "**Ejemplo:**"
   ]
  },
  {
   "cell_type": "code",
   "execution_count": 111,
   "metadata": {},
   "outputs": [
    {
     "data": {
      "text/plain": [
       "('El TOP 5 de usuarios para el género,',\n",
       " 'Adventure',\n",
       " 'es el siguiente',\n",
       "         user_id                                   user_url  playtime_forever\n",
       " 0  REBAS_AS_F-T  http://steamcommunity.com/id/REBAS_AS_F-T         2191551.0\n",
       " 1   shinomegami   http://steamcommunity.com/id/shinomegami          767160.0\n",
       " 2   Evilutional   http://steamcommunity.com/id/Evilutional          662103.0\n",
       " 3       Sp3ctre       http://steamcommunity.com/id/Sp3ctre          654378.0\n",
       " 4      tobscene      http://steamcommunity.com/id/tobscene          640783.0)"
      ]
     },
     "execution_count": 111,
     "metadata": {},
     "output_type": "execute_result"
    }
   ],
   "source": [
    "userforgenre('Adventure')"
   ]
  },
  {
   "cell_type": "markdown",
   "metadata": {},
   "source": [
    "## 4.5 Quinta función: *def developer( desarrollador : str )*\n",
    "\n",
    " Cantidad de items y porcentaje de contenido Free por año según empresa desarrolladora."
   ]
  },
  {
   "cell_type": "code",
   "execution_count": 112,
   "metadata": {},
   "outputs": [
    {
     "data": {
      "text/html": [
       "<div>\n",
       "<style scoped>\n",
       "    .dataframe tbody tr th:only-of-type {\n",
       "        vertical-align: middle;\n",
       "    }\n",
       "\n",
       "    .dataframe tbody tr th {\n",
       "        vertical-align: top;\n",
       "    }\n",
       "\n",
       "    .dataframe thead th {\n",
       "        text-align: right;\n",
       "    }\n",
       "</style>\n",
       "<table border=\"1\" class=\"dataframe\">\n",
       "  <thead>\n",
       "    <tr style=\"text-align: right;\">\n",
       "      <th></th>\n",
       "      <th>user_id</th>\n",
       "      <th>items_count</th>\n",
       "      <th>user_url</th>\n",
       "      <th>item_id</th>\n",
       "      <th>playtime_forever</th>\n",
       "      <th>publisher</th>\n",
       "      <th>genres</th>\n",
       "      <th>app_name</th>\n",
       "      <th>title</th>\n",
       "      <th>url</th>\n",
       "      <th>release_date</th>\n",
       "      <th>tags</th>\n",
       "      <th>reviews_url</th>\n",
       "      <th>discount_price</th>\n",
       "      <th>specs</th>\n",
       "      <th>price</th>\n",
       "      <th>early_access</th>\n",
       "      <th>id</th>\n",
       "      <th>metascore</th>\n",
       "      <th>developer</th>\n",
       "    </tr>\n",
       "  </thead>\n",
       "  <tbody>\n",
       "    <tr>\n",
       "      <th>0</th>\n",
       "      <td>76561197970982479</td>\n",
       "      <td>277</td>\n",
       "      <td>http://steamcommunity.com/profiles/76561197970...</td>\n",
       "      <td>10.0</td>\n",
       "      <td>6.0</td>\n",
       "      <td>Valve</td>\n",
       "      <td>[Action]</td>\n",
       "      <td>Counter-Strike</td>\n",
       "      <td>Counter-Strike</td>\n",
       "      <td>http://store.steampowered.com/app/10/CounterSt...</td>\n",
       "      <td>2000-11-01</td>\n",
       "      <td>[Action, FPS, Multiplayer, Shooter, Classic, T...</td>\n",
       "      <td>http://steamcommunity.com/app/10/reviews/?brow...</td>\n",
       "      <td>NaN</td>\n",
       "      <td>[Multi-player, Valve Anti-Cheat enabled]</td>\n",
       "      <td>9.99</td>\n",
       "      <td>0.0</td>\n",
       "      <td>10.0</td>\n",
       "      <td>88</td>\n",
       "      <td>Valve</td>\n",
       "    </tr>\n",
       "    <tr>\n",
       "      <th>1</th>\n",
       "      <td>76561197970982479</td>\n",
       "      <td>277</td>\n",
       "      <td>http://steamcommunity.com/profiles/76561197970...</td>\n",
       "      <td>20.0</td>\n",
       "      <td>0.0</td>\n",
       "      <td>Valve</td>\n",
       "      <td>[Action]</td>\n",
       "      <td>Team Fortress Classic</td>\n",
       "      <td>Team Fortress Classic</td>\n",
       "      <td>http://store.steampowered.com/app/20/Team_Fort...</td>\n",
       "      <td>1999-04-01</td>\n",
       "      <td>[Action, FPS, Multiplayer, Classic, Shooter, C...</td>\n",
       "      <td>http://steamcommunity.com/app/20/reviews/?brow...</td>\n",
       "      <td>NaN</td>\n",
       "      <td>[Multi-player, Valve Anti-Cheat enabled]</td>\n",
       "      <td>4.99</td>\n",
       "      <td>0.0</td>\n",
       "      <td>20.0</td>\n",
       "      <td>None</td>\n",
       "      <td>Valve</td>\n",
       "    </tr>\n",
       "  </tbody>\n",
       "</table>\n",
       "</div>"
      ],
      "text/plain": [
       "             user_id  items_count  \\\n",
       "0  76561197970982479          277   \n",
       "1  76561197970982479          277   \n",
       "\n",
       "                                            user_url  item_id  \\\n",
       "0  http://steamcommunity.com/profiles/76561197970...     10.0   \n",
       "1  http://steamcommunity.com/profiles/76561197970...     20.0   \n",
       "\n",
       "   playtime_forever publisher    genres               app_name  \\\n",
       "0               6.0     Valve  [Action]         Counter-Strike   \n",
       "1               0.0     Valve  [Action]  Team Fortress Classic   \n",
       "\n",
       "                   title                                                url  \\\n",
       "0         Counter-Strike  http://store.steampowered.com/app/10/CounterSt...   \n",
       "1  Team Fortress Classic  http://store.steampowered.com/app/20/Team_Fort...   \n",
       "\n",
       "  release_date                                               tags  \\\n",
       "0   2000-11-01  [Action, FPS, Multiplayer, Shooter, Classic, T...   \n",
       "1   1999-04-01  [Action, FPS, Multiplayer, Classic, Shooter, C...   \n",
       "\n",
       "                                         reviews_url  discount_price  \\\n",
       "0  http://steamcommunity.com/app/10/reviews/?brow...             NaN   \n",
       "1  http://steamcommunity.com/app/20/reviews/?brow...             NaN   \n",
       "\n",
       "                                      specs  price  early_access    id  \\\n",
       "0  [Multi-player, Valve Anti-Cheat enabled]   9.99           0.0  10.0   \n",
       "1  [Multi-player, Valve Anti-Cheat enabled]   4.99           0.0  20.0   \n",
       "\n",
       "  metascore developer  \n",
       "0        88     Valve  \n",
       "1      None     Valve  "
      ]
     },
     "execution_count": 112,
     "metadata": {},
     "output_type": "execute_result"
    }
   ],
   "source": [
    "df_items_games.head(2)"
   ]
  },
  {
   "cell_type": "code",
   "execution_count": 113,
   "metadata": {},
   "outputs": [
    {
     "name": "stderr",
     "output_type": "stream",
     "text": [
      "/var/folders/8z/m3nmk2f90k7cx5y5spf813240000gn/T/ipykernel_8661/1730018949.py:3: SettingWithCopyWarning: \n",
      "A value is trying to be set on a copy of a slice from a DataFrame\n",
      "\n",
      "See the caveats in the documentation: https://pandas.pydata.org/pandas-docs/stable/user_guide/indexing.html#returning-a-view-versus-a-copy\n",
      "  df_f5_prueba.dropna(inplace=True)\n",
      "/var/folders/8z/m3nmk2f90k7cx5y5spf813240000gn/T/ipykernel_8661/1730018949.py:4: SettingWithCopyWarning: \n",
      "A value is trying to be set on a copy of a slice from a DataFrame\n",
      "\n",
      "See the caveats in the documentation: https://pandas.pydata.org/pandas-docs/stable/user_guide/indexing.html#returning-a-view-versus-a-copy\n",
      "  df_f5_prueba.drop_duplicates(inplace=True)\n"
     ]
    }
   ],
   "source": [
    "df_f5_prueba = df_items_games[['item_id','developer','price','release_date']]\n",
    "df_f5_prueba.head()\n",
    "df_f5_prueba.dropna(inplace=True)\n",
    "df_f5_prueba.drop_duplicates(inplace=True)"
   ]
  },
  {
   "cell_type": "markdown",
   "metadata": {},
   "source": [
    "Creamos una copia del dataframe creado anteriormente y luego convertimos la columna 'release_date' a datetime."
   ]
  },
  {
   "cell_type": "code",
   "execution_count": 114,
   "metadata": {},
   "outputs": [],
   "source": [
    "df_f5 = df_f5_prueba.copy()\n",
    "df_f5['release_date'] = pd.to_datetime(df_f5['release_date'])"
   ]
  },
  {
   "cell_type": "code",
   "execution_count": 115,
   "metadata": {},
   "outputs": [
    {
     "data": {
      "text/html": [
       "<div>\n",
       "<style scoped>\n",
       "    .dataframe tbody tr th:only-of-type {\n",
       "        vertical-align: middle;\n",
       "    }\n",
       "\n",
       "    .dataframe tbody tr th {\n",
       "        vertical-align: top;\n",
       "    }\n",
       "\n",
       "    .dataframe thead th {\n",
       "        text-align: right;\n",
       "    }\n",
       "</style>\n",
       "<table border=\"1\" class=\"dataframe\">\n",
       "  <thead>\n",
       "    <tr style=\"text-align: right;\">\n",
       "      <th></th>\n",
       "      <th>item_id</th>\n",
       "      <th>developer</th>\n",
       "      <th>price</th>\n",
       "      <th>release_date</th>\n",
       "    </tr>\n",
       "  </thead>\n",
       "  <tbody>\n",
       "    <tr>\n",
       "      <th>0</th>\n",
       "      <td>10.0</td>\n",
       "      <td>Valve</td>\n",
       "      <td>9.99</td>\n",
       "      <td>2000-11-01</td>\n",
       "    </tr>\n",
       "    <tr>\n",
       "      <th>1</th>\n",
       "      <td>20.0</td>\n",
       "      <td>Valve</td>\n",
       "      <td>4.99</td>\n",
       "      <td>1999-04-01</td>\n",
       "    </tr>\n",
       "    <tr>\n",
       "      <th>2</th>\n",
       "      <td>30.0</td>\n",
       "      <td>Valve</td>\n",
       "      <td>4.99</td>\n",
       "      <td>2003-05-01</td>\n",
       "    </tr>\n",
       "    <tr>\n",
       "      <th>3</th>\n",
       "      <td>40.0</td>\n",
       "      <td>Valve</td>\n",
       "      <td>4.99</td>\n",
       "      <td>2001-06-01</td>\n",
       "    </tr>\n",
       "    <tr>\n",
       "      <th>4</th>\n",
       "      <td>50.0</td>\n",
       "      <td>Gearbox Software</td>\n",
       "      <td>4.99</td>\n",
       "      <td>1999-11-01</td>\n",
       "    </tr>\n",
       "    <tr>\n",
       "      <th>...</th>\n",
       "      <td>...</td>\n",
       "      <td>...</td>\n",
       "      <td>...</td>\n",
       "      <td>...</td>\n",
       "    </tr>\n",
       "    <tr>\n",
       "      <th>4521824</th>\n",
       "      <td>456780.0</td>\n",
       "      <td>Milestone S.r.l.</td>\n",
       "      <td>9.99</td>\n",
       "      <td>2016-06-09</td>\n",
       "    </tr>\n",
       "    <tr>\n",
       "      <th>4718218</th>\n",
       "      <td>444770.0</td>\n",
       "      <td>Silicon Jelly</td>\n",
       "      <td>7.99</td>\n",
       "      <td>2016-03-22</td>\n",
       "    </tr>\n",
       "    <tr>\n",
       "      <th>4854161</th>\n",
       "      <td>375450.0</td>\n",
       "      <td>KOEI TECMO GAMES CO., LTD.</td>\n",
       "      <td>59.99</td>\n",
       "      <td>2016-03-23</td>\n",
       "    </tr>\n",
       "    <tr>\n",
       "      <th>5045931</th>\n",
       "      <td>354280.0</td>\n",
       "      <td>CashcowGames</td>\n",
       "      <td>5.99</td>\n",
       "      <td>2016-02-23</td>\n",
       "    </tr>\n",
       "    <tr>\n",
       "      <th>5060337</th>\n",
       "      <td>433920.0</td>\n",
       "      <td>Amaranth Games, LLC</td>\n",
       "      <td>14.99</td>\n",
       "      <td>2016-02-01</td>\n",
       "    </tr>\n",
       "  </tbody>\n",
       "</table>\n",
       "<p>8456 rows × 4 columns</p>\n",
       "</div>"
      ],
      "text/plain": [
       "          item_id                   developer  price release_date\n",
       "0            10.0                       Valve   9.99   2000-11-01\n",
       "1            20.0                       Valve   4.99   1999-04-01\n",
       "2            30.0                       Valve   4.99   2003-05-01\n",
       "3            40.0                       Valve   4.99   2001-06-01\n",
       "4            50.0            Gearbox Software   4.99   1999-11-01\n",
       "...           ...                         ...    ...          ...\n",
       "4521824  456780.0            Milestone S.r.l.   9.99   2016-06-09\n",
       "4718218  444770.0               Silicon Jelly   7.99   2016-03-22\n",
       "4854161  375450.0  KOEI TECMO GAMES CO., LTD.  59.99   2016-03-23\n",
       "5045931  354280.0                CashcowGames   5.99   2016-02-23\n",
       "5060337  433920.0         Amaranth Games, LLC  14.99   2016-02-01\n",
       "\n",
       "[8456 rows x 4 columns]"
      ]
     },
     "execution_count": 115,
     "metadata": {},
     "output_type": "execute_result"
    }
   ],
   "source": [
    "df_f5"
   ]
  },
  {
   "cell_type": "code",
   "execution_count": 116,
   "metadata": {},
   "outputs": [],
   "source": [
    "def developer(desarrollador):\n",
    "    \n",
    "    '''\n",
    "    Devuelve cantidad de items y porcentaje de contenido Free por año según empresa desarrolladora.\n",
    "\n",
    "    Argumento:\n",
    "    desarrolador (str): El developer del juego (item) para el cual se desea obtener los valores mencionados. \n",
    "    \n",
    "    '''\n",
    "    \n",
    "    # Filtramos el DataFrame por el desarrollador dado\n",
    "    developer_df = df_f5[df_f5['developer'] == desarrollador]\n",
    "    \n",
    "    # Calculamos la cantidad de ítems gratuitos (Free) por año para el desarrollador\n",
    "    items_free_por_anio = developer_df[developer_df['price'] == 0].groupby(developer_df['release_date'].dt.year)['item_id'].nunique()\n",
    "    \n",
    "    # Calculamos la cantidad total de ítems por año para el desarrollador\n",
    "    items_totales_por_anio = developer_df.groupby(developer_df['release_date'].dt.year)['item_id'].nunique()\n",
    "    \n",
    "    # Rellenamos los años faltantes en el DataFrame de items_free_por_anio con ceros para que no arroje error el dataframe\n",
    "    for year in items_totales_por_anio.index:\n",
    "        if year not in items_free_por_anio.index:\n",
    "            items_free_por_anio[year] = 0\n",
    "    \n",
    "    # Ordenamos el DataFrame por año\n",
    "    items_free_por_anio = items_free_por_anio.sort_index()\n",
    "    \n",
    "    # Calculamos el porcentaje de contenido Free por año\n",
    "    porcentaje_free = (items_free_por_anio / items_totales_por_anio) * 100\n",
    "    \n",
    "    \n",
    "    resultados = pd.DataFrame({\n",
    "        'Año': items_free_por_anio.index,\n",
    "        'Cantidad de Items': items_totales_por_anio.values,\n",
    "        'Porcentaje Free': porcentaje_free.values\n",
    "    })\n",
    "    \n",
    "    return resultados.to_dict(orient = 'records')"
   ]
  },
  {
   "cell_type": "markdown",
   "metadata": {},
   "source": [
    "**Ejemplo:**"
   ]
  },
  {
   "cell_type": "code",
   "execution_count": 117,
   "metadata": {},
   "outputs": [
    {
     "data": {
      "text/plain": [
       "[{'Año': 1998, 'Cantidad de Items': 1, 'Porcentaje Free': 0.0},\n",
       " {'Año': 1999, 'Cantidad de Items': 1, 'Porcentaje Free': 0.0},\n",
       " {'Año': 2000, 'Cantidad de Items': 2, 'Porcentaje Free': 0.0},\n",
       " {'Año': 2001, 'Cantidad de Items': 1, 'Porcentaje Free': 0.0},\n",
       " {'Año': 2003, 'Cantidad de Items': 1, 'Porcentaje Free': 0.0},\n",
       " {'Año': 2004, 'Cantidad de Items': 5, 'Porcentaje Free': 0.0},\n",
       " {'Año': 2006, 'Cantidad de Items': 2, 'Porcentaje Free': 0.0},\n",
       " {'Año': 2007, 'Cantidad de Items': 2, 'Porcentaje Free': 0.0},\n",
       " {'Año': 2008, 'Cantidad de Items': 1, 'Porcentaje Free': 0.0},\n",
       " {'Año': 2009, 'Cantidad de Items': 1, 'Porcentaje Free': 0.0},\n",
       " {'Año': 2010, 'Cantidad de Items': 1, 'Porcentaje Free': 0.0},\n",
       " {'Año': 2011, 'Cantidad de Items': 1, 'Porcentaje Free': 0.0},\n",
       " {'Año': 2012, 'Cantidad de Items': 1, 'Porcentaje Free': 0.0}]"
      ]
     },
     "execution_count": 117,
     "metadata": {},
     "output_type": "execute_result"
    }
   ],
   "source": [
    "developer('Valve')"
   ]
  },
  {
   "cell_type": "markdown",
   "metadata": {},
   "source": [
    "## 4.6 Sexta función: *def sentiment_analysis( año : int )*\n",
    "\n",
    " Según el año de lanzamiento, se devuelve una lista con la cantidad de registros de reseñas de usuarios que se encuentren categorizados con un análisis de sentimiento."
   ]
  },
  {
   "cell_type": "markdown",
   "metadata": {},
   "source": [
    "El primer paso será crear un data frame donde tengamos las columnas'sentimiento' y 'posted'. Para ello unimos el dataframe creado en el punto 3 de este proyecto llamado df_sentimiento con el df_items_full. "
   ]
  },
  {
   "cell_type": "code",
   "execution_count": 118,
   "metadata": {},
   "outputs": [],
   "source": [
    "df_f6 = df_sentimiento.merge(df_items_full, on='user_id', how='inner')"
   ]
  },
  {
   "cell_type": "code",
   "execution_count": 119,
   "metadata": {},
   "outputs": [],
   "source": [
    "df_f6.drop(columns=['item_id_y','playtime_forever'],inplace=True)"
   ]
  },
  {
   "cell_type": "code",
   "execution_count": 120,
   "metadata": {},
   "outputs": [],
   "source": [
    "df_f6.drop_duplicates(inplace=True)"
   ]
  },
  {
   "cell_type": "markdown",
   "metadata": {},
   "source": [
    "Luego, nos quedamos con las dos columnas que nos van a servir para realizar la función. "
   ]
  },
  {
   "cell_type": "code",
   "execution_count": 121,
   "metadata": {},
   "outputs": [],
   "source": [
    "df_f6 = df_f6[['sentimiento','posted']]"
   ]
  },
  {
   "cell_type": "markdown",
   "metadata": {},
   "source": [
    "El segundo paso es normalizar la columna 'posted' donde tenemos la fecha en formato texto. \n",
    "\n",
    "Eliminamos la palabra 'Posted' y convertimos la columna a tipo de dato **datetime**"
   ]
  },
  {
   "cell_type": "code",
   "execution_count": 122,
   "metadata": {},
   "outputs": [],
   "source": [
    "# Eliminamos la palabra 'Posted:'\n",
    "df_f6['posted']=df_f6['posted'].replace({'Posted':''},regex=True)\n",
    "\n",
    "# Convertimos la columna a datetime.\n",
    "df_f6['posted'] = pd.to_datetime(df_f6['posted'],errors='coerce')\n",
    "\n",
    "# Eliminamos los valores con error (NaT), por ejemplo, fechas que no tenían el año.\n",
    "df_f6.dropna(inplace=True)"
   ]
  },
  {
   "cell_type": "code",
   "execution_count": 123,
   "metadata": {},
   "outputs": [],
   "source": [
    "def obtener_anio(fecha):\n",
    "    return fecha.year\n",
    "\n",
    "# Aplica la función para crear la nueva columna 'ando'\n",
    "df_f6['anio'] = df_f6['posted'].apply(obtener_anio)\n"
   ]
  },
  {
   "cell_type": "code",
   "execution_count": 124,
   "metadata": {},
   "outputs": [],
   "source": [
    "df_f6['anio'] = pd.to_datetime(df_f6['anio'],errors='coerce')"
   ]
  },
  {
   "cell_type": "code",
   "execution_count": 125,
   "metadata": {},
   "outputs": [],
   "source": [
    "df_f6['anio'] = df_f6['anio'].astype(int)"
   ]
  },
  {
   "cell_type": "code",
   "execution_count": 126,
   "metadata": {},
   "outputs": [],
   "source": [
    "def sentiment_analysis(anio):\n",
    "    ''' \n",
    "    Devuelve un DataFrame con la cantidad de registros de reseñas de usuarios categorizados por análisis de sentimiento para un año específico.\n",
    "    \n",
    "    Argumentos:\n",
    "    anio (int): Año en el cual queremos obtener el análisis de sentimiento.\n",
    "    df_f6 (DataFrame): El DataFrame que contiene los datos de reseñas y sentimientos.\n",
    "   \n",
    "    '''\n",
    "\n",
    "    # Filtramos el DataFrame según el año definido como argumento\n",
    "    df_filtered = df_f6[df_f6['posted'].dt.year == anio]\n",
    "    \n",
    "    # Utilizamos value_counts() para contar los valores únicos en la columna 'sentimiento'\n",
    "    positivos = 0\n",
    "    neutros = 0\n",
    "    negativos = 0\n",
    "\n",
    "    # Obtenemos la cantidad de valores positivos, negativos y neutros\n",
    "    for i in df_filtered['sentimiento']:\n",
    "        if i == 2:\n",
    "            positivos += 1\n",
    "        elif i == 1:\n",
    "            neutros += 1\n",
    "        elif i == 0:\n",
    "            negativos += 1 \n",
    "\n",
    "    # Crear un DataFrame con los resultados\n",
    "    resultado = pd.DataFrame({\n",
    "        'Positivos': [positivos],\n",
    "        'Neutros': [neutros],\n",
    "        'Negativos': [negativos]\n",
    "    })\n",
    "\n",
    "    return resultado"
   ]
  },
  {
   "cell_type": "markdown",
   "metadata": {},
   "source": [
    "**Ejemplo:**"
   ]
  },
  {
   "cell_type": "code",
   "execution_count": 127,
   "metadata": {},
   "outputs": [
    {
     "data": {
      "text/html": [
       "<div>\n",
       "<style scoped>\n",
       "    .dataframe tbody tr th:only-of-type {\n",
       "        vertical-align: middle;\n",
       "    }\n",
       "\n",
       "    .dataframe tbody tr th {\n",
       "        vertical-align: top;\n",
       "    }\n",
       "\n",
       "    .dataframe thead th {\n",
       "        text-align: right;\n",
       "    }\n",
       "</style>\n",
       "<table border=\"1\" class=\"dataframe\">\n",
       "  <thead>\n",
       "    <tr style=\"text-align: right;\">\n",
       "      <th></th>\n",
       "      <th>Positivos</th>\n",
       "      <th>Neutros</th>\n",
       "      <th>Negativos</th>\n",
       "    </tr>\n",
       "  </thead>\n",
       "  <tbody>\n",
       "    <tr>\n",
       "      <th>0</th>\n",
       "      <td>3105</td>\n",
       "      <td>2293</td>\n",
       "      <td>691</td>\n",
       "    </tr>\n",
       "  </tbody>\n",
       "</table>\n",
       "</div>"
      ],
      "text/plain": [
       "   Positivos  Neutros  Negativos\n",
       "0       3105     2293        691"
      ]
     },
     "execution_count": 127,
     "metadata": {},
     "output_type": "execute_result"
    }
   ],
   "source": [
    "sentiment_analysis(2013)"
   ]
  },
  {
   "cell_type": "markdown",
   "metadata": {},
   "source": [
    "## 4.7 Creación de archivos:\n",
    "\n",
    " Crearemos archivos en formato parquet para cada uno de los data frames utilizados en las funciones"
   ]
  },
  {
   "cell_type": "code",
   "execution_count": 128,
   "metadata": {},
   "outputs": [],
   "source": [
    "df_f1.to_parquet('df_f1.parquet')\n",
    "df_f1_2.to_parquet('df_f1_2.parquet')\n",
    "df_f1_3.to_parquet('df_d1_3.parquet')\n",
    "df_f2.to_parquet('df_f2.parquet')\n",
    "df_ranking.to_parquet('df_ranking.parquet')\n",
    "df_user_genre.to_parquet('df_user_genre.parquet')\n",
    "df_f5.to_parquet('df_f5.parquet')\n",
    "df_f6.to_parquet('df_f6.parquet')\n"
   ]
  },
  {
   "cell_type": "markdown",
   "metadata": {},
   "source": [
    "# 5. **Analisis exploratorio - EDA**\n",
    "***"
   ]
  },
  {
   "cell_type": "markdown",
   "metadata": {},
   "source": [
    "En este apartado abordaremos el análisis exploratorio de el ***dataset que va a servir como base para la creación del modelo de recomendación***, último paso del proyecto. \n",
    "\n",
    "El dataset será el obtenido luego del proceso de limpieza de datos o ETL, realizado en el punto 2 de este notebook. \n",
    "\n",
    "El dataset es:\n",
    "\n",
    "- **df_games_full**\n"
   ]
  },
  {
   "cell_type": "markdown",
   "metadata": {},
   "source": [
    "Para este apartado utilizaremos las siguientes librerias"
   ]
  },
  {
   "cell_type": "code",
   "execution_count": 129,
   "metadata": {},
   "outputs": [],
   "source": [
    "import matplotlib.pyplot as plt\n",
    "import seaborn as sns"
   ]
  },
  {
   "cell_type": "markdown",
   "metadata": {},
   "source": [
    "## 5.1 Exploramos el DataFrame"
   ]
  },
  {
   "cell_type": "markdown",
   "metadata": {},
   "source": [
    "Observamos las primeras filas."
   ]
  },
  {
   "cell_type": "code",
   "execution_count": 130,
   "metadata": {},
   "outputs": [
    {
     "data": {
      "text/html": [
       "<div>\n",
       "<style scoped>\n",
       "    .dataframe tbody tr th:only-of-type {\n",
       "        vertical-align: middle;\n",
       "    }\n",
       "\n",
       "    .dataframe tbody tr th {\n",
       "        vertical-align: top;\n",
       "    }\n",
       "\n",
       "    .dataframe thead th {\n",
       "        text-align: right;\n",
       "    }\n",
       "</style>\n",
       "<table border=\"1\" class=\"dataframe\">\n",
       "  <thead>\n",
       "    <tr style=\"text-align: right;\">\n",
       "      <th></th>\n",
       "      <th>publisher</th>\n",
       "      <th>genres</th>\n",
       "      <th>app_name</th>\n",
       "      <th>title</th>\n",
       "      <th>url</th>\n",
       "      <th>release_date</th>\n",
       "      <th>tags</th>\n",
       "      <th>reviews_url</th>\n",
       "      <th>discount_price</th>\n",
       "      <th>specs</th>\n",
       "      <th>price</th>\n",
       "      <th>early_access</th>\n",
       "      <th>id</th>\n",
       "      <th>metascore</th>\n",
       "      <th>developer</th>\n",
       "    </tr>\n",
       "  </thead>\n",
       "  <tbody>\n",
       "    <tr>\n",
       "      <th>88310</th>\n",
       "      <td>Kotoshiro</td>\n",
       "      <td>[Action, Casual, Indie, Simulation, Strategy]</td>\n",
       "      <td>Lost Summoner Kitty</td>\n",
       "      <td>Lost Summoner Kitty</td>\n",
       "      <td>http://store.steampowered.com/app/761140/Lost_...</td>\n",
       "      <td>2018-01-04</td>\n",
       "      <td>[Strategy, Action, Indie, Casual, Simulation]</td>\n",
       "      <td>http://steamcommunity.com/app/761140/reviews/?...</td>\n",
       "      <td>4.49</td>\n",
       "      <td>[Single-player]</td>\n",
       "      <td>4.99</td>\n",
       "      <td>0.0</td>\n",
       "      <td>761140.0</td>\n",
       "      <td>None</td>\n",
       "      <td>Kotoshiro</td>\n",
       "    </tr>\n",
       "    <tr>\n",
       "      <th>88311</th>\n",
       "      <td>Making Fun, Inc.</td>\n",
       "      <td>[Free to Play, Indie, RPG, Strategy]</td>\n",
       "      <td>Ironbound</td>\n",
       "      <td>Ironbound</td>\n",
       "      <td>http://store.steampowered.com/app/643980/Ironb...</td>\n",
       "      <td>2018-01-04</td>\n",
       "      <td>[Free to Play, Strategy, Indie, RPG, Card Game...</td>\n",
       "      <td>http://steamcommunity.com/app/643980/reviews/?...</td>\n",
       "      <td>NaN</td>\n",
       "      <td>[Single-player, Multi-player, Online Multi-Pla...</td>\n",
       "      <td>0.00</td>\n",
       "      <td>0.0</td>\n",
       "      <td>643980.0</td>\n",
       "      <td>None</td>\n",
       "      <td>Secret Level SRL</td>\n",
       "    </tr>\n",
       "    <tr>\n",
       "      <th>88312</th>\n",
       "      <td>Poolians.com</td>\n",
       "      <td>[Casual, Free to Play, Indie, Simulation, Sports]</td>\n",
       "      <td>Real Pool 3D - Poolians</td>\n",
       "      <td>Real Pool 3D - Poolians</td>\n",
       "      <td>http://store.steampowered.com/app/670290/Real_...</td>\n",
       "      <td>2017-07-24</td>\n",
       "      <td>[Free to Play, Simulation, Sports, Casual, Ind...</td>\n",
       "      <td>http://steamcommunity.com/app/670290/reviews/?...</td>\n",
       "      <td>NaN</td>\n",
       "      <td>[Single-player, Multi-player, Online Multi-Pla...</td>\n",
       "      <td>0.00</td>\n",
       "      <td>0.0</td>\n",
       "      <td>670290.0</td>\n",
       "      <td>None</td>\n",
       "      <td>Poolians.com</td>\n",
       "    </tr>\n",
       "  </tbody>\n",
       "</table>\n",
       "</div>"
      ],
      "text/plain": [
       "              publisher                                             genres  \\\n",
       "88310         Kotoshiro      [Action, Casual, Indie, Simulation, Strategy]   \n",
       "88311  Making Fun, Inc.               [Free to Play, Indie, RPG, Strategy]   \n",
       "88312      Poolians.com  [Casual, Free to Play, Indie, Simulation, Sports]   \n",
       "\n",
       "                      app_name                    title  \\\n",
       "88310      Lost Summoner Kitty      Lost Summoner Kitty   \n",
       "88311                Ironbound                Ironbound   \n",
       "88312  Real Pool 3D - Poolians  Real Pool 3D - Poolians   \n",
       "\n",
       "                                                     url release_date  \\\n",
       "88310  http://store.steampowered.com/app/761140/Lost_...   2018-01-04   \n",
       "88311  http://store.steampowered.com/app/643980/Ironb...   2018-01-04   \n",
       "88312  http://store.steampowered.com/app/670290/Real_...   2017-07-24   \n",
       "\n",
       "                                                    tags  \\\n",
       "88310      [Strategy, Action, Indie, Casual, Simulation]   \n",
       "88311  [Free to Play, Strategy, Indie, RPG, Card Game...   \n",
       "88312  [Free to Play, Simulation, Sports, Casual, Ind...   \n",
       "\n",
       "                                             reviews_url  discount_price  \\\n",
       "88310  http://steamcommunity.com/app/761140/reviews/?...            4.49   \n",
       "88311  http://steamcommunity.com/app/643980/reviews/?...             NaN   \n",
       "88312  http://steamcommunity.com/app/670290/reviews/?...             NaN   \n",
       "\n",
       "                                                   specs  price  early_access  \\\n",
       "88310                                    [Single-player]   4.99           0.0   \n",
       "88311  [Single-player, Multi-player, Online Multi-Pla...   0.00           0.0   \n",
       "88312  [Single-player, Multi-player, Online Multi-Pla...   0.00           0.0   \n",
       "\n",
       "             id metascore         developer  \n",
       "88310  761140.0      None         Kotoshiro  \n",
       "88311  643980.0      None  Secret Level SRL  \n",
       "88312  670290.0      None      Poolians.com  "
      ]
     },
     "execution_count": 130,
     "metadata": {},
     "output_type": "execute_result"
    }
   ],
   "source": [
    "df_games_full.head(3)"
   ]
  },
  {
   "cell_type": "markdown",
   "metadata": {},
   "source": [
    "Observamos la cantidad de filas y columnas."
   ]
  },
  {
   "cell_type": "code",
   "execution_count": 131,
   "metadata": {},
   "outputs": [
    {
     "data": {
      "text/plain": [
       "(32135, 15)"
      ]
     },
     "execution_count": 131,
     "metadata": {},
     "output_type": "execute_result"
    }
   ],
   "source": [
    "df_games_full.shape"
   ]
  },
  {
   "cell_type": "markdown",
   "metadata": {},
   "source": [
    "Luego, obtenemos información de sus columnas y tipos de datos."
   ]
  },
  {
   "cell_type": "code",
   "execution_count": 132,
   "metadata": {},
   "outputs": [
    {
     "name": "stdout",
     "output_type": "stream",
     "text": [
      "<class 'pandas.core.frame.DataFrame'>\n",
      "Index: 32135 entries, 88310 to 120444\n",
      "Data columns (total 15 columns):\n",
      " #   Column          Non-Null Count  Dtype         \n",
      "---  ------          --------------  -----         \n",
      " 0   publisher       24083 non-null  object        \n",
      " 1   genres          28852 non-null  object        \n",
      " 2   app_name        32133 non-null  object        \n",
      " 3   title           30085 non-null  object        \n",
      " 4   url             32135 non-null  object        \n",
      " 5   release_date    29783 non-null  datetime64[ns]\n",
      " 6   tags            31972 non-null  object        \n",
      " 7   reviews_url     32133 non-null  object        \n",
      " 8   discount_price  225 non-null    float64       \n",
      " 9   specs           31465 non-null  object        \n",
      " 10  price           30758 non-null  float64       \n",
      " 11  early_access    32135 non-null  float64       \n",
      " 12  id              32133 non-null  float64       \n",
      " 13  metascore       2677 non-null   object        \n",
      " 14  developer       28836 non-null  object        \n",
      "dtypes: datetime64[ns](1), float64(4), object(10)\n",
      "memory usage: 3.9+ MB\n"
     ]
    }
   ],
   "source": [
    "df_games_full.info()"
   ]
  },
  {
   "cell_type": "markdown",
   "metadata": {},
   "source": []
  },
  {
   "cell_type": "code",
   "execution_count": null,
   "metadata": {},
   "outputs": [],
   "source": []
  },
  {
   "cell_type": "markdown",
   "metadata": {},
   "source": [
    "Obtenemos estadisticas de la columna **'price'**, la cual refiere a los precios de los juegos en la plataforma."
   ]
  },
  {
   "cell_type": "code",
   "execution_count": 133,
   "metadata": {},
   "outputs": [
    {
     "data": {
      "text/plain": [
       "count    30758.000000\n",
       "mean         8.899302\n",
       "std         16.387036\n",
       "min          0.000000\n",
       "25%          2.990000\n",
       "50%          4.990000\n",
       "75%          9.990000\n",
       "max        995.000000\n",
       "Name: price, dtype: float64"
      ]
     },
     "execution_count": 133,
     "metadata": {},
     "output_type": "execute_result"
    }
   ],
   "source": [
    "df_games_full['price'].describe()\n"
   ]
  },
  {
   "cell_type": "markdown",
   "metadata": {},
   "source": [
    "Observamos los valores faltantes en las columnas del DataFrame."
   ]
  },
  {
   "cell_type": "code",
   "execution_count": 134,
   "metadata": {},
   "outputs": [
    {
     "data": {
      "text/plain": [
       "publisher          8052\n",
       "genres             3283\n",
       "app_name              2\n",
       "title              2050\n",
       "url                   0\n",
       "release_date       2352\n",
       "tags                163\n",
       "reviews_url           2\n",
       "discount_price    31910\n",
       "specs               670\n",
       "price              1377\n",
       "early_access          0\n",
       "id                    2\n",
       "metascore         29458\n",
       "developer          3299\n",
       "dtype: int64"
      ]
     },
     "execution_count": 134,
     "metadata": {},
     "output_type": "execute_result"
    }
   ],
   "source": [
    "df_games_full.isnull().sum()"
   ]
  },
  {
   "cell_type": "markdown",
   "metadata": {},
   "source": [
    "## 5.2 Tratamos los datos faltantes"
   ]
  },
  {
   "cell_type": "markdown",
   "metadata": {},
   "source": [
    "Podemos observar que las columnas 'discount_price' y 'metascore' poseen casi el 100% de datos faltantes. Creemos que no tiene sentido imputar valores ya que no aportaria valor al modelo y hasta podría generar algún tipo de sesgo. Por lo tanto eliminamos las columnas. "
   ]
  },
  {
   "cell_type": "code",
   "execution_count": 135,
   "metadata": {},
   "outputs": [],
   "source": [
    "df_games_full.drop(columns=['discount_price', 'metascore'], axis=1, inplace=True)"
   ]
  },
  {
   "cell_type": "markdown",
   "metadata": {},
   "source": [
    "Verificamos que las columnas han sido eliminadas."
   ]
  },
  {
   "cell_type": "code",
   "execution_count": 136,
   "metadata": {},
   "outputs": [
    {
     "data": {
      "text/plain": [
       "Index(['publisher', 'genres', 'app_name', 'title', 'url', 'release_date',\n",
       "       'tags', 'reviews_url', 'specs', 'price', 'early_access', 'id',\n",
       "       'developer'],\n",
       "      dtype='object')"
      ]
     },
     "execution_count": 136,
     "metadata": {},
     "output_type": "execute_result"
    }
   ],
   "source": [
    "df_games_full.columns"
   ]
  },
  {
   "cell_type": "markdown",
   "metadata": {},
   "source": [
    "# 6. **Modelamiento**\n",
    "***"
   ]
  },
  {
   "cell_type": "markdown",
   "metadata": {},
   "source": [
    "Para el modelamiento utilizaremos la siguiente librería, la cual contiene la herramienta 'Similitud de Coseno'. "
   ]
  },
  {
   "cell_type": "code",
   "execution_count": 137,
   "metadata": {},
   "outputs": [],
   "source": [
    "from sklearn.metrics.pairwise import cosine_similarity"
   ]
  },
  {
   "cell_type": "markdown",
   "metadata": {},
   "source": [
    "Esto nos permite identificar en que medida se parece una variable con otra, tomando valores de similitud entre -1 y 1, siendo 1 una similud muy alta, cero muy baja y -1 totalmente opuesta. "
   ]
  },
  {
   "cell_type": "markdown",
   "metadata": {},
   "source": [
    "Para lograr esto, solo utilizaremos tres columnas del DataFrame. \n",
    "\n",
    "Estas serán: **'app_name', 'id'** y **'genre'**"
   ]
  },
  {
   "cell_type": "code",
   "execution_count": 138,
   "metadata": {},
   "outputs": [],
   "source": [
    "df_modelo = df_games_full[['app_name', 'id','genres']].copy()"
   ]
  },
  {
   "cell_type": "markdown",
   "metadata": {},
   "source": [
    "Buscamos valores nulos y si existen, los eliminamos. "
   ]
  },
  {
   "cell_type": "code",
   "execution_count": 139,
   "metadata": {},
   "outputs": [
    {
     "name": "stdout",
     "output_type": "stream",
     "text": [
      "<class 'pandas.core.frame.DataFrame'>\n",
      "Index: 32135 entries, 88310 to 120444\n",
      "Data columns (total 3 columns):\n",
      " #   Column    Non-Null Count  Dtype  \n",
      "---  ------    --------------  -----  \n",
      " 0   app_name  32133 non-null  object \n",
      " 1   id        32133 non-null  float64\n",
      " 2   genres    28852 non-null  object \n",
      "dtypes: float64(1), object(2)\n",
      "memory usage: 1004.2+ KB\n"
     ]
    }
   ],
   "source": [
    "df_modelo.info()"
   ]
  },
  {
   "cell_type": "code",
   "execution_count": 140,
   "metadata": {},
   "outputs": [],
   "source": [
    "df_modelo.dropna(inplace=True)"
   ]
  },
  {
   "cell_type": "code",
   "execution_count": 141,
   "metadata": {},
   "outputs": [
    {
     "name": "stdout",
     "output_type": "stream",
     "text": [
      "<class 'pandas.core.frame.DataFrame'>\n",
      "Index: 28850 entries, 88310 to 120443\n",
      "Data columns (total 3 columns):\n",
      " #   Column    Non-Null Count  Dtype  \n",
      "---  ------    --------------  -----  \n",
      " 0   app_name  28850 non-null  object \n",
      " 1   id        28850 non-null  float64\n",
      " 2   genres    28850 non-null  object \n",
      "dtypes: float64(1), object(2)\n",
      "memory usage: 901.6+ KB\n"
     ]
    }
   ],
   "source": [
    "df_modelo.info()"
   ]
  },
  {
   "cell_type": "markdown",
   "metadata": {},
   "source": [
    "Convertimos los ID a numeros enteros."
   ]
  },
  {
   "cell_type": "code",
   "execution_count": 142,
   "metadata": {},
   "outputs": [],
   "source": [
    "df_modelo['id'] = df_modelo['id'].astype(int)"
   ]
  },
  {
   "cell_type": "markdown",
   "metadata": {},
   "source": [
    "Observamos el DataFrame"
   ]
  },
  {
   "cell_type": "code",
   "execution_count": 143,
   "metadata": {},
   "outputs": [
    {
     "data": {
      "text/html": [
       "<div>\n",
       "<style scoped>\n",
       "    .dataframe tbody tr th:only-of-type {\n",
       "        vertical-align: middle;\n",
       "    }\n",
       "\n",
       "    .dataframe tbody tr th {\n",
       "        vertical-align: top;\n",
       "    }\n",
       "\n",
       "    .dataframe thead th {\n",
       "        text-align: right;\n",
       "    }\n",
       "</style>\n",
       "<table border=\"1\" class=\"dataframe\">\n",
       "  <thead>\n",
       "    <tr style=\"text-align: right;\">\n",
       "      <th></th>\n",
       "      <th>app_name</th>\n",
       "      <th>id</th>\n",
       "      <th>genres</th>\n",
       "    </tr>\n",
       "  </thead>\n",
       "  <tbody>\n",
       "    <tr>\n",
       "      <th>88310</th>\n",
       "      <td>Lost Summoner Kitty</td>\n",
       "      <td>761140</td>\n",
       "      <td>[Action, Casual, Indie, Simulation, Strategy]</td>\n",
       "    </tr>\n",
       "    <tr>\n",
       "      <th>88311</th>\n",
       "      <td>Ironbound</td>\n",
       "      <td>643980</td>\n",
       "      <td>[Free to Play, Indie, RPG, Strategy]</td>\n",
       "    </tr>\n",
       "    <tr>\n",
       "      <th>88312</th>\n",
       "      <td>Real Pool 3D - Poolians</td>\n",
       "      <td>670290</td>\n",
       "      <td>[Casual, Free to Play, Indie, Simulation, Sports]</td>\n",
       "    </tr>\n",
       "    <tr>\n",
       "      <th>88313</th>\n",
       "      <td>弹炸人2222</td>\n",
       "      <td>767400</td>\n",
       "      <td>[Action, Adventure, Casual]</td>\n",
       "    </tr>\n",
       "    <tr>\n",
       "      <th>88315</th>\n",
       "      <td>Battle Royale Trainer</td>\n",
       "      <td>772540</td>\n",
       "      <td>[Action, Adventure, Simulation]</td>\n",
       "    </tr>\n",
       "  </tbody>\n",
       "</table>\n",
       "</div>"
      ],
      "text/plain": [
       "                      app_name      id  \\\n",
       "88310      Lost Summoner Kitty  761140   \n",
       "88311                Ironbound  643980   \n",
       "88312  Real Pool 3D - Poolians  670290   \n",
       "88313                  弹炸人2222  767400   \n",
       "88315    Battle Royale Trainer  772540   \n",
       "\n",
       "                                                  genres  \n",
       "88310      [Action, Casual, Indie, Simulation, Strategy]  \n",
       "88311               [Free to Play, Indie, RPG, Strategy]  \n",
       "88312  [Casual, Free to Play, Indie, Simulation, Sports]  \n",
       "88313                        [Action, Adventure, Casual]  \n",
       "88315                    [Action, Adventure, Simulation]  "
      ]
     },
     "execution_count": 143,
     "metadata": {},
     "output_type": "execute_result"
    }
   ],
   "source": [
    "df_modelo.head()"
   ]
  },
  {
   "cell_type": "markdown",
   "metadata": {},
   "source": [
    "Lo que queremos ahora es crear una desanidar la lista en la columna 'genres' de modo de obtener para cada juego (app_name) una columna por genero. \n",
    "\n",
    "Esto lo generamos de la siguiente manera."
   ]
  },
  {
   "cell_type": "code",
   "execution_count": 144,
   "metadata": {},
   "outputs": [],
   "source": [
    "# Desanidamos la columna 'genres' y aplicar codificación one-hot\n",
    "df_modelo_final = df_modelo.explode('genres')\n",
    "df_modelo_final  = pd.get_dummies(df_modelo_final, columns=['genres'], prefix='genre')\n",
    "\n",
    "# Reorganizamos el DataFrame\n",
    "df_modelo_final = df_modelo_final.groupby(['app_name', 'id']).sum().reset_index()"
   ]
  },
  {
   "cell_type": "code",
   "execution_count": 145,
   "metadata": {},
   "outputs": [
    {
     "data": {
      "text/html": [
       "<div>\n",
       "<style scoped>\n",
       "    .dataframe tbody tr th:only-of-type {\n",
       "        vertical-align: middle;\n",
       "    }\n",
       "\n",
       "    .dataframe tbody tr th {\n",
       "        vertical-align: top;\n",
       "    }\n",
       "\n",
       "    .dataframe thead th {\n",
       "        text-align: right;\n",
       "    }\n",
       "</style>\n",
       "<table border=\"1\" class=\"dataframe\">\n",
       "  <thead>\n",
       "    <tr style=\"text-align: right;\">\n",
       "      <th></th>\n",
       "      <th>app_name</th>\n",
       "      <th>id</th>\n",
       "      <th>genre_Accounting</th>\n",
       "      <th>genre_Action</th>\n",
       "      <th>genre_Adventure</th>\n",
       "      <th>genre_Animation &amp;amp; Modeling</th>\n",
       "      <th>genre_Audio Production</th>\n",
       "      <th>genre_Casual</th>\n",
       "      <th>genre_Design &amp;amp; Illustration</th>\n",
       "      <th>genre_Early Access</th>\n",
       "      <th>...</th>\n",
       "      <th>genre_Photo Editing</th>\n",
       "      <th>genre_RPG</th>\n",
       "      <th>genre_Racing</th>\n",
       "      <th>genre_Simulation</th>\n",
       "      <th>genre_Software Training</th>\n",
       "      <th>genre_Sports</th>\n",
       "      <th>genre_Strategy</th>\n",
       "      <th>genre_Utilities</th>\n",
       "      <th>genre_Video Production</th>\n",
       "      <th>genre_Web Publishing</th>\n",
       "    </tr>\n",
       "  </thead>\n",
       "  <tbody>\n",
       "    <tr>\n",
       "      <th>0</th>\n",
       "      <td>! That Bastard Is Trying To Steal Our Gold !</td>\n",
       "      <td>449940</td>\n",
       "      <td>0</td>\n",
       "      <td>1</td>\n",
       "      <td>1</td>\n",
       "      <td>0</td>\n",
       "      <td>0</td>\n",
       "      <td>1</td>\n",
       "      <td>0</td>\n",
       "      <td>0</td>\n",
       "      <td>...</td>\n",
       "      <td>0</td>\n",
       "      <td>0</td>\n",
       "      <td>0</td>\n",
       "      <td>0</td>\n",
       "      <td>0</td>\n",
       "      <td>0</td>\n",
       "      <td>0</td>\n",
       "      <td>0</td>\n",
       "      <td>0</td>\n",
       "      <td>0</td>\n",
       "    </tr>\n",
       "    <tr>\n",
       "      <th>1</th>\n",
       "      <td>\"Barely Attuned Magic Thingy\" Staff</td>\n",
       "      <td>308163</td>\n",
       "      <td>0</td>\n",
       "      <td>1</td>\n",
       "      <td>0</td>\n",
       "      <td>0</td>\n",
       "      <td>0</td>\n",
       "      <td>0</td>\n",
       "      <td>0</td>\n",
       "      <td>0</td>\n",
       "      <td>...</td>\n",
       "      <td>0</td>\n",
       "      <td>1</td>\n",
       "      <td>0</td>\n",
       "      <td>0</td>\n",
       "      <td>0</td>\n",
       "      <td>0</td>\n",
       "      <td>0</td>\n",
       "      <td>0</td>\n",
       "      <td>0</td>\n",
       "      <td>0</td>\n",
       "    </tr>\n",
       "    <tr>\n",
       "      <th>2</th>\n",
       "      <td>\"Glow Ball\" - The billiard puzzle game</td>\n",
       "      <td>388390</td>\n",
       "      <td>0</td>\n",
       "      <td>0</td>\n",
       "      <td>0</td>\n",
       "      <td>0</td>\n",
       "      <td>0</td>\n",
       "      <td>1</td>\n",
       "      <td>0</td>\n",
       "      <td>0</td>\n",
       "      <td>...</td>\n",
       "      <td>0</td>\n",
       "      <td>0</td>\n",
       "      <td>0</td>\n",
       "      <td>0</td>\n",
       "      <td>0</td>\n",
       "      <td>1</td>\n",
       "      <td>1</td>\n",
       "      <td>0</td>\n",
       "      <td>0</td>\n",
       "      <td>0</td>\n",
       "    </tr>\n",
       "    <tr>\n",
       "      <th>3</th>\n",
       "      <td>\"Just Another Day\" - Seduce Me Otome CD</td>\n",
       "      <td>454790</td>\n",
       "      <td>0</td>\n",
       "      <td>0</td>\n",
       "      <td>0</td>\n",
       "      <td>0</td>\n",
       "      <td>0</td>\n",
       "      <td>1</td>\n",
       "      <td>0</td>\n",
       "      <td>0</td>\n",
       "      <td>...</td>\n",
       "      <td>0</td>\n",
       "      <td>0</td>\n",
       "      <td>0</td>\n",
       "      <td>1</td>\n",
       "      <td>0</td>\n",
       "      <td>0</td>\n",
       "      <td>0</td>\n",
       "      <td>0</td>\n",
       "      <td>0</td>\n",
       "      <td>0</td>\n",
       "    </tr>\n",
       "    <tr>\n",
       "      <th>4</th>\n",
       "      <td>\"Lethargic Sentience\" Wand</td>\n",
       "      <td>308164</td>\n",
       "      <td>0</td>\n",
       "      <td>1</td>\n",
       "      <td>0</td>\n",
       "      <td>0</td>\n",
       "      <td>0</td>\n",
       "      <td>0</td>\n",
       "      <td>0</td>\n",
       "      <td>0</td>\n",
       "      <td>...</td>\n",
       "      <td>0</td>\n",
       "      <td>1</td>\n",
       "      <td>0</td>\n",
       "      <td>0</td>\n",
       "      <td>0</td>\n",
       "      <td>0</td>\n",
       "      <td>0</td>\n",
       "      <td>0</td>\n",
       "      <td>0</td>\n",
       "      <td>0</td>\n",
       "    </tr>\n",
       "  </tbody>\n",
       "</table>\n",
       "<p>5 rows × 24 columns</p>\n",
       "</div>"
      ],
      "text/plain": [
       "                                       app_name      id  genre_Accounting  \\\n",
       "0  ! That Bastard Is Trying To Steal Our Gold !  449940                 0   \n",
       "1           \"Barely Attuned Magic Thingy\" Staff  308163                 0   \n",
       "2        \"Glow Ball\" - The billiard puzzle game  388390                 0   \n",
       "3       \"Just Another Day\" - Seduce Me Otome CD  454790                 0   \n",
       "4                    \"Lethargic Sentience\" Wand  308164                 0   \n",
       "\n",
       "   genre_Action  genre_Adventure  genre_Animation &amp; Modeling  \\\n",
       "0             1                1                               0   \n",
       "1             1                0                               0   \n",
       "2             0                0                               0   \n",
       "3             0                0                               0   \n",
       "4             1                0                               0   \n",
       "\n",
       "   genre_Audio Production  genre_Casual  genre_Design &amp; Illustration  \\\n",
       "0                       0             1                                0   \n",
       "1                       0             0                                0   \n",
       "2                       0             1                                0   \n",
       "3                       0             1                                0   \n",
       "4                       0             0                                0   \n",
       "\n",
       "   genre_Early Access  ...  genre_Photo Editing  genre_RPG  genre_Racing  \\\n",
       "0                   0  ...                    0          0             0   \n",
       "1                   0  ...                    0          1             0   \n",
       "2                   0  ...                    0          0             0   \n",
       "3                   0  ...                    0          0             0   \n",
       "4                   0  ...                    0          1             0   \n",
       "\n",
       "   genre_Simulation  genre_Software Training  genre_Sports  genre_Strategy  \\\n",
       "0                 0                        0             0               0   \n",
       "1                 0                        0             0               0   \n",
       "2                 0                        0             1               1   \n",
       "3                 1                        0             0               0   \n",
       "4                 0                        0             0               0   \n",
       "\n",
       "   genre_Utilities  genre_Video Production  genre_Web Publishing  \n",
       "0                0                       0                     0  \n",
       "1                0                       0                     0  \n",
       "2                0                       0                     0  \n",
       "3                0                       0                     0  \n",
       "4                0                       0                     0  \n",
       "\n",
       "[5 rows x 24 columns]"
      ]
     },
     "execution_count": 145,
     "metadata": {},
     "output_type": "execute_result"
    }
   ],
   "source": [
    "df_modelo_final.head(5)"
   ]
  },
  {
   "cell_type": "code",
   "execution_count": 146,
   "metadata": {},
   "outputs": [
    {
     "data": {
      "text/plain": [
       "(28849, 24)"
      ]
     },
     "execution_count": 146,
     "metadata": {},
     "output_type": "execute_result"
    }
   ],
   "source": [
    "df_modelo_final.shape"
   ]
  },
  {
   "cell_type": "markdown",
   "metadata": {},
   "source": [
    "Una vez que tenemos el DataFrame armado de esta manera, estamos listos para buscar la Similitud de Cosenos."
   ]
  },
  {
   "cell_type": "code",
   "execution_count": 147,
   "metadata": {},
   "outputs": [],
   "source": [
    "similitudes = cosine_similarity(df_modelo_final.iloc[:,3:])"
   ]
  },
  {
   "cell_type": "code",
   "execution_count": 148,
   "metadata": {},
   "outputs": [
    {
     "data": {
      "text/plain": [
       "(28849, 28849)"
      ]
     },
     "execution_count": 148,
     "metadata": {},
     "output_type": "execute_result"
    }
   ],
   "source": [
    "similitudes.shape"
   ]
  },
  {
   "cell_type": "markdown",
   "metadata": {},
   "source": [
    "Se observa que la cantidad de juegos que tenemos en nuetra base de datos es de 28.849."
   ]
  },
  {
   "cell_type": "markdown",
   "metadata": {},
   "source": [
    "Debido a que el peso de la matriz de similitud es muy grande y genera problemas en el rendimiento de la función, esta tomará como DataFrame de partida el generado anteriormente con el nombre de **df_modelo_final**. Una vez ingresado el DataFrame a la función, se calcula la matriz de similitud dentro de la misma para cada solicitud."
   ]
  },
  {
   "cell_type": "markdown",
   "metadata": {},
   "source": [
    "Además, siguiendo el mismo objetivo que es optimizar el desepeño de la función, lo que haremos será reducir el dataframe original disminuyendo la cantidad de juegos. Totamos esta decisión porque de no hacerlo, se presentan problemas cuando intentamos deployar la API en Render. "
   ]
  },
  {
   "cell_type": "markdown",
   "metadata": {},
   "source": [
    "Vamos a reducirlo a la mitad"
   ]
  },
  {
   "cell_type": "code",
   "execution_count": 149,
   "metadata": {},
   "outputs": [],
   "source": [
    "num_filas = len(df_modelo_final)\n",
    "\n",
    "df_modelo_final = df_modelo_final.iloc[:num_filas // 6]"
   ]
  },
  {
   "cell_type": "code",
   "execution_count": 150,
   "metadata": {},
   "outputs": [
    {
     "data": {
      "text/plain": [
       "(4808, 24)"
      ]
     },
     "execution_count": 150,
     "metadata": {},
     "output_type": "execute_result"
    }
   ],
   "source": [
    "df_modelo_final.shape"
   ]
  },
  {
   "cell_type": "code",
   "execution_count": 151,
   "metadata": {},
   "outputs": [],
   "source": [
    "df_modelo_final.to_parquet('df_modelo_final.parquet')"
   ]
  },
  {
   "cell_type": "markdown",
   "metadata": {},
   "source": [
    "Luego creamos la función de recomendación de juegos. "
   ]
  },
  {
   "cell_type": "code",
   "execution_count": 152,
   "metadata": {},
   "outputs": [],
   "source": [
    "def recomendacion_juego(id):\n",
    "    \n",
    "    id = int(id)\n",
    "    # Filtrar el juego de entrada por su ID\n",
    "    juego_seleccionado = df_modelo_final[df_modelo_final['id'] == id]\n",
    "    \n",
    "    if juego_seleccionado.empty:\n",
    "        return \"El juego con el ID especificado no existe en la base de datos.\"\n",
    "    \n",
    "    # Calcular la matriz de similitud coseno\n",
    "    similitudes = cosine_similarity(df_modelo_final.iloc[:,3:])\n",
    "    \n",
    "    # Obtener las puntuaciones de similitud del juego de entrada con otros juegos\n",
    "    similarity_scores = similitudes[df_modelo_final[df_modelo_final['id'] == id].index[0]]\n",
    "    \n",
    "    # Obtener los índices de los juegos más similares (excluyendo el juego de entrada)\n",
    "    indices_juegos_similares = similarity_scores.argsort()[::-1][1:6]\n",
    "    \n",
    "    # Obtener los nombres de los juegos recomendados\n",
    "    juegos_recomendados = df_modelo_final.iloc[indices_juegos_similares]['app_name']\n",
    "    \n",
    "    return juegos_recomendados"
   ]
  },
  {
   "cell_type": "markdown",
   "metadata": {},
   "source": [
    "**Ejemplo:**"
   ]
  },
  {
   "cell_type": "code",
   "execution_count": 154,
   "metadata": {},
   "outputs": [
    {
     "data": {
      "text/plain": [
       "629              Achievement Hunter: Begins\n",
       "4519                         Combat Raccoon\n",
       "1738                        Australian trip\n",
       "1739    Australian trip - Full music tracks\n",
       "4028               Chika Militant Cockroach\n",
       "Name: app_name, dtype: object"
      ]
     },
     "execution_count": 154,
     "metadata": {},
     "output_type": "execute_result"
    }
   ],
   "source": [
    "recomendacion_juego('449940')"
   ]
  }
 ],
 "metadata": {
  "kernelspec": {
   "display_name": "Python 3",
   "language": "python",
   "name": "python3"
  },
  "language_info": {
   "codemirror_mode": {
    "name": "ipython",
    "version": 3
   },
   "file_extension": ".py",
   "mimetype": "text/x-python",
   "name": "python",
   "nbconvert_exporter": "python",
   "pygments_lexer": "ipython3",
   "version": "3.10.9"
  },
  "orig_nbformat": 4
 },
 "nbformat": 4,
 "nbformat_minor": 2
}
